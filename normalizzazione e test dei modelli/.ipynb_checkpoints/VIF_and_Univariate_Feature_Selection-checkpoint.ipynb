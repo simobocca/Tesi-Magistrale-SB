{
 "cells": [
  {
   "cell_type": "code",
   "execution_count": 1,
   "metadata": {},
   "outputs": [],
   "source": [
    "import pymongo\n",
    "from pymongo import MongoClient\n",
    "client = MongoClient('mongodb://127.0.0.1:27017')\n",
    "db = client.sample\n",
    "\n",
    "import numpy as np\n",
    "import pandas as pd\n",
    "import matplotlib.pyplot as plt\n",
    "from pandas.tools.plotting import scatter_matrix\n",
    "\n",
    "from sklearn.preprocessing import RobustScaler"
   ]
  },
  {
   "cell_type": "code",
   "execution_count": 2,
   "metadata": {},
   "outputs": [],
   "source": [
    "\n",
    "samples = pd.read_csv('../features collection/results/tot/tot_teams_vectors_weighted.csv')\n",
    "samples = samples.drop(samples.columns[0], axis=1)\n",
    "samples_log = samples.apply(np.log)\n",
    "samples_log = samples_log.replace(-np.inf, 0)\n",
    "samples_log = samples_log.fillna(0)\n",
    "transformer = RobustScaler().fit(samples_log)\n",
    "samples_scaled = pd.DataFrame(transformer.transform(samples_log), columns=list(samples))"
   ]
  },
  {
   "cell_type": "code",
   "execution_count": 3,
   "metadata": {},
   "outputs": [],
   "source": [
    "# caricamento e normalizzazione dela variabile di target\n",
    "def load_target(path):\n",
    "\n",
    "    target = pd.read_csv(path)\n",
    "    target = target.drop(target.columns[0], axis=1)\n",
    "    target_log = target.apply(np.log)\n",
    "    target_log = target_log.replace(-np.inf, 0)\n",
    "    target_log = target_log.fillna(0)\n",
    "    transformer = RobustScaler().fit(target_log)\n",
    "    target_scaled = pd.DataFrame(transformer.transform(target_log), columns=['likes'])\n",
    "    return target_scaled"
   ]
  },
  {
   "cell_type": "code",
   "execution_count": 4,
   "metadata": {},
   "outputs": [],
   "source": [
    "# different target variables\n",
    "\n",
    "target_set_nLike = load_target('../features collection/results/tot/teams_nlikes_target.csv')\n",
    "target_set_nLikeNorm = load_target('../features collection/results/tot/teams_nlikesNormalized_target.csv')\n",
    "target_set_rankLike = load_target('../features collection/results/tot/teams_rankLikes_target.csv')\n",
    "target_set_rankLikeNorm = load_target('../features collection/results/tot/teams_rankLikesNormalized_target.csv')"
   ]
  },
  {
   "cell_type": "markdown",
   "metadata": {},
   "source": [
    "# VIF"
   ]
  },
  {
   "cell_type": "markdown",
   "metadata": {},
   "source": [
    "VIFs start at 1 and have no upper limit. A value of 1 indicates that there is no correlation between this independent variable and any others. VIFs between 1 and 5 suggest that there is a moderate correlation, but it is not severe enough to warrant corrective measures. VIFs greater than 5 represent critical levels of multicollinearity where the coefficients are poorly estimated, and the p-values are questionable."
   ]
  },
  {
   "cell_type": "code",
   "execution_count": 5,
   "metadata": {},
   "outputs": [],
   "source": [
    "from statsmodels.stats.outliers_influence import variance_inflation_factor\n",
    "\n",
    "def calculate_vif_(X, thresh):\n",
    "\n",
    "    #X - pandas dataframe\n",
    "    \n",
    "    variables = ['team_nusers',\n",
    "        'team_degree',\n",
    "        'team_degree_centrality',\n",
    "        'team_betweenness_centrality',\n",
    "        'team_closeness_centrality',\n",
    "        'team_eigenvector_centrality',\n",
    "        'team_pagerank',\n",
    "        'team_avg_users_nshot',\n",
    "        'team_avg_users_in_degree',\n",
    "        'team_avg_users_out_degree',\n",
    "        'team_avg_users_rank',\n",
    "        'team_avg_users_diversity',\n",
    "        'team_avg_users_nskills',\n",
    "        'team_avg_users_nfollowers',\n",
    "        'team_avg_users_nfollowings',       \n",
    "        'team_avg_users_avg_shots_ranking',\n",
    "        'team_avg_users_avg_shots_ntags',\n",
    "        'team_avg_users_avg_shots_ncomments',\n",
    "        'team_avg_users_avg_shots_nlikes',\n",
    "        'team_avg_users_avg_shots_nviews',\n",
    "        'team_avg_users_avg_shots_diversity'\n",
    "       ]\n",
    "\n",
    "    for i in np.arange(0, len(variables)):\n",
    "        \n",
    "        # Variance inflation factor measures how much the behavior (variance) of an independent variable is influenced, \n",
    "        # or inflated, by its interaction/correlation with the other independent variables.\n",
    "        \n",
    "        vif = [variance_inflation_factor(X[variables].values, ix) for ix in range(X[variables].shape[1])]\n",
    "        #print(vif)\n",
    "        maxloc = vif.index(max(vif))\n",
    "        if max(vif) > thresh:\n",
    "            #print('dropping \\'' + X[variables].columns[maxloc] + '\\' at index: ' + str(maxloc) +'\\n')\n",
    "            del variables[maxloc]\n",
    "            \n",
    "    return sorted(zip(map(lambda x: round(x, 4), vif), variables), reverse=False)\n",
    "    "
   ]
  },
  {
   "cell_type": "code",
   "execution_count": 6,
   "metadata": {},
   "outputs": [
    {
     "name": "stdout",
     "output_type": "stream",
     "text": [
      "\n",
      "Remaining variables sorted by VIF score, and tresh = 5.0\n",
      "(1.5018, 'team_eigenvector_centrality')\n",
      "(1.5441, 'team_closeness_centrality')\n",
      "(1.7944, 'team_avg_users_rank')\n",
      "(2.0052, 'team_avg_users_out_degree')\n",
      "(2.4625, 'team_betweenness_centrality')\n",
      "(2.5271, 'team_avg_users_avg_shots_nviews')\n",
      "(2.7471, 'team_degree')\n",
      "(3.1146, 'team_avg_users_diversity')\n",
      "(3.1183, 'team_avg_users_in_degree')\n",
      "(3.1788, 'team_avg_users_avg_shots_ncomments')\n",
      "(3.1948, 'team_avg_users_avg_shots_ranking')\n",
      "(3.2611, 'team_avg_users_nskills')\n",
      "(3.5364, 'team_avg_users_avg_shots_diversity')\n",
      "(4.3221, 'team_nusers')\n",
      "(4.8364, 'team_avg_users_nshot')\n"
     ]
    }
   ],
   "source": [
    "thresh = 5.0\n",
    "print '\\nRemaining variables sorted by VIF score, and tresh =',thresh\n",
    "res = calculate_vif_(samples_scaled, thresh)\n",
    "for elem in res:\n",
    "    print elem"
   ]
  },
  {
   "cell_type": "markdown",
   "metadata": {},
   "source": [
    "# Univariate Feature Selection"
   ]
  },
  {
   "cell_type": "markdown",
   "metadata": {},
   "source": [
    "Univariate feature selection examines each feature individually to determine the strength of the relationship of the feature with the response variable. These methods are simple to run and understand and are in general particularly good for gaining a better understanding of data (but not necessarily for optimizing the feature set for better generalization). There are lot of different options for univariate selection."
   ]
  },
  {
   "cell_type": "markdown",
   "metadata": {},
   "source": [
    "For each feature, we plot the p-values for the univariate feature selection and the corresponding weights of an SVM. We can see that univariate feature selection selects the informative features and that these have larger SVM weights."
   ]
  },
  {
   "cell_type": "code",
   "execution_count": 11,
   "metadata": {},
   "outputs": [
    {
     "name": "stderr",
     "output_type": "stream",
     "text": [
      "/home/simo/anaconda2/lib/python2.7/site-packages/sklearn/preprocessing/label.py:111: DataConversionWarning: A column-vector y was passed when a 1d array was expected. Please change the shape of y to (n_samples, ), for example using ravel().\n",
      "  y = column_or_1d(y, warn=True)\n"
     ]
    }
   ],
   "source": [
    "from sklearn import preprocessing\n",
    "from sklearn import utils\n",
    "\n",
    "lab_enc = preprocessing.LabelEncoder()\n",
    "encoded_target = lab_enc.fit_transform(target_set_rankLikeNorm)"
   ]
  },
  {
   "cell_type": "code",
   "execution_count": 15,
   "metadata": {},
   "outputs": [
    {
     "name": "stderr",
     "output_type": "stream",
     "text": [
      "/home/simo/anaconda2/lib/python2.7/site-packages/sklearn/utils/validation.py:578: DataConversionWarning: A column-vector y was passed when a 1d array was expected. Please change the shape of y to (n_samples, ), for example using ravel().\n",
      "  y = column_or_1d(y, warn=True)\n",
      "/home/simo/anaconda2/lib/python2.7/site-packages/ipykernel_launcher.py:7: RuntimeWarning: divide by zero encountered in log10\n",
      "  import sys\n",
      "/home/simo/anaconda2/lib/python2.7/site-packages/ipykernel_launcher.py:8: RuntimeWarning: invalid value encountered in divide\n",
      "  \n"
     ]
    },
    {
     "name": "stdout",
     "output_type": "stream",
     "text": [
      "(0.0, 'team_pagerank')\n",
      "(0.0, 'team_nusers')\n",
      "(0.0, 'team_eigenvector_centrality')\n",
      "(0.0, 'team_degree_centrality')\n",
      "(0.0, 'team_degree')\n",
      "(0.0, 'team_closeness_centrality')\n",
      "(0.0, 'team_betweenness_centrality')\n",
      "(nan, 'team_avg_users_in_degree')\n",
      "(0.0, 'team_avg_users_rank')\n",
      "(0.0, 'team_avg_users_out_degree')\n",
      "(0.0, 'team_avg_users_nskills')\n",
      "(0.0, 'team_avg_users_nshot')\n",
      "(0.0, 'team_avg_users_diversity')\n",
      "(nan, 'team_avg_users_nfollowers')\n",
      "(0.0, 'team_avg_users_nfollowings')\n",
      "(0.0, 'team_avg_users_avg_shots_ranking')\n",
      "(0.0, 'team_avg_users_avg_shots_nviews')\n",
      "(0.0, 'team_avg_users_avg_shots_ntags')\n",
      "(0.0, 'team_avg_users_avg_shots_nlikes')\n",
      "(0.0, 'team_avg_users_avg_shots_ncomments')\n",
      "(0.0, 'team_avg_users_avg_shots_diversity')\n"
     ]
    },
    {
     "data": {
      "image/png": "[encoded data removed]",
      "text/plain": [
       "<Figure size 1440x720 with 1 Axes>"
      ]
     },
     "metadata": {},
     "output_type": "display_data"
    }
   ],
   "source": [
    "from sklearn.feature_selection import SelectPercentile, f_classif\n",
    "from sklearn import svm\n",
    "\n",
    "X_indices = np.arange(samples_scaled.shape[-1])\n",
    "selector = SelectPercentile(f_classif, percentile=10)\n",
    "selector.fit(samples_scaled, target_set_rankLikeNorm)\n",
    "scores = -np.log10(selector.pvalues_)\n",
    "scores /= scores.max()\n",
    "plt.bar(X_indices - .45, scores, width=.2,\n",
    "        label=r'Univariate score ($-Log(p_{value})$)', color='darkorange',\n",
    "        edgecolor='black')\n",
    "\n",
    "lista = zip(map(lambda x: round(x, 4), scores), list(samples_scaled))\n",
    "sorted_list = sorted(zip(map(lambda x: round(x, 4), scores), list(samples_scaled)), reverse=True)\n",
    "for elem in sorted_list:\n",
    "    print elem\n",
    "\n",
    "\n",
    "# Compare to the weights of an SVM\n",
    "clf = svm.SVC(kernel='linear')\n",
    "clf.fit(samples_scaled, encoded_target)\n",
    "\n",
    "svm_weights = (clf.coef_ ** 2).sum(axis=0)\n",
    "svm_weights /= svm_weights.max()\n",
    "\n",
    "plt.bar(X_indices - .25, svm_weights, width=.2, label='SVM weight',\n",
    "        color='navy', edgecolor='black')\n",
    "\n",
    "clf_selected = svm.SVC(kernel='linear')\n",
    "clf_selected.fit(selector.transform(samples_scaled), encoded_target)\n",
    "\n",
    "svm_weights_selected = (clf_selected.coef_ ** 2).sum(axis=0)\n",
    "svm_weights_selected /= svm_weights_selected.max()\n",
    "\n",
    "plt.bar(X_indices[selector.get_support()] - .05, svm_weights_selected,\n",
    "        width=.2, label='SVM weights after selection', color='c',\n",
    "        edgecolor='black')\n",
    "\n",
    "\n",
    "plt.title(\"Comparing feature selection\")\n",
    "plt.xlabel('Features')\n",
    "\n",
    "\n",
    "names = []\n",
    "for elem in lista:\n",
    "    names.append(elem[1])\n",
    "\n",
    "plt.xticks(X_indices, names)\n",
    "plt.xticks(rotation=90)\n",
    "plt.axis()\n",
    "plt.legend(loc='upper right')\n",
    "\n",
    "fig = plt.gcf()\n",
    "fig.set_size_inches(20,10)\n",
    "plt.ylim(0,1.1)\n",
    "\n",
    "plt.show()"
   ]
  },
  {
   "cell_type": "markdown",
   "metadata": {},
   "source": [
    "\n",
    "In the total set of features, only the 2 first ones are significant. We can see that they have the highest score with univariate feature selection. The SVM assigns a large weight to one of these features, but also Selects many of the non-informative features. Applying univariate feature selection before the SVM increases the SVM weight attributed to the significant features, and will thus improve classification."
   ]
  },
  {
   "cell_type": "code",
   "execution_count": null,
   "metadata": {},
   "outputs": [],
   "source": []
  }
 ],
 "metadata": {
  "kernelspec": {
   "display_name": "Python 2",
   "language": "python",
   "name": "python2"
  },
  "language_info": {
   "codemirror_mode": {
    "name": "ipython",
    "version": 2
   },
   "file_extension": ".py",
   "mimetype": "text/x-python",
   "name": "python",
   "nbconvert_exporter": "python",
   "pygments_lexer": "ipython2",
   "version": "2.7.15"
  }
 },
 "nbformat": 4,
 "nbformat_minor": 2
}
