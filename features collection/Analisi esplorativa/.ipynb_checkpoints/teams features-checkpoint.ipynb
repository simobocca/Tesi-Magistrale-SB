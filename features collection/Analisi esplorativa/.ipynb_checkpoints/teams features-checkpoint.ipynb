{
 "cells": [
  {
   "cell_type": "markdown",
   "metadata": {},
   "source": [
    "# Raccolta features per TEAMS"
   ]
  },
  {
   "cell_type": "code",
   "execution_count": null,
   "metadata": {},
   "outputs": [],
   "source": [
    "import pymongo\n",
    "from pymongo import MongoClient\n",
    "\n",
    "from pandas import DataFrame, read_csv\n",
    "import json\n",
    "import matplotlib.pyplot as plt\n",
    "import pandas as pd #this is how I usually import pandas\n",
    "import sys #only needed to determine Python version number\n",
    "import matplotlib #only needed to determine Matplotlib version number\n",
    "\n",
    "client = MongoClient('mongodb://127.0.0.1:27017')\n",
    "db = client.sample\n",
    "\n",
    "cu = db.users.find()\n",
    "cs = db.shots.find()\n",
    "cf = db.followers.find()\n",
    "cl = db.likes.find()\n",
    "ct = db.teams.find()\n",
    "cutfs = db.user_team_first_shot.find()\n",
    "csk = db.skills.find()"
   ]
  },
  {
   "cell_type": "code",
   "execution_count": null,
   "metadata": {},
   "outputs": [],
   "source": [
    "usernames_no_repeated = []\n",
    "for user in cutfs:\n",
    "    if user['user'] not in usernames_no_repeated:\n",
    "        usernames_no_repeated.append(user['user'])"
   ]
  },
  {
   "cell_type": "code",
   "execution_count": null,
   "metadata": {},
   "outputs": [],
   "source": [
    "usernames_no_repeated[0]"
   ]
  },
  {
   "cell_type": "code",
   "execution_count": null,
   "metadata": {},
   "outputs": [],
   "source": [
    "db.user_team_first_shot.find({'user':'citrusbyte'})[0]"
   ]
  },
  {
   "cell_type": "code",
   "execution_count": null,
   "metadata": {},
   "outputs": [],
   "source": [
    "len(usernames_no_repeated)"
   ]
  },
  {
   "cell_type": "markdown",
   "metadata": {},
   "source": [
    "### Media degli shots di uno User in un Team"
   ]
  },
  {
   "cell_type": "code",
   "execution_count": null,
   "metadata": {},
   "outputs": [],
   "source": [
    "shot_number_for_user_in_team = []\n",
    "\n",
    "i=0\n",
    "\n",
    "for u in usernames_no_repeated:\n",
    "    active_user = db.shots.find({'username': u})\n",
    "    if active_user.count() > 0:\n",
    "        temp_cursor = db.user_team_first_shot.find({'user': active_user[0]['username']})\n",
    "        for t in temp_cursor:\n",
    "            elem = {'team': t['team'], 'user': t['user'], 'n_shots': len(active_user[0]['shots'])}\n",
    "            shot_number_for_user_in_team.append(elem)\n",
    "    \n",
    "    i=i+1\n",
    "    print i"
   ]
  },
  {
   "cell_type": "code",
   "execution_count": null,
   "metadata": {},
   "outputs": [],
   "source": [
    "len(shot_number_for_user_in_team)"
   ]
  },
  {
   "cell_type": "markdown",
   "metadata": {},
   "source": [
    "scrivere su file "
   ]
  },
  {
   "cell_type": "code",
   "execution_count": null,
   "metadata": {},
   "outputs": [],
   "source": [
    "with open(\"/home/simo/UnInfo/Tesi Magistrale/Dataset/shot_number_for_user_in_team.txt\", mode='a') as f:\n",
    "    for s in shot_number_for_user_in_team:\n",
    "        f.write(str(s['team'])+' - '+str(s['user'])+' - '+str(s['n_shots'])+'\\n')"
   ]
  },
  {
   "cell_type": "markdown",
   "metadata": {},
   "source": [
    "leggere da file"
   ]
  },
  {
   "cell_type": "code",
   "execution_count": null,
   "metadata": {},
   "outputs": [],
   "source": [
    "def find_nth(haystack, needle, n):\n",
    "    start = haystack.find(needle)\n",
    "    while start >= 0 and n > 1:\n",
    "        start = haystack.find(needle, start+len(needle))\n",
    "        n -= 1\n",
    "    return start"
   ]
  },
  {
   "cell_type": "code",
   "execution_count": null,
   "metadata": {},
   "outputs": [],
   "source": [
    "shot_number_for_user_in_team = []\n",
    "\n",
    "with open(\"/home/simo/UnInfo/Tesi Magistrale/Dataset/features/shot_number_for_user_in_team.txt\", \"r\") as ins:\n",
    "    for line in ins:\n",
    "        pr_occ = find_nth(line, '-', 1)\n",
    "        \n",
    "        n = line.count('-')\n",
    "        sec_occ = find_nth(line, '-', n)\n",
    "        \n",
    "        team = line[0:pr_occ-1]\n",
    "        user = line[pr_occ+2:sec_occ-1]\n",
    "        n_shots = line[sec_occ+2:len(line)-1]\n",
    "        \n",
    "        elem = {'team': team, 'user': user, 'n_shots': n_shots}\n",
    "        shot_number_for_user_in_team.append(elem)"
   ]
  },
  {
   "cell_type": "markdown",
   "metadata": {},
   "source": [
    "numero medio di shot per utente in un team"
   ]
  },
  {
   "cell_type": "code",
   "execution_count": null,
   "metadata": {},
   "outputs": [],
   "source": [
    "def mean_value_of_shots(team):\n",
    "    count = 0\n",
    "    users_in_team = 0\n",
    "    for t in shot_number_for_user_in_team:\n",
    "        if t['team'] == team:\n",
    "            users_in_team = users_in_team + 1;\n",
    "            count = count + int(t['n_shots'])\n",
    "    \n",
    "    print 'MEAN VALUE OF SHOTS IN TEAM '+team+' :'\n",
    "    print float(count)/float(users_in_team)    "
   ]
  },
  {
   "cell_type": "code",
   "execution_count": null,
   "metadata": {},
   "outputs": [],
   "source": [
    "def value_of_shots(team):\n",
    "    count = 0\n",
    "    for t in shot_number_for_user_in_team:\n",
    "        if t['team'] == team:\n",
    "            count = count + int(t['n_shots'])\n",
    "    \n",
    "    return count"
   ]
  },
  {
   "cell_type": "code",
   "execution_count": null,
   "metadata": {},
   "outputs": [],
   "source": [
    "count = 0\n",
    "for t in ct:\n",
    "    count = count + value_of_shots(t['username'])\n",
    "    \n",
    "print 'MEAN VALUE OF SHOTS PER TEAMS: ' #il numero medio di shots tra tutti i team\n",
    "print float(count)/float(ct.count())"
   ]
  },
  {
   "cell_type": "code",
   "execution_count": null,
   "metadata": {},
   "outputs": [],
   "source": [
    "max = 0\n",
    "max_team = {}\n",
    "for t in ct:\n",
    "    if value_of_shots(t['username']) > max:\n",
    "        max = value_of_shots(t['username'])\n",
    "        max_team = t\n",
    "    \n",
    "print 'TEAM WITH MORE SHOTS: '\n",
    "print 'NUMBER OF SHOTS: '+str(max)\n",
    "print max_team['username']"
   ]
  },
  {
   "cell_type": "code",
   "execution_count": null,
   "metadata": {},
   "outputs": [],
   "source": [
    "mean_value_of_shots('Slaptastick')"
   ]
  },
  {
   "cell_type": "code",
   "execution_count": null,
   "metadata": {},
   "outputs": [],
   "source": []
  }
 ],
 "metadata": {
  "kernelspec": {
   "display_name": "Python 2",
   "language": "python",
   "name": "python2"
  },
  "language_info": {
   "codemirror_mode": {
    "name": "ipython",
    "version": 2
   },
   "file_extension": ".py",
   "mimetype": "text/x-python",
   "name": "python",
   "nbconvert_exporter": "python",
   "pygments_lexer": "ipython2",
   "version": "2.7.15"
  }
 },
 "nbformat": 4,
 "nbformat_minor": 2
}
