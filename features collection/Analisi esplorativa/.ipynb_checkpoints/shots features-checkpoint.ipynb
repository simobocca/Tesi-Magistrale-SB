{
 "cells": [
  {
   "cell_type": "markdown",
   "metadata": {},
   "source": [
    "# Raccolta features per SHOTS"
   ]
  },
  {
   "cell_type": "code",
   "execution_count": null,
   "metadata": {},
   "outputs": [],
   "source": [
    "import pymongo\n",
    "from pymongo import MongoClient\n",
    "\n",
    "from pandas import DataFrame, read_csv\n",
    "import json\n",
    "import matplotlib.pyplot as plt\n",
    "import pandas as pd #this is how I usually import pandas\n",
    "import sys #only needed to determine Python version number\n",
    "import matplotlib #only needed to determine Matplotlib version number\n",
    "\n",
    "client = MongoClient('mongodb://127.0.0.1:27017')\n",
    "db = client.sample\n",
    "\n",
    "cu = db.users.find()\n",
    "cs = db.shots.find()\n",
    "cf = db.followers.find()\n",
    "cl = db.likes.find()\n",
    "ct = db.teams.find()\n",
    "cutfs = db.user_team_first_shot.find()\n",
    "csk = db.skills.find()"
   ]
  },
  {
   "cell_type": "code",
   "execution_count": null,
   "metadata": {},
   "outputs": [],
   "source": [
    "usernames_no_repeated = []\n",
    "for user in cutfs:\n",
    "    if user['user'] not in usernames_no_repeated:\n",
    "        usernames_no_repeated.append(user['user'])"
   ]
  },
  {
   "cell_type": "code",
   "execution_count": null,
   "metadata": {},
   "outputs": [],
   "source": [
    "len(usernames_no_repeated)"
   ]
  },
  {
   "cell_type": "markdown",
   "metadata": {},
   "source": [
    "### Tags più frequenti"
   ]
  },
  {
   "cell_type": "code",
   "execution_count": null,
   "metadata": {},
   "outputs": [],
   "source": [
    "%%time\n",
    "\n",
    "tags_found = []\n",
    "\n",
    "i=0\n",
    "\n",
    "for u in usernames_no_repeated:\n",
    "    active_user = db.shots.find({'username': u})\n",
    "    if active_user.count() > 0:\n",
    "        for s in active_user[0]['shots']:\n",
    "            tags = s['tags']\n",
    "            for t in tags:\n",
    "                found = False\n",
    "                for elem in tags_found:\n",
    "                    if elem['tag'] == t:\n",
    "                        elem.update({'count': elem['count']+1})\n",
    "                        found = True\n",
    "                        break\n",
    "\n",
    "                if not found:\n",
    "                    tf = {'tag': t, 'count': 1}\n",
    "                    tags_found.append(tf)\n",
    "\n",
    "                #print t   \n",
    "            \n",
    "    i=i+1\n",
    "    print i\n",
    "        \n",
    "for t in tags_found:\n",
    "    print t"
   ]
  },
  {
   "cell_type": "code",
   "execution_count": null,
   "metadata": {},
   "outputs": [],
   "source": [
    "len(tags_found)"
   ]
  },
  {
   "cell_type": "markdown",
   "metadata": {},
   "source": [
    "scrivere su file"
   ]
  },
  {
   "cell_type": "code",
   "execution_count": null,
   "metadata": {},
   "outputs": [],
   "source": [
    "import sys  \n",
    "reload(sys)  \n",
    "sys.setdefaultencoding('utf8')\n",
    "\n",
    "with open(\"/home/simo/UnInfo/Tesi Magistrale/Dataset/shots_tags_frequences.txt\", mode='a') as f:\n",
    "    for t in tags_found:\n",
    "        f.write(str(t['tag'])+' - '+str(t['count'])+'\\n')"
   ]
  },
  {
   "cell_type": "markdown",
   "metadata": {},
   "source": [
    "leggere da file"
   ]
  },
  {
   "cell_type": "code",
   "execution_count": null,
   "metadata": {},
   "outputs": [],
   "source": [
    "tags_found = []\n",
    "\n",
    "with open(\"/home/simo/UnInfo/Tesi Magistrale/Dataset/features/shots_tags_frequences.txt\", \"r\") as ins:\n",
    "    for line in ins:\n",
    "        tag = line[0:line.rfind('-')-1]\n",
    "        count = line[line.rfind('-')+2:len(line)-1]\n",
    "        elem = {'tag': tag, 'count': count}\n",
    "        tags_found.append(elem)"
   ]
  },
  {
   "cell_type": "markdown",
   "metadata": {},
   "source": [
    "Stampa degli n tag piu frequenti\n"
   ]
  },
  {
   "cell_type": "code",
   "execution_count": null,
   "metadata": {},
   "outputs": [],
   "source": [
    "def n_most_frequent(n, tag_list):\n",
    "    max_tag_prev = {'count':1000000}\n",
    "    for i in range(0,n):\n",
    "        max = 0\n",
    "        max_tag = {}\n",
    "        for t in tag_list:\n",
    "            if int(t['count']) > max and int(t['count']) < int(max_tag_prev['count']):\n",
    "                max = int(t['count'])\n",
    "                max_tag = t\n",
    "                \n",
    "        \n",
    "        max_tag_prev = max_tag\n",
    "        print max_tag"
   ]
  },
  {
   "cell_type": "code",
   "execution_count": null,
   "metadata": {},
   "outputs": [],
   "source": [
    "len(tags_found)"
   ]
  },
  {
   "cell_type": "code",
   "execution_count": null,
   "metadata": {},
   "outputs": [],
   "source": [
    "n_most_frequent(10, tags_found)"
   ]
  },
  {
   "cell_type": "markdown",
   "metadata": {},
   "source": [
    "### Shtos con più tags"
   ]
  },
  {
   "cell_type": "code",
   "execution_count": null,
   "metadata": {},
   "outputs": [],
   "source": [
    "shots_tags_count = []\n",
    "\n",
    "i=0\n",
    "\n",
    "for u in usernames_no_repeated:\n",
    "    active_user = db.shots.find({'username': u})\n",
    "    if active_user.count() > 0:\n",
    "        for s in active_user[0]['shots']:\n",
    "            tags_count = {'shot': s['id'], 'n_tags': len(s['tags'])}\n",
    "            shots_tags_count.append(tags_count)\n",
    "            \n",
    "    i=i+1\n",
    "    print i\n",
    "        \n",
    "for s in shots_tags_count:\n",
    "    print s"
   ]
  },
  {
   "cell_type": "markdown",
   "metadata": {},
   "source": [
    "leggere da file"
   ]
  },
  {
   "cell_type": "code",
   "execution_count": null,
   "metadata": {},
   "outputs": [],
   "source": [
    "shots_tags_count = []\n",
    "\n",
    "with open(\"/home/simo/UnInfo/Tesi Magistrale/Dataset/features/tags_per_shot.txt\", \"r\") as ins:\n",
    "    for line in ins:\n",
    "        tag = line[0:line.rfind('-')-1]\n",
    "        count = line[line.rfind('-')+2:len(line)-1]\n",
    "        elem = {'shot': tag, 'n_tags': count}\n",
    "        shots_tags_count.append(elem)"
   ]
  },
  {
   "cell_type": "markdown",
   "metadata": {},
   "source": [
    "scrivere su file"
   ]
  },
  {
   "cell_type": "code",
   "execution_count": null,
   "metadata": {},
   "outputs": [],
   "source": [
    "with open(\"/home/simo/UnInfo/Tesi Magistrale/Dataset/tags_per_shot.txt\", mode='a') as f:\n",
    "    for s in shots_tags_count:\n",
    "        f.write(str(s['shot'])+' - '+str(s['n_tags'])+'\\n')"
   ]
  },
  {
   "cell_type": "markdown",
   "metadata": {},
   "source": [
    "Stampa gli n shots con piu tag"
   ]
  },
  {
   "cell_type": "code",
   "execution_count": null,
   "metadata": {},
   "outputs": [],
   "source": [
    "def n_shots_with_more_tags(n, shot_list):\n",
    "    max_shot_prev = {'n_tags':1000000}\n",
    "    for i in range(0,n):\n",
    "        max = 0\n",
    "        max_shot = {}\n",
    "        for s in shot_list:\n",
    "            if int(s['n_tags']) > max and int(s['n_tags']) < int(max_shot_prev['n_tags']):\n",
    "                max = int(s['n_tags'])\n",
    "                max_shot = s\n",
    "                \n",
    "        \n",
    "        max_shot_prev = max_shot\n",
    "        print max_shot\n"
   ]
  },
  {
   "cell_type": "code",
   "execution_count": null,
   "metadata": {},
   "outputs": [],
   "source": [
    "n_shots_with_more_tags(10, shots_tags_count)"
   ]
  },
  {
   "cell_type": "markdown",
   "metadata": {},
   "source": [
    "Distribuzione dei tags negli shots"
   ]
  },
  {
   "cell_type": "code",
   "execution_count": null,
   "metadata": {},
   "outputs": [],
   "source": [
    "shots_tags_count[0]"
   ]
  },
  {
   "cell_type": "code",
   "execution_count": null,
   "metadata": {},
   "outputs": [],
   "source": [
    "def tags_distribution(shot_list):\n",
    "    \n",
    "    values_found = []\n",
    "    \n",
    "    tags_freq = []\n",
    "    \n",
    "    for i in range(0,len(shot_list)):\n",
    "        if shot_list[i]['n_tags'] not in values_found:\n",
    "            values_found.append(shot_list[i]['n_tags'])\n",
    "            count = 0\n",
    "            for j in range(i,len(shot_list)):\n",
    "                if shot_list[j]['n_tags'] == shot_list[i]['n_tags']:\n",
    "                    count = count + 1\n",
    "            \n",
    "            # elem indica quanti shots hanno un certo numero di tags\n",
    "            elem = {'tag_quantity': shot_list[i]['n_tags'], 'how_many_shots': count}\n",
    "            tags_freq.append(elem)\n",
    "            \n",
    "    return tags_freq"
   ]
  },
  {
   "cell_type": "code",
   "execution_count": null,
   "metadata": {},
   "outputs": [],
   "source": [
    "distrib = tags_distribution(shots_tags_count)"
   ]
  },
  {
   "cell_type": "code",
   "execution_count": null,
   "metadata": {},
   "outputs": [],
   "source": [
    "distrib"
   ]
  },
  {
   "cell_type": "code",
   "execution_count": null,
   "metadata": {},
   "outputs": [],
   "source": [
    "def extract_quantity(json):\n",
    "    try:\n",
    "        return int(json['tag_quantity'])\n",
    "    except KeyError:\n",
    "        return -1"
   ]
  },
  {
   "cell_type": "markdown",
   "metadata": {},
   "source": [
    "### Media delle visualizzazioni degli shots (per utente)"
   ]
  },
  {
   "cell_type": "code",
   "execution_count": null,
   "metadata": {},
   "outputs": [],
   "source": [
    "shots_views = []\n",
    "\n",
    "i=0\n",
    "\n",
    "for u in usernames_no_repeated:\n",
    "    active_user = db.shots.find({'username': u})\n",
    "    if active_user.count() > 0:\n",
    "        for s in active_user[0]['shots']:\n",
    "            views = {'shot': s['id'], 'views_count': s['views_count']}\n",
    "            shots_views.append(views)\n",
    "\n",
    "    i=i+1\n",
    "    print i\n",
    "        \n",
    "for v in shots_views:\n",
    "    print v"
   ]
  },
  {
   "cell_type": "markdown",
   "metadata": {},
   "source": [
    "scrivere su file"
   ]
  },
  {
   "cell_type": "code",
   "execution_count": null,
   "metadata": {},
   "outputs": [],
   "source": [
    "import sys  \n",
    "reload(sys)  \n",
    "sys.setdefaultencoding('utf8')\n",
    "\n",
    "with open(\"/home/simo/UnInfo/Tesi Magistrale/Dataset/shots_views.txt\", mode='a') as f:\n",
    "    for v in shots_views:\n",
    "        f.write(str(v['shot'])+' - '+str(v['views_count'])+'\\n')"
   ]
  },
  {
   "cell_type": "markdown",
   "metadata": {},
   "source": [
    "### Media e valore massimo dei commenti"
   ]
  },
  {
   "cell_type": "code",
   "execution_count": null,
   "metadata": {},
   "outputs": [],
   "source": [
    "shots_comments = []\n",
    "\n",
    "i=0\n",
    "\n",
    "for u in usernames_no_repeated:\n",
    "    active_user = db.shots.find({'username': u})\n",
    "    if active_user.count() > 0:\n",
    "        for s in active_user[0]['shots']:\n",
    "            comments = {'shot': s['id'], 'comments_count': s['comments_count']}\n",
    "            shots_comments.append(comments)\n",
    "\n",
    "    i=i+1\n",
    "    print i\n",
    "        \n",
    "for c in shots_comments:\n",
    "    print c"
   ]
  },
  {
   "cell_type": "markdown",
   "metadata": {},
   "source": [
    "scrivere su file"
   ]
  },
  {
   "cell_type": "code",
   "execution_count": null,
   "metadata": {},
   "outputs": [],
   "source": [
    "with open(\"/home/simo/UnInfo/Tesi Magistrale/Dataset/shots_comments.txt\", mode='a') as f:\n",
    "    for v in shots_comments:\n",
    "        f.write(str(v['shot'])+' - '+str(v['comments_count'])+'\\n')"
   ]
  },
  {
   "cell_type": "markdown",
   "metadata": {},
   "source": [
    "media dei commenti"
   ]
  },
  {
   "cell_type": "code",
   "execution_count": null,
   "metadata": {},
   "outputs": [],
   "source": [
    "count = 0\n",
    "for s in shots_comments:\n",
    "    count = count + s['comments_count']\n",
    "\n",
    "print 'AVERAGE COMMENTS:'\n",
    "print float(count)/float(len(shots_comments))\n",
    "    "
   ]
  },
  {
   "cell_type": "markdown",
   "metadata": {},
   "source": [
    "valore massimo di commenti"
   ]
  },
  {
   "cell_type": "code",
   "execution_count": null,
   "metadata": {},
   "outputs": [],
   "source": [
    "max = 0\n",
    "max_shot = {}\n",
    "for s in shots_comments:\n",
    "    if s['comments_count'] > max:\n",
    "        max = s['comments_count']\n",
    "        max_shot = s\n",
    "        \n",
    "print 'MAX COMMENTS VALUE: ', max\n",
    "print max_shot"
   ]
  },
  {
   "cell_type": "code",
   "execution_count": null,
   "metadata": {},
   "outputs": [],
   "source": []
  }
 ],
 "metadata": {
  "kernelspec": {
   "display_name": "Python 2",
   "language": "python",
   "name": "python2"
  },
  "language_info": {
   "codemirror_mode": {
    "name": "ipython",
    "version": 2
   },
   "file_extension": ".py",
   "mimetype": "text/x-python",
   "name": "python",
   "nbconvert_exporter": "python",
   "pygments_lexer": "ipython2",
   "version": "2.7.15"
  }
 },
 "nbformat": 4,
 "nbformat_minor": 2
}
