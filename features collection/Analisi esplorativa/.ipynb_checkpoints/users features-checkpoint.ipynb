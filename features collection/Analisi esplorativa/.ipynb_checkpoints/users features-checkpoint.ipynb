{
 "cells": [
  {
   "cell_type": "markdown",
   "metadata": {},
   "source": [
    "# Analisi qualitativa per USERS"
   ]
  },
  {
   "cell_type": "code",
   "execution_count": 1,
   "metadata": {},
   "outputs": [],
   "source": [
    "import pymongo\n",
    "from pymongo import MongoClient\n",
    "\n",
    "from pandas import DataFrame, read_csv\n",
    "import json\n",
    "import matplotlib.pyplot as plt\n",
    "import pandas as pd #this is how I usually import pandas\n",
    "import sys #only needed to determine Python version number\n",
    "import matplotlib #only needed to determine Matplotlib version number\n",
    "\n",
    "client = MongoClient('mongodb://127.0.0.1:27017')\n",
    "db = client.sample\n",
    "\n",
    "cu = db.users.find()\n",
    "cs = db.shots.find()\n",
    "cf = db.followers.find()\n",
    "cl = db.likes.find()\n",
    "ct = db.teams.find()\n",
    "cutfs = db.user_team_first_shot.find()\n",
    "csk = db.skills.find()"
   ]
  },
  {
   "cell_type": "code",
   "execution_count": 2,
   "metadata": {},
   "outputs": [],
   "source": [
    "usernames_no_repeated = []\n",
    "for user in cutfs:\n",
    "    if user['user'] not in usernames_no_repeated:\n",
    "        usernames_no_repeated.append(user['user'])"
   ]
  },
  {
   "cell_type": "code",
   "execution_count": null,
   "metadata": {},
   "outputs": [],
   "source": [
    "cu[0]"
   ]
  },
  {
   "cell_type": "code",
   "execution_count": 3,
   "metadata": {},
   "outputs": [],
   "source": [
    "with open('/home/simo/UnInfo/Tesi Magistrale/Dataset/features/skills_tot.json') as f:\n",
    "    data = json.load(f)"
   ]
  },
  {
   "cell_type": "code",
   "execution_count": 4,
   "metadata": {},
   "outputs": [
    {
     "data": {
      "text/plain": [
       "12850"
      ]
     },
     "execution_count": 4,
     "metadata": {},
     "output_type": "execute_result"
    }
   ],
   "source": [
    "len(data)"
   ]
  },
  {
   "cell_type": "code",
   "execution_count": 5,
   "metadata": {},
   "outputs": [
    {
     "data": {
      "text/plain": [
       "{u'skills': [u'design leadership',\n",
       "  u'design strategy',\n",
       "  u'engineering',\n",
       "  u'interaction design',\n",
       "  u'product design',\n",
       "  u'user experience',\n",
       "  u'user interface',\n",
       "  u'visual design'],\n",
       " u'user': u'citrusbyte'}"
      ]
     },
     "execution_count": 5,
     "metadata": {},
     "output_type": "execute_result"
    }
   ],
   "source": [
    "data[0]"
   ]
  },
  {
   "cell_type": "markdown",
   "metadata": {},
   "source": [
    "### Skills piu frequenti"
   ]
  },
  {
   "cell_type": "code",
   "execution_count": null,
   "metadata": {},
   "outputs": [],
   "source": [
    "skills_found = []\n",
    "\n",
    "i=0\n",
    "\n",
    "for user in data:\n",
    "    skills = user['skills']\n",
    "    for s in skills:\n",
    "        found = False\n",
    "        for elem in skills_found:\n",
    "            if elem['skill'] == s:\n",
    "                elem.update({'count': elem['count']+1})\n",
    "                found = True\n",
    "                break\n",
    "\n",
    "        if not found:\n",
    "            sf = {'skill': s, 'count': 1}\n",
    "            skills_found.append(sf)\n",
    "    i=i+1\n",
    "    print i"
   ]
  },
  {
   "cell_type": "markdown",
   "metadata": {},
   "source": [
    "scrivi su file"
   ]
  },
  {
   "cell_type": "code",
   "execution_count": null,
   "metadata": {},
   "outputs": [],
   "source": [
    "import sys  \n",
    "reload(sys)  \n",
    "sys.setdefaultencoding('utf8')\n",
    "\n",
    "with open(\"/home/simo/UnInfo/Tesi Magistrale/Dataset/features/skills_frequences.txt\", mode='a') as f:\n",
    "    for s in skills_found:\n",
    "        f.write(str(s['skill'])+' - '+str(s['count'])+'\\n')"
   ]
  },
  {
   "cell_type": "markdown",
   "metadata": {},
   "source": [
    "leggi da file"
   ]
  },
  {
   "cell_type": "code",
   "execution_count": 6,
   "metadata": {},
   "outputs": [],
   "source": [
    "skills_found = []\n",
    "\n",
    "with open(\"/home/simo/UnInfo/Tesi Magistrale/Dataset/features/skills_frequences.txt\", \"r\") as ins:\n",
    "    for line in ins:\n",
    "        skill = line[0:line.rfind('-')-1]\n",
    "        count = line[line.rfind('-')+2:len(line)-1]\n",
    "        elem = {'skill': skill, 'count': count}\n",
    "        skills_found.append(elem)"
   ]
  },
  {
   "cell_type": "markdown",
   "metadata": {},
   "source": [
    "n skills piu frequenti"
   ]
  },
  {
   "cell_type": "code",
   "execution_count": 7,
   "metadata": {},
   "outputs": [],
   "source": [
    "def n_most_frequent(n, skill_list):\n",
    "    max_skill_prev = {'count':1000000}\n",
    "    for i in range(0,n):\n",
    "        max = 0\n",
    "        max_skill = {}\n",
    "        for t in skill_list:\n",
    "            if int(t['count']) > max and int(t['count']) < int(max_skill_prev['count']):\n",
    "                max = int(t['count'])\n",
    "                max_skill = t\n",
    "                \n",
    "        \n",
    "        max_skill_prev = max_skill\n",
    "        print max_skill"
   ]
  },
  {
   "cell_type": "code",
   "execution_count": 8,
   "metadata": {},
   "outputs": [
    {
     "name": "stdout",
     "output_type": "stream",
     "text": [
      "{'count': '3224', 'skill': 'web design'}\n",
      "{'count': '3012', 'skill': 'ui'}\n",
      "{'count': '2992', 'skill': 'ux'}\n",
      "{'count': '2843', 'skill': 'illustration'}\n",
      "{'count': '2721', 'skill': 'branding'}\n",
      "{'count': '2021', 'skill': 'product design'}\n",
      "{'count': '1897', 'skill': 'ui design'}\n",
      "{'count': '1841', 'skill': 'graphic design'}\n",
      "{'count': '1228', 'skill': 'ux design'}\n",
      "{'count': '1200', 'skill': 'design'}\n"
     ]
    }
   ],
   "source": [
    "n_most_frequent(10,skills_found)"
   ]
  },
  {
   "cell_type": "markdown",
   "metadata": {},
   "source": [
    "### User con piu skills"
   ]
  },
  {
   "cell_type": "code",
   "execution_count": 10,
   "metadata": {},
   "outputs": [
    {
     "data": {
      "text/plain": [
       "{u'skills': [u'apps',\n",
       "  u'branding',\n",
       "  u'front-end',\n",
       "  u'illustration',\n",
       "  u'interaction',\n",
       "  u'interaction design',\n",
       "  u'mobile',\n",
       "  u'motion',\n",
       "  u'motion design',\n",
       "  u'product design',\n",
       "  u'ui',\n",
       "  u'user experience',\n",
       "  u'user interface',\n",
       "  u'ux',\n",
       "  u'web design'],\n",
       " u'user': u'hellohelloteam'}"
      ]
     },
     "execution_count": 10,
     "metadata": {},
     "output_type": "execute_result"
    }
   ],
   "source": [
    "max = 0\n",
    "max_user = {}\n",
    "for user in data:\n",
    "    if len(user['skills']) > max:\n",
    "        max = len(user['skills'])\n",
    "        max_user = user\n",
    "\n",
    "max_user"
   ]
  },
  {
   "cell_type": "markdown",
   "metadata": {},
   "source": [
    "### Frequneza degli utenti con determinate skills"
   ]
  },
  {
   "cell_type": "code",
   "execution_count": 11,
   "metadata": {},
   "outputs": [],
   "source": [
    "def freq_user_with_skill(skill, users):\n",
    "    users_count = 0\n",
    "    for user in users:\n",
    "        if skill in user['skills']:\n",
    "            users_count = users_count+1\n",
    "            \n",
    "    f = float(users_count)/float(len(users))\n",
    "    print skill +' - '+ str(f)"
   ]
  },
  {
   "cell_type": "code",
   "execution_count": 12,
   "metadata": {},
   "outputs": [
    {
     "name": "stdout",
     "output_type": "stream",
     "text": [
      "web design - 0.250894941634\n"
     ]
    }
   ],
   "source": [
    "freq_user_with_skill('web design', data)"
   ]
  },
  {
   "cell_type": "code",
   "execution_count": 15,
   "metadata": {},
   "outputs": [
    {
     "name": "stdout",
     "output_type": "stream",
     "text": [
      "ui - 0.23439688716\n"
     ]
    }
   ],
   "source": [
    "freq_user_with_skill('ui', data)"
   ]
  },
  {
   "cell_type": "markdown",
   "metadata": {},
   "source": [
    "### Utente con più shots (tra gli utenti nei teams)"
   ]
  },
  {
   "cell_type": "code",
   "execution_count": 18,
   "metadata": {},
   "outputs": [],
   "source": [
    "def find_nth(haystack, needle, n):\n",
    "    start = haystack.find(needle)\n",
    "    while start >= 0 and n > 1:\n",
    "        start = haystack.find(needle, start+len(needle))\n",
    "        n -= 1\n",
    "    return start"
   ]
  },
  {
   "cell_type": "code",
   "execution_count": 37,
   "metadata": {},
   "outputs": [],
   "source": [
    "shot_number_for_user_in_team = []\n",
    "\n",
    "with open(\"/home/simo/UnInfo/Tesi Magistrale/Dataset/features/shot_number_for_user_in_team.txt\", \"r\") as ins:\n",
    "    for line in ins:\n",
    "        pr_occ = find_nth(line, '-', 1)\n",
    "        \n",
    "        n = line.count('-')\n",
    "        sec_occ = find_nth(line, '-', n)\n",
    "        \n",
    "        team = line[0:pr_occ-1]\n",
    "        user = line[pr_occ+2:sec_occ-1]\n",
    "        n_shots = line[sec_occ+2:len(line)-1]\n",
    "        \n",
    "        elem = {'team': team, 'user': user, 'n_shots': n_shots}\n",
    "        shot_number_for_user_in_team.append(elem)"
   ]
  },
  {
   "cell_type": "code",
   "execution_count": 38,
   "metadata": {},
   "outputs": [
    {
     "name": "stdout",
     "output_type": "stream",
     "text": [
      "fraserdavidson 1254.0\n"
     ]
    }
   ],
   "source": [
    "max_user = \"\"\n",
    "max_shot = 0\n",
    "\n",
    "for u in shot_number_for_user_in_team:\n",
    "    if float(u['n_shots']) > max_shot:\n",
    "        max_shot = float(u['n_shots'])\n",
    "        max_user = u['user']\n",
    "\n",
    "print max_user, max_shot"
   ]
  },
  {
   "cell_type": "code",
   "execution_count": 27,
   "metadata": {},
   "outputs": [
    {
     "data": {
      "text/plain": [
       "\"max = 0\\nmax_user = {}\\n\\ni=0\\n\\nfor u in usernames_no_repeated:\\n    active_user = db.shots.find({'username': u})\\n    if active_user.count() > 0:\\n        if len(active_user[0]['shots']) > max:\\n            max = len(active_user[0]['shots'])\\n            max_user = active_user[0]\\n    \\n    i=i+1\\n    print i\\n    \\nprint 'number of shots: ' + str(max)\\nprint max_user\""
      ]
     },
     "execution_count": 27,
     "metadata": {},
     "output_type": "execute_result"
    }
   ],
   "source": [
    "# metodo vecchio altrernativo\n",
    "\n",
    "'''max = 0\n",
    "max_user = {}\n",
    "\n",
    "i=0\n",
    "\n",
    "for u in usernames_no_repeated:\n",
    "    active_user = db.shots.find({'username': u})\n",
    "    if active_user.count() > 0:\n",
    "        if len(active_user[0]['shots']) > max:\n",
    "            max = len(active_user[0]['shots'])\n",
    "            max_user = active_user[0]\n",
    "    \n",
    "    i=i+1\n",
    "    print i\n",
    "    \n",
    "print 'number of shots: ' + str(max)\n",
    "print max_user'''\n",
    "    "
   ]
  },
  {
   "cell_type": "markdown",
   "metadata": {},
   "source": [
    "### Skill dello User con più shots"
   ]
  },
  {
   "cell_type": "code",
   "execution_count": 41,
   "metadata": {},
   "outputs": [
    {
     "name": "stdout",
     "output_type": "stream",
     "text": [
      "fraserdavidson\n",
      "[u'after effects', u'branding', u'cinema 4d', u'icon design', u'illustration', u'illustrator', u'logo', u'logo design', u'photoshop']\n"
     ]
    }
   ],
   "source": [
    "for user in data:\n",
    "    if user['user'] == max_user:\n",
    "        print user['user']\n",
    "        print user['skills']"
   ]
  },
  {
   "cell_type": "markdown",
   "metadata": {},
   "source": [
    "### Tags più frequenti negli shots dello user più attivo"
   ]
  },
  {
   "cell_type": "code",
   "execution_count": 42,
   "metadata": {},
   "outputs": [
    {
     "data": {
      "text/plain": [
       "1254"
      ]
     },
     "execution_count": 42,
     "metadata": {},
     "output_type": "execute_result"
    }
   ],
   "source": [
    "user = db.shots.find({'username': max_user})[0]['shots']\n",
    "len(user['shots'])"
   ]
  },
  {
   "cell_type": "code",
   "execution_count": 44,
   "metadata": {},
   "outputs": [],
   "source": [
    "tags_found_in_max_user = []\n",
    "\n",
    "for s in db.shots.find({'username': max_user})[0]['shots']:\n",
    "    tags = s['tags']\n",
    "    for t in tags:\n",
    "        found = False\n",
    "        for elem in tags_found_in_max_user:\n",
    "            if elem['tag'] == t:\n",
    "                elem.update({'count': elem['count']+1})\n",
    "                found = True\n",
    "                break\n",
    "\n",
    "        if not found:\n",
    "            tf = {'tag': t, 'count': 1}\n",
    "            tags_found_in_max_user.append(tf)\n",
    "    "
   ]
  },
  {
   "cell_type": "code",
   "execution_count": 45,
   "metadata": {},
   "outputs": [
    {
     "data": {
      "text/plain": [
       "1162"
      ]
     },
     "execution_count": 45,
     "metadata": {},
     "output_type": "execute_result"
    }
   ],
   "source": [
    "len(tags_found_in_max_user)"
   ]
  },
  {
   "cell_type": "code",
   "execution_count": 46,
   "metadata": {},
   "outputs": [],
   "source": [
    "def n_most_frequent(n, tag_list):\n",
    "    max_tag_prev = {'count':1000000}\n",
    "    for i in range(0,n):\n",
    "        max = 0\n",
    "        max_tag = {}\n",
    "        for t in tag_list:\n",
    "            if int(t['count']) > max and int(t['count']) < int(max_tag_prev['count']):\n",
    "                max = int(t['count'])\n",
    "                max_tag = t\n",
    "                \n",
    "        \n",
    "        max_tag_prev = max_tag\n",
    "        print max_tag"
   ]
  },
  {
   "cell_type": "code",
   "execution_count": 47,
   "metadata": {},
   "outputs": [
    {
     "name": "stdout",
     "output_type": "stream",
     "text": [
      "{'count': 295, 'tag': u'logo'}\n",
      "{'count': 259, 'tag': u'football'}\n",
      "{'count': 212, 'tag': u'animated'}\n",
      "{'count': 211, 'tag': u'gif'}\n",
      "{'count': 190, 'tag': u'animation'}\n",
      "{'count': 119, 'tag': u'sports'}\n",
      "{'count': 80, 'tag': u'rugby'}\n",
      "{'count': 68, 'tag': u'nfl'}\n",
      "{'count': 63, 'tag': u'logos'}\n",
      "{'count': 48, 'tag': u'sport'}\n"
     ]
    }
   ],
   "source": [
    "n_most_frequent(10, tags_found_in_max_user)"
   ]
  },
  {
   "cell_type": "code",
   "execution_count": null,
   "metadata": {},
   "outputs": [],
   "source": []
  }
 ],
 "metadata": {
  "kernelspec": {
   "display_name": "Python 2",
   "language": "python",
   "name": "python2"
  },
  "language_info": {
   "codemirror_mode": {
    "name": "ipython",
    "version": 2
   },
   "file_extension": ".py",
   "mimetype": "text/x-python",
   "name": "python",
   "nbconvert_exporter": "python",
   "pygments_lexer": "ipython2",
   "version": "2.7.15"
  }
 },
 "nbformat": 4,
 "nbformat_minor": 2
}
