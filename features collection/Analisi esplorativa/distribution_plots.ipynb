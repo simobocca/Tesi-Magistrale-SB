{
 "cells": [
  {
   "cell_type": "markdown",
   "metadata": {},
   "source": [
    "# Distribuzioni Tags, Commenti"
   ]
  },
  {
   "cell_type": "code",
   "execution_count": 1,
   "metadata": {},
   "outputs": [],
   "source": [
    "import pymongo\n",
    "from pymongo import MongoClient\n",
    "\n",
    "from pandas import DataFrame, read_csv\n",
    "import json\n",
    "import numpy as np\n",
    "import matplotlib.pyplot as plt\n",
    "import pandas as pd #this is how I usually import pandas\n",
    "import sys #only needed to determine Python version number\n",
    "import matplotlib #only needed to determine Matplotlib version number\n",
    "\n",
    "client = MongoClient('mongodb://127.0.0.1:27017')\n",
    "db = client.sample\n",
    "\n",
    "cu = db.users.find()\n",
    "cs = db.shots.find()\n",
    "cf = db.followers.find()\n",
    "cl = db.likes.find()\n",
    "ct = db.teams.find()\n",
    "cutfs = db.user_team_first_shot.find()\n",
    "csk = db.skills.find()"
   ]
  },
  {
   "cell_type": "markdown",
   "metadata": {},
   "source": [
    "### Tags"
   ]
  },
  {
   "cell_type": "code",
   "execution_count": 2,
   "metadata": {},
   "outputs": [],
   "source": [
    "shots_tags_count = []\n",
    "\n",
    "with open(\"/home/simo/UnInfo/Tesi Magistrale/Dataset/features/tags_per_shot.txt\", \"r\") as ins:\n",
    "    for line in ins:\n",
    "        tag = line[0:line.rfind('-')-1]\n",
    "        count = line[line.rfind('-')+2:len(line)-1]\n",
    "        elem = {'shot': tag, 'n_tags': count}\n",
    "        shots_tags_count.append(elem)"
   ]
  },
  {
   "cell_type": "code",
   "execution_count": 3,
   "metadata": {},
   "outputs": [],
   "source": [
    "def tags_distribution(shot_list):\n",
    "    \n",
    "    values_found = []\n",
    "    \n",
    "    tags_freq = []\n",
    "    \n",
    "    for i in range(0,len(shot_list)):\n",
    "        if shot_list[i]['n_tags'] not in values_found:\n",
    "            values_found.append(shot_list[i]['n_tags'])\n",
    "            count = 0\n",
    "            for j in range(i,len(shot_list)):\n",
    "                if shot_list[j]['n_tags'] == shot_list[i]['n_tags']:\n",
    "                    count = count + 1\n",
    "            \n",
    "            # elem indica quanti shots hanno un certo numero di tags\n",
    "            elem = {'tag_quantity': shot_list[i]['n_tags'], 'how_many_shots': count}\n",
    "            tags_freq.append(elem)\n",
    "            \n",
    "    return tags_freq"
   ]
  },
  {
   "cell_type": "code",
   "execution_count": 17,
   "metadata": {},
   "outputs": [],
   "source": [
    "distrib = tags_distribution(shots_tags_count)"
   ]
  },
  {
   "cell_type": "code",
   "execution_count": 18,
   "metadata": {},
   "outputs": [],
   "source": [
    "def extract_quantity(json):\n",
    "    try:\n",
    "        return int(json['tag_quantity'])\n",
    "    except KeyError:\n",
    "        return -1"
   ]
  },
  {
   "cell_type": "code",
   "execution_count": 19,
   "metadata": {},
   "outputs": [
    {
     "data": {
      "image/png": "[encoded data removed]",
      "text/plain": [
       "<Figure size 972x468 with 1 Axes>"
      ]
     },
     "metadata": {},
     "output_type": "display_data"
    }
   ],
   "source": [
    "distrib.sort(key=extract_quantity)\n",
    "\n",
    "x = []\n",
    "y = []\n",
    "for i in distrib:\n",
    "    y.append(i['how_many_shots'])\n",
    "    x.append(i['tag_quantity'])\n",
    "\n",
    "fig = matplotlib.pyplot.gcf()\n",
    "fig.set_size_inches(13.5, 6.5)\n",
    "plt.xlabel('quantity of tags')\n",
    "plt.ylabel('number of shots')\n",
    "\n",
    "plt.plot(x,y)\n",
    "plt.savefig('tags_distrib.png')"
   ]
  },
  {
   "cell_type": "markdown",
   "metadata": {},
   "source": [
    "### Comments"
   ]
  },
  {
   "cell_type": "code",
   "execution_count": 2,
   "metadata": {},
   "outputs": [],
   "source": [
    "shots_comments = []\n",
    "\n",
    "with open(\"/home/simo/UnInfo/Tesi Magistrale/Dataset/features/shots_comments.txt\", \"r\") as ins:\n",
    "    for line in ins:\n",
    "        shot = line[0:line.rfind('-')-1]\n",
    "        count = line[line.rfind('-')+2:len(line)-1]\n",
    "        elem = {'shot': shot, 'comments_count': count}\n",
    "        shots_comments.append(elem)"
   ]
  },
  {
   "cell_type": "code",
   "execution_count": 3,
   "metadata": {},
   "outputs": [],
   "source": [
    "def comments_distribution(shot_list):\n",
    "    \n",
    "    values_found = []\n",
    "    \n",
    "    comments_freq = []\n",
    "    \n",
    "    for i in range(0,len(shot_list)):\n",
    "        if shot_list[i]['comments_count'] not in values_found:\n",
    "            values_found.append(shot_list[i]['comments_count'])\n",
    "            count = 0\n",
    "            for j in range(i,len(shot_list)):\n",
    "                if shot_list[j]['comments_count'] == shot_list[i]['comments_count']:\n",
    "                    count = count + 1\n",
    "            \n",
    "            # elem indica quanti shots hanno un certo numero di tags\n",
    "            elem = {'comments_quantity': shot_list[i]['comments_count'], 'how_many_shots': count}\n",
    "            comments_freq.append(elem)\n",
    "            \n",
    "    return comments_freq"
   ]
  },
  {
   "cell_type": "code",
   "execution_count": 4,
   "metadata": {},
   "outputs": [],
   "source": [
    "distrib = comments_distribution(shots_comments)"
   ]
  },
  {
   "cell_type": "code",
   "execution_count": 5,
   "metadata": {},
   "outputs": [],
   "source": [
    "def extract_quantity_comments(json):\n",
    "    try:\n",
    "        return int(json['comments_quantity'])\n",
    "    except KeyError:\n",
    "        return -1"
   ]
  },
  {
   "cell_type": "code",
   "execution_count": 9,
   "metadata": {},
   "outputs": [
    {
     "data": {
      "image/png": "[encoded data removed]",
      "text/plain": [
       "<Figure size 972x468 with 1 Axes>"
      ]
     },
     "metadata": {},
     "output_type": "display_data"
    }
   ],
   "source": [
    "distrib.sort(key=extract_quantity_comments)\n",
    "\n",
    "x = []\n",
    "y = []\n",
    "for i in distrib:\n",
    "    y.append(int(i['how_many_shots']))\n",
    "    x.append(int(i['comments_quantity']))\n",
    "\n",
    "fig = matplotlib.pyplot.gcf()\n",
    "fig.set_size_inches(13.5, 6.5)\n",
    "plt.xlabel('quantity of comments')\n",
    "plt.ylabel('number of shots')\n",
    "\n",
    "plt.xticks(np.arange(min(x), max(x)+1, 20))\n",
    "#plt.xlim(0,50)\n",
    "\n",
    "plt.plot(x,y)\n",
    "plt.savefig('comments_distrib.png')"
   ]
  },
  {
   "cell_type": "code",
   "execution_count": null,
   "metadata": {},
   "outputs": [],
   "source": []
  }
 ],
 "metadata": {
  "kernelspec": {
   "display_name": "Python 2",
   "language": "python",
   "name": "python2"
  },
  "language_info": {
   "codemirror_mode": {
    "name": "ipython",
    "version": 2
   },
   "file_extension": ".py",
   "mimetype": "text/x-python",
   "name": "python",
   "nbconvert_exporter": "python",
   "pygments_lexer": "ipython2",
   "version": "2.7.15"
  }
 },
 "nbformat": 4,
 "nbformat_minor": 2
}
