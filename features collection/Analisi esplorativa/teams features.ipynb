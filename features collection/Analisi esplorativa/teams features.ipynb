{
 "cells": [
  {
   "cell_type": "markdown",
   "metadata": {},
   "source": [
    "# Raccolta features per TEAMS"
   ]
  },
  {
   "cell_type": "code",
   "execution_count": 1,
   "metadata": {},
   "outputs": [],
   "source": [
    "import pymongo\n",
    "from pymongo import MongoClient\n",
    "\n",
    "from pandas import DataFrame, read_csv\n",
    "import json\n",
    "import matplotlib.pyplot as plt\n",
    "import pandas as pd #this is how I usually import pandas\n",
    "import sys #only needed to determine Python version number\n",
    "import matplotlib #only needed to determine Matplotlib version number\n",
    "\n",
    "client = MongoClient('mongodb://127.0.0.1:27017')\n",
    "db = client.sample\n",
    "\n",
    "cu = db.users.find()\n",
    "cs = db.shots.find()\n",
    "cf = db.followers.find()\n",
    "cl = db.likes.find()\n",
    "ct = db.teams.find()\n",
    "cutfs = db.user_team_first_shot.find()\n",
    "csk = db.skills.find()"
   ]
  },
  {
   "cell_type": "code",
   "execution_count": 2,
   "metadata": {},
   "outputs": [],
   "source": [
    "usernames_no_repeated = []\n",
    "for user in cutfs:\n",
    "    if user['user'] not in usernames_no_repeated:\n",
    "        usernames_no_repeated.append(user['user'])"
   ]
  },
  {
   "cell_type": "code",
   "execution_count": null,
   "metadata": {},
   "outputs": [],
   "source": [
    "usernames_no_repeated[0]"
   ]
  },
  {
   "cell_type": "code",
   "execution_count": null,
   "metadata": {},
   "outputs": [],
   "source": [
    "db.user_team_first_shot.find({'user':'citrusbyte'})[0]"
   ]
  },
  {
   "cell_type": "code",
   "execution_count": null,
   "metadata": {},
   "outputs": [],
   "source": [
    "len(usernames_no_repeated)"
   ]
  },
  {
   "cell_type": "markdown",
   "metadata": {},
   "source": [
    "### Media degli shots di uno User in un Team"
   ]
  },
  {
   "cell_type": "code",
   "execution_count": null,
   "metadata": {},
   "outputs": [],
   "source": [
    "shot_number_for_user_in_team = []\n",
    "\n",
    "i=0\n",
    "\n",
    "for u in usernames_no_repeated:\n",
    "    active_user = db.shots.find({'username': u})\n",
    "    if active_user.count() > 0:\n",
    "        temp_cursor = db.user_team_first_shot.find({'user': active_user[0]['username']})\n",
    "        for t in temp_cursor:\n",
    "            elem = {'team': t['team'], 'user': t['user'], 'n_shots': len(active_user[0]['shots'])}\n",
    "            shot_number_for_user_in_team.append(elem)\n",
    "    \n",
    "    i=i+1\n",
    "    print i"
   ]
  },
  {
   "cell_type": "code",
   "execution_count": null,
   "metadata": {},
   "outputs": [],
   "source": [
    "len(shot_number_for_user_in_team)"
   ]
  },
  {
   "cell_type": "markdown",
   "metadata": {},
   "source": [
    "scrivere su file "
   ]
  },
  {
   "cell_type": "code",
   "execution_count": null,
   "metadata": {},
   "outputs": [],
   "source": [
    "with open(\"/home/simo/UnInfo/Tesi Magistrale/Dataset/shot_number_for_user_in_team.txt\", mode='a') as f:\n",
    "    for s in shot_number_for_user_in_team:\n",
    "        f.write(str(s['team'])+' - '+str(s['user'])+' - '+str(s['n_shots'])+'\\n')"
   ]
  },
  {
   "cell_type": "markdown",
   "metadata": {},
   "source": [
    "leggere da file"
   ]
  },
  {
   "cell_type": "code",
   "execution_count": 3,
   "metadata": {},
   "outputs": [],
   "source": [
    "def find_nth(haystack, needle, n):\n",
    "    start = haystack.find(needle)\n",
    "    while start >= 0 and n > 1:\n",
    "        start = haystack.find(needle, start+len(needle))\n",
    "        n -= 1\n",
    "    return start"
   ]
  },
  {
   "cell_type": "code",
   "execution_count": 4,
   "metadata": {},
   "outputs": [],
   "source": [
    "shot_number_for_user_in_team = []\n",
    "\n",
    "with open(\"/home/simo/UnInfo/Tesi Magistrale/Dataset/features/shot_number_for_user_in_team.txt\", \"r\") as ins:\n",
    "    for line in ins:\n",
    "        pr_occ = find_nth(line, '-', 1)\n",
    "        \n",
    "        n = line.count('-')\n",
    "        sec_occ = find_nth(line, '-', n)\n",
    "        \n",
    "        team = line[0:pr_occ-1]\n",
    "        user = line[pr_occ+2:sec_occ-1]\n",
    "        n_shots = line[sec_occ+2:len(line)-1]\n",
    "        \n",
    "        elem = {'team': team, 'user': user, 'n_shots': n_shots}\n",
    "        shot_number_for_user_in_team.append(elem)"
   ]
  },
  {
   "cell_type": "markdown",
   "metadata": {},
   "source": [
    "numero medio di shot per utente in un team"
   ]
  },
  {
   "cell_type": "code",
   "execution_count": 5,
   "metadata": {},
   "outputs": [],
   "source": [
    "def mean_value_of_shots(team):\n",
    "    count = 0\n",
    "    users_in_team = 0\n",
    "    for t in shot_number_for_user_in_team:\n",
    "        if t['team'] == team:\n",
    "            users_in_team = users_in_team + 1;\n",
    "            count = count + int(t['n_shots'])\n",
    "    \n",
    "    print 'MEAN VALUE OF SHOTS IN TEAM '+team+' :'\n",
    "    print float(count)/float(users_in_team)    "
   ]
  },
  {
   "cell_type": "code",
   "execution_count": 6,
   "metadata": {},
   "outputs": [],
   "source": [
    "def value_of_shots(team):\n",
    "    count = 0\n",
    "    for t in shot_number_for_user_in_team:\n",
    "        if t['team'] == team:\n",
    "            count = count + int(t['n_shots'])\n",
    "    \n",
    "    return count"
   ]
  },
  {
   "cell_type": "code",
   "execution_count": 11,
   "metadata": {},
   "outputs": [
    {
     "name": "stdout",
     "output_type": "stream",
     "text": [
      "MEAN VALUE OF SHOTS PER TEAMS: \n",
      "0.0\n"
     ]
    },
    {
     "name": "stderr",
     "output_type": "stream",
     "text": [
      "/home/simo/anaconda2/lib/python2.7/site-packages/ipykernel_launcher.py:6: DeprecationWarning: count is deprecated. Use Collection.count_documents instead.\n",
      "  \n"
     ]
    }
   ],
   "source": [
    "count = 0\n",
    "for t in ct:\n",
    "    count = count + value_of_shots(t['username'])\n",
    "    \n",
    "print 'MEAN VALUE OF SHOTS PER TEAMS: ' #il numero medio di shots tra tutti i team\n",
    "print float(count)/float(ct.count())"
   ]
  },
  {
   "cell_type": "markdown",
   "metadata": {},
   "source": [
    "team con il maggior numero di utenti"
   ]
  },
  {
   "cell_type": "code",
   "execution_count": 3,
   "metadata": {},
   "outputs": [
    {
     "name": "stdout",
     "output_type": "stream",
     "text": [
      "numero massimo 85\n"
     ]
    },
    {
     "data": {
      "text/plain": [
       "{u'_id': ObjectId('5bb259b1e2850521dc2f1a49'),\n",
       " u'avatar_url': u'https://cdn.dribbble.com/users/235795/avatars/normal/81e287f1f8fb7aedd2ca1d3ad7078c73.jpeg?1509466931',\n",
       " u'bio': u'Shopify is everything you need to sell online, in-store, and anywhere in between. Making commerce better for everyone. ',\n",
       " u'buckets_count': 0,\n",
       " u'buckets_url': u'https://api.dribbble.com/v1/users/235795/buckets',\n",
       " u'can_upload_shot': True,\n",
       " u'comments_received_count': 60,\n",
       " u'created_at': 1352740507,\n",
       " u'followers_count': 7593,\n",
       " u'followers_url': u'https://api.dribbble.com/v1/users/235795/followers',\n",
       " u'following_url': u'https://api.dribbble.com/v1/users/235795/following',\n",
       " u'followings_count': 132,\n",
       " u'html_url': u'https://dribbble.com/Shopify',\n",
       " u'id': 235795,\n",
       " u'likes_count': 108,\n",
       " u'likes_received_count': 1329,\n",
       " u'likes_url': u'https://api.dribbble.com/v1/users/235795/likes',\n",
       " u'links': {u'twitter': u'https://twitter.com/shopifyUX',\n",
       "  u'web': u'http://ux.shopify.com'},\n",
       " u'location': u'Canada',\n",
       " u'members_count': 85,\n",
       " u'members_url': u'https://api.dribbble.com/v1/teams/235795/members',\n",
       " u'name': u'Shopify',\n",
       " u'pro': False,\n",
       " u'projects_count': 2,\n",
       " u'projects_url': u'https://api.dribbble.com/v1/users/235795/projects',\n",
       " u'rebounds_received_count': 280,\n",
       " u'shots_count': 422,\n",
       " u'shots_url': u'https://api.dribbble.com/v1/users/235795/shots',\n",
       " u'team_shots_url': u'https://api.dribbble.com/v1/teams/235795/shots',\n",
       " u'type': u'Team',\n",
       " u'updated_at': 1513617521,\n",
       " u'username': u'Shopify'}"
      ]
     },
     "execution_count": 3,
     "metadata": {},
     "output_type": "execute_result"
    }
   ],
   "source": [
    "max_users = 0\n",
    "team_max = {}\n",
    "for t in ct:\n",
    "    if int(t['members_count']) > max_users:\n",
    "        max_users = int(t['members_count'])\n",
    "        team_max = t\n",
    "        \n",
    "print 'numero massimo', max_users\n",
    "team_max"
   ]
  },
  {
   "cell_type": "code",
   "execution_count": 7,
   "metadata": {},
   "outputs": [
    {
     "name": "stdout",
     "output_type": "stream",
     "text": [
      "TEAM WITH MORE SHOTS: \n",
      "NUMBER OF SHOTS: 5983\n",
      "Slaptastick\n"
     ]
    }
   ],
   "source": [
    "max = 0\n",
    "max_team = {}\n",
    "for t in ct:\n",
    "    if value_of_shots(t['username']) > max:\n",
    "        max = value_of_shots(t['username'])\n",
    "        max_team = t\n",
    "    \n",
    "print 'TEAM WITH MORE SHOTS: '\n",
    "print 'NUMBER OF SHOTS: '+str(max)\n",
    "print max_team['username']"
   ]
  },
  {
   "cell_type": "code",
   "execution_count": 16,
   "metadata": {},
   "outputs": [
    {
     "data": {
      "text/plain": [
       "{u'_id': ObjectId('5bb259ace2850521dc2f1856'),\n",
       " u'avatar_url': u'https://cdn.dribbble.com/users/673130/avatars/normal/4fb0be803bf3f04fdf007117e4622bfc.png?1507932552',\n",
       " u'bio': u'We are a global team of strategy, design and development experts.',\n",
       " u'buckets_count': 0,\n",
       " u'buckets_url': u'https://api.dribbble.com/v1/users/673130/buckets',\n",
       " u'can_upload_shot': True,\n",
       " u'comments_received_count': 0,\n",
       " u'created_at': 1413503476,\n",
       " u'followers_count': 1042,\n",
       " u'followers_url': u'https://api.dribbble.com/v1/users/673130/followers',\n",
       " u'following_url': u'https://api.dribbble.com/v1/users/673130/following',\n",
       " u'followings_count': 1943,\n",
       " u'html_url': u'https://dribbble.com/citrusbyte',\n",
       " u'id': 673130,\n",
       " u'likes_count': 471,\n",
       " u'likes_received_count': 40,\n",
       " u'likes_url': u'https://api.dribbble.com/v1/users/673130/likes',\n",
       " u'links': {u'twitter': u'https://twitter.com/citrusbyte',\n",
       "  u'web': u'https://citrusbyte.com'},\n",
       " u'location': u'Los Angeles',\n",
       " u'members_count': 18,\n",
       " u'members_url': u'https://api.dribbble.com/v1/teams/673130/members',\n",
       " u'name': u'Citrusbyte',\n",
       " u'pro': False,\n",
       " u'projects_count': 5,\n",
       " u'projects_url': u'https://api.dribbble.com/v1/users/673130/projects',\n",
       " u'rebounds_received_count': 11,\n",
       " u'shots_count': 121,\n",
       " u'shots_url': u'https://api.dribbble.com/v1/users/673130/shots',\n",
       " u'team_shots_url': u'https://api.dribbble.com/v1/teams/673130/shots',\n",
       " u'type': u'Team',\n",
       " u'updated_at': 1513613343,\n",
       " u'username': u'citrusbyte'}"
      ]
     },
     "execution_count": 16,
     "metadata": {},
     "output_type": "execute_result"
    }
   ],
   "source": [
    "db.teams.find()[0]"
   ]
  },
  {
   "cell_type": "code",
   "execution_count": 8,
   "metadata": {},
   "outputs": [
    {
     "name": "stdout",
     "output_type": "stream",
     "text": [
      "MEAN VALUE OF SHOTS IN TEAM Slaptastick :\n",
      "299.15\n"
     ]
    }
   ],
   "source": [
    "mean_value_of_shots('Slaptastick')"
   ]
  },
  {
   "cell_type": "code",
   "execution_count": 9,
   "metadata": {},
   "outputs": [
    {
     "name": "stdout",
     "output_type": "stream",
     "text": [
      "MEAN VALUE OF SHOTS IN TEAM dropbox :\n",
      "90.8571428571\n"
     ]
    }
   ],
   "source": [
    "mean_value_of_shots('dropbox')"
   ]
  },
  {
   "cell_type": "markdown",
   "metadata": {},
   "source": [
    "shots di dropbox"
   ]
  },
  {
   "cell_type": "code",
   "execution_count": 8,
   "metadata": {},
   "outputs": [
    {
     "data": {
      "text/plain": [
       "4452"
      ]
     },
     "execution_count": 8,
     "metadata": {},
     "output_type": "execute_result"
    }
   ],
   "source": [
    "value_of_shots('dropbox')"
   ]
  },
  {
   "cell_type": "code",
   "execution_count": null,
   "metadata": {},
   "outputs": [],
   "source": []
  }
 ],
 "metadata": {
  "kernelspec": {
   "display_name": "Python 2",
   "language": "python",
   "name": "python2"
  },
  "language_info": {
   "codemirror_mode": {
    "name": "ipython",
    "version": 2
   },
   "file_extension": ".py",
   "mimetype": "text/x-python",
   "name": "python",
   "nbconvert_exporter": "python",
   "pygments_lexer": "ipython2",
   "version": "2.7.15"
  }
 },
 "nbformat": 4,
 "nbformat_minor": 2
}
