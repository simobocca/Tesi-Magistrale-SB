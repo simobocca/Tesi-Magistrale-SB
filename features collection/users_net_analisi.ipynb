{
 "cells": [
  {
   "cell_type": "markdown",
   "metadata": {},
   "source": [
    "# Creazione e analisi della rete User-User basata sui followers"
   ]
  },
  {
   "cell_type": "code",
   "execution_count": 1,
   "metadata": {},
   "outputs": [],
   "source": [
    "import pymongo\n",
    "from pymongo import MongoClient\n",
    "import json\n",
    "import sys\n",
    "\n",
    "import pygraphviz as pgv\n",
    "import networkx as nx\n",
    "from networkx.drawing.nx_agraph import read_dot\n",
    "from networkx.classes.reportviews import NodeView, EdgeView, DegreeView\n",
    "\n",
    "import matplotlib.pyplot as plt\n",
    "\n",
    "client = MongoClient('mongodb://127.0.0.1:27017')\n",
    "db = client.sample\n",
    "cutfs = db.user_team_first_shot.find()\n"
   ]
  },
  {
   "cell_type": "markdown",
   "metadata": {},
   "source": [
    "### Insieme di utenti di riferimento"
   ]
  },
  {
   "cell_type": "code",
   "execution_count": 1,
   "metadata": {},
   "outputs": [],
   "source": [
    "def get_users():\n",
    "    U = []\n",
    "    for user in cutfs:\n",
    "        if user['user'] not in U:\n",
    "            U.append(user['user'])"
   ]
  },
  {
   "cell_type": "markdown",
   "metadata": {},
   "source": [
    "### Trova l'insieme F dei followers di un utente (tra gli utenti dell'insieme di riferimento, U)"
   ]
  },
  {
   "cell_type": "code",
   "execution_count": 17,
   "metadata": {},
   "outputs": [],
   "source": [
    "def find_followers(user,U):\n",
    "    user_folls = []\n",
    "    \n",
    "    try:\n",
    "        folls = db.followers.find({'username': user})[0]['followers']\n",
    "    except:\n",
    "        print 'Error - user not in followers dataset'\n",
    "        folls = []\n",
    "        \n",
    "    for f in folls:\n",
    "        if f['follower_user'] in U:\n",
    "            user_folls.append(f['follower_user'])\n",
    "    \n",
    "            \n",
    "    return user_folls"
   ]
  },
  {
   "cell_type": "markdown",
   "metadata": {},
   "source": [
    "# Costruisci la rete"
   ]
  },
  {
   "cell_type": "code",
   "execution_count": 18,
   "metadata": {},
   "outputs": [],
   "source": [
    "def create_net(U):\n",
    "\n",
    "    g = pgv.AGraph(directed=True)\n",
    "\n",
    "    for k in range(0, len(U)):\n",
    "        g.add_node(U[k])\n",
    "        u_folls = find_followers(U[k],U)\n",
    "        for f in u_folls:      \n",
    "            g.add_node(f) \n",
    "            # f segue u quindi creo l'arco (f->u)\n",
    "            g.add_edge(f,U[k])\n",
    "\n",
    "        print k\n",
    "\n",
    "    g.write('userFollowersGraph_test.dot')"
   ]
  },
  {
   "cell_type": "markdown",
   "metadata": {},
   "source": [
    "# Analisi della rete - User Features"
   ]
  },
  {
   "cell_type": "code",
   "execution_count": 2,
   "metadata": {},
   "outputs": [],
   "source": [
    "G = read_dot('userFollowersGraph.dot')"
   ]
  },
  {
   "cell_type": "code",
   "execution_count": 3,
   "metadata": {},
   "outputs": [],
   "source": [
    "def get_in_degree(user):\n",
    "    in_deg = G.in_degree(user)\n",
    "    return in_deg"
   ]
  },
  {
   "cell_type": "code",
   "execution_count": 65,
   "metadata": {},
   "outputs": [],
   "source": [
    "def get_out_degree(user):\n",
    "    out_deg = G.out_degree(user)\n",
    "    return out_deg"
   ]
  },
  {
   "cell_type": "code",
   "execution_count": 72,
   "metadata": {},
   "outputs": [],
   "source": [
    "def get_degree_centrality(user):\n",
    "    return nx.degree_centrality(G)[user]"
   ]
  },
  {
   "cell_type": "code",
   "execution_count": 78,
   "metadata": {},
   "outputs": [],
   "source": [
    "def get_betweenness_centrality(user):\n",
    "    return nx.betweenness_centrality(G)[user]"
   ]
  },
  {
   "cell_type": "code",
   "execution_count": 3,
   "metadata": {},
   "outputs": [],
   "source": [
    "#%%time\n",
    "#get_betweenness_centrality('Mikmiria')"
   ]
  },
  {
   "cell_type": "code",
   "execution_count": null,
   "metadata": {},
   "outputs": [],
   "source": [
    "def get_closeness_centrality(user):\n",
    "    return nx.closeness_centrality(G)[user]"
   ]
  },
  {
   "cell_type": "code",
   "execution_count": 75,
   "metadata": {},
   "outputs": [
    {
     "name": "stdout",
     "output_type": "stream",
     "text": [
      "CPU times: user 28.6 s, sys: 580 ms, total: 29.2 s\n",
      "Wall time: 28.6 s\n"
     ]
    },
    {
     "data": {
      "text/plain": [
       "0.00015390305660380578"
      ]
     },
     "execution_count": 75,
     "metadata": {},
     "output_type": "execute_result"
    }
   ],
   "source": [
    "def get_eigenvector_centrality(user):\n",
    "    return nx.eigenvector_centrality(G)[user]"
   ]
  },
  {
   "cell_type": "code",
   "execution_count": 4,
   "metadata": {},
   "outputs": [],
   "source": [
    "def get_pagerank(user):\n",
    "    return nx.pagerank(G)[user]"
   ]
  }
 ],
 "metadata": {
  "kernelspec": {
   "display_name": "Python 2",
   "language": "python",
   "name": "python2"
  },
  "language_info": {
   "codemirror_mode": {
    "name": "ipython",
    "version": 2
   },
   "file_extension": ".py",
   "mimetype": "text/x-python",
   "name": "python",
   "nbconvert_exporter": "python",
   "pygments_lexer": "ipython2",
   "version": "2.7.15"
  }
 },
 "nbformat": 4,
 "nbformat_minor": 2
}
