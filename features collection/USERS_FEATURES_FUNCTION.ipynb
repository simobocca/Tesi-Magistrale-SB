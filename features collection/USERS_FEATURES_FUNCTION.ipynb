{
 "cells": [
  {
   "cell_type": "markdown",
   "metadata": {},
   "source": [
    "# USERS FEATURES FUNCTION"
   ]
  },
  {
   "cell_type": "code",
   "execution_count": 1,
   "metadata": {},
   "outputs": [
    {
     "name": "stdout",
     "output_type": "stream",
     "text": [
      "importing Jupyter notebook from SHOTS_FEATURES_FUNCTIONS.ipynb\n",
      "importing Jupyter notebook from shot_diversity.ipynb\n",
      "importing Jupyter notebook from user_diversity.ipynb\n",
      "importing Jupyter notebook from users_net_analisi.ipynb\n"
     ]
    }
   ],
   "source": [
    "import pymongo\n",
    "from pymongo import MongoClient\n",
    "client = MongoClient('mongodb://127.0.0.1:27017')\n",
    "db = client.sample\n",
    "\n",
    "import import_ipynb\n",
    "import SHOTS_FEATURES_FUNCTIONS as sf\n",
    "import user_diversity as ud\n",
    "import users_net_analisi as una\n",
    "\n",
    "import numpy as np\n",
    "\n",
    "users_set = []\n",
    "for u in db.users_in_teams.find():\n",
    "    users_set.append(u['username'])"
   ]
  },
  {
   "cell_type": "code",
   "execution_count": null,
   "metadata": {},
   "outputs": [],
   "source": [
    "def user_nshots(username):\n",
    "    if username in users_set:\n",
    "        return len(db.shots.find({'username': username})[0]['shots'])"
   ]
  },
  {
   "cell_type": "markdown",
   "metadata": {},
   "source": [
    "### Net features"
   ]
  },
  {
   "cell_type": "code",
   "execution_count": null,
   "metadata": {},
   "outputs": [],
   "source": [
    "def user_in_degree(user):\n",
    "    return una.get_in_degree(user)\n",
    "\n",
    "def user_out_degree(user):\n",
    "    return una.get_out_degree(user)\n",
    "\n",
    "def user_degree_centrality(user):\n",
    "    return una.get_degree_centrality(user)\n",
    "\n",
    "def user_betweenness_centrality(user):\n",
    "    return una.get_betweenness_centrality(user)\n",
    "\n",
    "def user_closeness_centrality(user):\n",
    "    return una.get_closeness_centrality(user)\n",
    "\n",
    "def user_eigenvector_centrality(user):\n",
    "    return una.get_eigenvector_centrality(user)\n",
    "\n",
    "def user_pagerank(user):\n",
    "    return una.get_pagerank(user)"
   ]
  },
  {
   "cell_type": "markdown",
   "metadata": {},
   "source": [
    "### Aggregazione per rank"
   ]
  },
  {
   "cell_type": "code",
   "execution_count": null,
   "metadata": {},
   "outputs": [],
   "source": [
    "def user_avg_shots_ranking(username):    \n",
    "    if username in users_set:\n",
    "        \n",
    "        shots = db.shots.find({'username': username})[0]['shots']        \n",
    "        ranks = []\n",
    "        for s in shots:\n",
    "            ranks.append(sf.shot_rank(s['id']))\n",
    "\n",
    "        return np.average(ranks)\n",
    "    \n",
    "def user_max_shots_ranking(username):    \n",
    "    if username in users_set:\n",
    "        \n",
    "        shots = db.shots.find({'username': username})[0]['shots']        \n",
    "        ranks = []\n",
    "        for s in shots:\n",
    "            ranks.append(sf.shot_rank(s['id']))\n",
    "\n",
    "        return np.max(ranks)\n",
    "    \n",
    "def user_var_shots_ranking(username):    \n",
    "    if username in users_set:\n",
    "        \n",
    "        shots = db.shots.find({'username': username})[0]['shots']        \n",
    "        ranks = []\n",
    "        for s in shots:\n",
    "            ranks.append(sf.shot_rank(s['id']))\n",
    "\n",
    "        return np.var(ranks)"
   ]
  },
  {
   "cell_type": "markdown",
   "metadata": {},
   "source": [
    "### Aggregazione per Numero di tags"
   ]
  },
  {
   "cell_type": "code",
   "execution_count": null,
   "metadata": {},
   "outputs": [],
   "source": [
    "def user_avg_shots_ntags(username):    \n",
    "    if username in users_set:\n",
    "        \n",
    "        shots = db.shots.find({'username': username})[0]['shots']\n",
    "        ntags = []\n",
    "        for s in shots:\n",
    "            ntags.append(sf.shot_ntags(s['id']))\n",
    "\n",
    "        return np.average(ntags)\n",
    "\n",
    "def user_max_shots_ntags(username):    \n",
    "    if username in users_set:\n",
    "        \n",
    "        shots = db.shots.find({'username': username})[0]['shots']\n",
    "        ntags = []\n",
    "        for s in shots:\n",
    "            ntags.append(sf.shot_ntags(s['id']))\n",
    "\n",
    "        return np.max(ntags)\n",
    "    \n",
    "def user_var_shots_ntags(username):    \n",
    "    if username in users_set:\n",
    "        \n",
    "        shots = db.shots.find({'username': username})[0]['shots']        \n",
    "        ntags = []\n",
    "        for s in shots:\n",
    "            ntags.append(sf.shot_ntags(s['id']))\n",
    "\n",
    "        return np.var(ntags)"
   ]
  },
  {
   "cell_type": "markdown",
   "metadata": {},
   "source": [
    "### Aggregazione per Numero di commenti"
   ]
  },
  {
   "cell_type": "code",
   "execution_count": null,
   "metadata": {},
   "outputs": [],
   "source": [
    "def user_avg_shots_ncomments(username):    \n",
    "    if username in users_set:\n",
    "        \n",
    "        shots = db.shots.find({'username': username})[0]['shots']        \n",
    "        ncomments = []\n",
    "        for s in shots:\n",
    "            ncomments.append(sf.shot_ncomments(s['id']))\n",
    "\n",
    "        return np.average(ncomments)\n",
    "    \n",
    "def user_max_shots_ncomments(username):    \n",
    "    if username in users_set:\n",
    "        \n",
    "        shots = db.shots.find({'username': username})[0]['shots']        \n",
    "        ncomments = []\n",
    "        for s in shots:\n",
    "            ncomments.append(sf.shot_ncomments(s['id']))\n",
    "\n",
    "        return np.max(ncomments)\n",
    "\n",
    "def user_var_shots_ncomments(username):    \n",
    "    if username in users_set:\n",
    "        \n",
    "        shots = db.shots.find({'username': username})[0]['shots']       \n",
    "        ncomments = []\n",
    "        for s in shots:\n",
    "            ncomments.append(sf.shot_ncomments(s['id']))\n",
    "\n",
    "        return np.var(ncomments)"
   ]
  },
  {
   "cell_type": "markdown",
   "metadata": {},
   "source": [
    "### Aggregazione per Numero di likes"
   ]
  },
  {
   "cell_type": "code",
   "execution_count": null,
   "metadata": {},
   "outputs": [],
   "source": [
    "def user_avg_shots_nlikes(username):    \n",
    "    if username in users_set:\n",
    "        \n",
    "        shots = db.shots.find({'username': username})[0]['shots']        \n",
    "        nlikes = []\n",
    "        for s in shots:\n",
    "            nlikes.append(sf.shot_nlikes(s['id']))\n",
    "\n",
    "        return np.average(nlikes)\n",
    "    \n",
    "def user_max_shots_nlikes(username):    \n",
    "    if username in users_set:\n",
    "        \n",
    "        shots = db.shots.find({'username': username})[0]['shots']        \n",
    "        nlikes = []\n",
    "        for s in shots:\n",
    "            nlikes.append(sf.shot_nlikes(s['id']))\n",
    "\n",
    "        return np.max(nlikes)\n",
    "\n",
    "def user_var_shots_nlikes(username):    \n",
    "    if username in users_set:\n",
    "        \n",
    "        shots = db.shots.find({'username': username})[0]['shots']       \n",
    "        nlikes = []\n",
    "        for s in shots:\n",
    "            nlikes.append(sf.shot_nlikes(s['id']))\n",
    "\n",
    "        return np.var(nlikes)"
   ]
  },
  {
   "cell_type": "markdown",
   "metadata": {},
   "source": [
    "### Aggregazione per Numero di views"
   ]
  },
  {
   "cell_type": "code",
   "execution_count": null,
   "metadata": {},
   "outputs": [],
   "source": [
    "def user_avg_shots_nviews(username):    \n",
    "    if username in users_set:\n",
    "        \n",
    "        shots = db.shots.find({'username': username})[0]['shots']        \n",
    "        nviews = []\n",
    "        for s in shots:\n",
    "            nviews.append(sf.shot_nviews(s['id']))\n",
    "\n",
    "        return np.average(nviews)\n",
    "    \n",
    "def user_max_shots_nviews(username):    \n",
    "    if username in users_set:\n",
    "        \n",
    "        shots = db.shots.find({'username': username})[0]['shots']        \n",
    "        nviews = []\n",
    "        for s in shots:\n",
    "            nviews.append(sf.shot_nviews(s['id']))\n",
    "\n",
    "        return np.max(nviews)\n",
    "\n",
    "def user_var_shots_nviews(username):    \n",
    "    if username in users_set:\n",
    "        \n",
    "        shots = db.shots.find({'username': username})[0]['shots']       \n",
    "        nviews = []\n",
    "        for s in shots:\n",
    "            nviews.append(sf.shot_nviews(s['id']))\n",
    "\n",
    "        return np.var(nviews)"
   ]
  },
  {
   "cell_type": "markdown",
   "metadata": {},
   "source": [
    "### Aggregazione per Diversity"
   ]
  },
  {
   "cell_type": "code",
   "execution_count": 3,
   "metadata": {},
   "outputs": [
    {
     "name": "stdout",
     "output_type": "stream",
     "text": [
      "\n"
     ]
    }
   ],
   "source": [
    "def user_avg_shots_diversity(username):    \n",
    "    if username in users_set:\n",
    "        \n",
    "        shots = db.shots.find({'username': username})[0]['shots']        \n",
    "        diversity = []\n",
    "        for s in shots:\n",
    "            diversity.append(sf.shot_diversity(s['id']))\n",
    "\n",
    "        return np.average(diversity)\n",
    "    \n",
    "def user_max_shots_diversity(username):    \n",
    "    if username in users_set:\n",
    "        \n",
    "        shots = db.shots.find({'username': username})[0]['shots']        \n",
    "        diversity = []\n",
    "        for s in shots:\n",
    "            diversity.append(sf.shot_diversity(s['id']))\n",
    "\n",
    "        return np.max(diversity)\n",
    "\n",
    "def user_var_shots_diversity(username):    \n",
    "    if username in users_set:\n",
    "        \n",
    "        shots = db.shots.find({'username': username})[0]['shots']       \n",
    "        diversity = []\n",
    "        for s in shots:\n",
    "            diversity.append(sf.shot_diversity(s['id']))\n",
    "\n",
    "        return np.var(diversity)"
   ]
  },
  {
   "cell_type": "code",
   "execution_count": 4,
   "metadata": {},
   "outputs": [
    {
     "name": "stdout",
     "output_type": "stream",
     "text": [
      "citrusbyte 0.8396176749330173\n",
      "ssmall"
     ]
    },
    {
     "name": "stderr",
     "output_type": "stream",
     "text": [
      "shot_diversity.ipynb:24: UnicodeWarning: Unicode equal comparison failed to convert both arguments to Unicode - interpreting them as being unequal\n",
      "  \"import sys #only needed to determine Python version number\\n\",\n"
     ]
    },
    {
     "name": "stdout",
     "output_type": "stream",
     "text": [
      " 0.7034229115451406\n",
      "zapadenko string encoding error\n",
      "0.5196241750426421\n",
      "sarahkozlowski 0.26839845758928954\n",
      "fmaclen 0.5605859891064265\n",
      "charlitoss 0.6605118503055533\n",
      "rcavestany 0.6515173620555286\n",
      "rikitanone 0.8221993178744257\n",
      "sexysev 0.28199523660182124\n",
      "jolo 0.13462277653151547\n",
      "mariarotariu 0.4039570676364842\n",
      "pablofranco 0.6689065279063162\n",
      "Kullmannasaurus 0.03186313713864835\n"
     ]
    }
   ],
   "source": [
    "#test\n",
    "#for u in db.users_in_teams.find({'team':'citrusbyte'}):\n",
    "#    print u['username'], user_avg_shots_diversity(u['username'])"
   ]
  },
  {
   "cell_type": "code",
   "execution_count": null,
   "metadata": {},
   "outputs": [],
   "source": [
    "def user_rank(user):\n",
    "    return db.user_ranking.find({'user': user})[0]['rank']"
   ]
  },
  {
   "cell_type": "code",
   "execution_count": null,
   "metadata": {},
   "outputs": [],
   "source": [
    "def user_diversity(user):\n",
    "    return ud.diversity(user)"
   ]
  },
  {
   "cell_type": "code",
   "execution_count": null,
   "metadata": {},
   "outputs": [],
   "source": [
    "def user_nskills(user):\n",
    "    return len(db.skills.find({'user':user})[0]['skills'])\n",
    "\n",
    "def user_nfollowers(user):\n",
    "    return db.users.find({'username':'citrusbyte'})[0]['followers_count']\n",
    "\n",
    "def user_nfollowings(user):\n",
    "    return db.users.find({'username':'citrusbyte'})[0]['followings_count']\n"
   ]
  },
  {
   "cell_type": "code",
   "execution_count": null,
   "metadata": {},
   "outputs": [],
   "source": []
  }
 ],
 "metadata": {
  "kernelspec": {
   "display_name": "Python 2",
   "language": "python",
   "name": "python2"
  },
  "language_info": {
   "codemirror_mode": {
    "name": "ipython",
    "version": 2
   },
   "file_extension": ".py",
   "mimetype": "text/x-python",
   "name": "python",
   "nbconvert_exporter": "python",
   "pygments_lexer": "ipython2",
   "version": "2.7.15"
  }
 },
 "nbformat": 4,
 "nbformat_minor": 2
}
