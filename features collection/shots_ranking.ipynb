{
 "cells": [
  {
   "cell_type": "markdown",
   "metadata": {},
   "source": [
    "# Shots Ranking\n",
    "Creazione di un ranking per gli shots in base ai tag in essi contenuti. \n",
    "Se uno shot ha un tag più frequente ha un livello di rank più alto"
   ]
  },
  {
   "cell_type": "code",
   "execution_count": null,
   "metadata": {},
   "outputs": [],
   "source": [
    "import pymongo\n",
    "from pymongo import MongoClient\n",
    "\n",
    "from pandas import DataFrame, read_csv\n",
    "import json\n",
    "import numpy as np\n",
    "import matplotlib.pyplot as plt\n",
    "import pandas as pd #this is how I usually import pandas\n",
    "import sys #only needed to determine Python version number\n",
    "import matplotlib #only needed to determine Matplotlib version number\n",
    "\n",
    "client = MongoClient('mongodb://127.0.0.1:27017')\n",
    "db = client.sample\n",
    "\n",
    "cu = db.users.find()\n",
    "cs = db.shots.find()\n",
    "ct = db.teams.find()\n",
    "cutfs = db.user_team_first_shot.find()\n",
    "cr = db.shots_ranking.find()"
   ]
  },
  {
   "cell_type": "code",
   "execution_count": null,
   "metadata": {},
   "outputs": [],
   "source": [
    "usernames_no_repeated = []\n",
    "for user in cutfs:\n",
    "    if user['user'] not in usernames_no_repeated:\n",
    "        usernames_no_repeated.append(user['user'])"
   ]
  },
  {
   "cell_type": "code",
   "execution_count": null,
   "metadata": {},
   "outputs": [],
   "source": [
    "tags_found = []\n",
    "\n",
    "with open(\"/home/simo/UnInfo/Tesi Magistrale/Dataset/features/shots_tags_frequences.txt\", \"r\") as ins:\n",
    "    for line in ins:\n",
    "        tag = line[0:line.rfind('-')-1]\n",
    "        count = line[line.rfind('-')+2:len(line)-1]\n",
    "        elem = {'tag': tag, 'count': int(count)}\n",
    "        tags_found.append(elem)"
   ]
  },
  {
   "cell_type": "code",
   "execution_count": null,
   "metadata": {},
   "outputs": [],
   "source": [
    "def n_most_frequent(n, tag_list):\n",
    "    \n",
    "    tags = []\n",
    "    \n",
    "    max_tag_prev = {'count':1000000}\n",
    "    for i in range(0,n):\n",
    "        max = 0\n",
    "        max_tag = {}\n",
    "        for t in tag_list:\n",
    "            if int(t['count']) > max and int(t['count']) < int(max_tag_prev['count']):\n",
    "                max = int(t['count'])\n",
    "                max_tag = t\n",
    "                \n",
    "        \n",
    "        max_tag_prev = max_tag\n",
    "        tags.append(max_tag)\n",
    "    return tags"
   ]
  },
  {
   "cell_type": "code",
   "execution_count": null,
   "metadata": {},
   "outputs": [],
   "source": [
    "tags_str = []\n",
    "for tag in n_most_frequent(10, tags_found):\n",
    "    tags_str.append(tag['tag'])\n"
   ]
  },
  {
   "cell_type": "code",
   "execution_count": null,
   "metadata": {},
   "outputs": [],
   "source": [
    "%%time\n",
    "\n",
    "ranking = []\n",
    "\n",
    "for u in usernames_no_repeated:\n",
    "    active_user = db.shots.find({'username': u})\n",
    "    if active_user.count() > 0: \n",
    "        for s in active_user[0]['shots']:\n",
    "            shot_rank = 0\n",
    "            tags = s['tags']\n",
    "            for t in tags:\n",
    "                if t in tags_str:\n",
    "                    shot_rank = shot_rank + 1\n",
    "                    \n",
    "            elem = {'shot': s['id'], 'rank': shot_rank}\n",
    "            ranking.append(elem)"
   ]
  },
  {
   "cell_type": "code",
   "execution_count": null,
   "metadata": {},
   "outputs": [],
   "source": [
    "for r in ranking:\n",
    "    db.shots_ranking.insert_one(r)"
   ]
  },
  {
   "cell_type": "markdown",
   "metadata": {},
   "source": [
    "### Funzione che restituisce il rank di uno shot"
   ]
  },
  {
   "cell_type": "code",
   "execution_count": null,
   "metadata": {},
   "outputs": [],
   "source": [
    "def shot_rank(shot_id):\n",
    "    return db.shots_ranking.find({'shot': shot_id})[0]['rank']"
   ]
  },
  {
   "cell_type": "code",
   "execution_count": null,
   "metadata": {},
   "outputs": [],
   "source": [
    "shot_rank(2686725)"
   ]
  },
  {
   "cell_type": "code",
   "execution_count": null,
   "metadata": {},
   "outputs": [],
   "source": []
  }
 ],
 "metadata": {
  "kernelspec": {
   "display_name": "Python 2",
   "language": "python",
   "name": "python2"
  },
  "language_info": {
   "codemirror_mode": {
    "name": "ipython",
    "version": 2
   },
   "file_extension": ".py",
   "mimetype": "text/x-python",
   "name": "python",
   "nbconvert_exporter": "python",
   "pygments_lexer": "ipython2",
   "version": "2.7.15"
  }
 },
 "nbformat": 4,
 "nbformat_minor": 2
}
