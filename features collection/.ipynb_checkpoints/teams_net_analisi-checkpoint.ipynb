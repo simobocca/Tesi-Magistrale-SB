{
 "cells": [
  {
   "cell_type": "markdown",
   "metadata": {},
   "source": [
    "# Analisi rete Team-Team, interazione tra i vari utenti dei teams"
   ]
  },
  {
   "cell_type": "code",
   "execution_count": 4,
   "metadata": {},
   "outputs": [],
   "source": [
    "import pymongo\n",
    "from pymongo import MongoClient\n",
    "client = MongoClient('mongodb://127.0.0.1:27017')\n",
    "db = client.sample\n",
    "\n",
    "import pygraphviz as pgv\n",
    "import networkx as nx\n",
    "from networkx.drawing.nx_agraph import read_dot\n",
    "from networkx.classes.reportviews import NodeView, EdgeView, DegreeView\n"
   ]
  },
  {
   "cell_type": "code",
   "execution_count": 5,
   "metadata": {},
   "outputs": [],
   "source": [
    "G = read_dot('../teamsGraph.dot')"
   ]
  },
  {
   "cell_type": "code",
   "execution_count": 6,
   "metadata": {},
   "outputs": [],
   "source": [
    "def get_degree(team):\n",
    "    return G.degree(team)\n",
    "\n",
    "def get_degree_centrality(team):\n",
    "    return db.teams_centralities.find({'team':team})[0]['degree_centrality']\n",
    "\n",
    "def get_betweenness_centrality(team):\n",
    "    return db.teams_centralities.find({'team':team})[0]['betweenness_centrality']\n",
    "\n",
    "def get_closeness_centrality(team):\n",
    "    return db.teams_centralities.find({'team':team})[0]['closeness_centrality']\n",
    "\n",
    "def get_eigenvector_centrality(team):\n",
    "    return db.teams_centralities.find({'team':team})[0]['eigenvector_centrality']\n",
    "\n",
    "def get_pagerank(team):\n",
    "    return db.teams_centralities.find({'team':team})[0]['pagerank']"
   ]
  },
  {
   "cell_type": "markdown",
   "metadata": {},
   "source": [
    "# Calcolo centralità dei nodi complessiva"
   ]
  },
  {
   "cell_type": "code",
   "execution_count": 11,
   "metadata": {},
   "outputs": [],
   "source": [
    "'''\n",
    "dc_nodes = nx.degree_centrality(G)\n",
    "bc_nodes = nx.betweenness_centrality(G)\n",
    "cc_nodes = nx.closeness_centrality(G)\n",
    "ec_nodes = nx.eigenvector_centrality(G)\n",
    "pc_nodes = nx.pagerank(G)\n",
    "\n",
    "teams_centralities = []\n",
    "\n",
    "for node in G.nodes():\n",
    "    elem = {'team': node, \n",
    "            'degree_centrality': dc_nodes[node],\n",
    "            'betweenness_centrality': bc_nodes[node],\n",
    "            'closeness_centrality': cc_nodes[node],\n",
    "            'eigenvector_centrality': ec_nodes[node],\n",
    "            'pagerank': pc_nodes[node]\n",
    "           }\n",
    "    db.teams_centralities.insert_one(elem)\n",
    "'''"
   ]
  },
  {
   "cell_type": "code",
   "execution_count": null,
   "metadata": {},
   "outputs": [],
   "source": []
  }
 ],
 "metadata": {
  "kernelspec": {
   "display_name": "Python 2",
   "language": "python",
   "name": "python2"
  },
  "language_info": {
   "codemirror_mode": {
    "name": "ipython",
    "version": 2
   },
   "file_extension": ".py",
   "mimetype": "text/x-python",
   "name": "python",
   "nbconvert_exporter": "python",
   "pygments_lexer": "ipython2",
   "version": "2.7.15"
  }
 },
 "nbformat": 4,
 "nbformat_minor": 2
}
