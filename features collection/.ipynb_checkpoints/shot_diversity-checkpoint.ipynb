{
 "cells": [
  {
   "cell_type": "markdown",
   "metadata": {},
   "source": [
    "# Diversity di uno shot"
   ]
  },
  {
   "cell_type": "code",
   "execution_count": 1,
   "metadata": {},
   "outputs": [],
   "source": [
    "import pymongo\n",
    "from pymongo import MongoClient\n",
    "\n",
    "from pandas import DataFrame, read_csv\n",
    "import json\n",
    "import numpy as np\n",
    "import matplotlib.pyplot as plt\n",
    "import pandas as pd #this is how I usually import pandas\n",
    "import sys #only needed to determine Python version number\n",
    "import matplotlib #only needed to determine Matplotlib version number\n",
    "\n",
    "client = MongoClient('mongodb://127.0.0.1:27017')\n",
    "db = client.sample\n"
   ]
  },
  {
   "cell_type": "code",
   "execution_count": 2,
   "metadata": {},
   "outputs": [],
   "source": [
    "tags_found = []\n",
    "\n",
    "with open(\"/home/simo/UnInfo/Tesi Magistrale/Dataset/features/shots_tags_frequences.txt\", \"r\") as ins:\n",
    "    for line in ins:\n",
    "\n",
    "        tag = line[0:line.rfind('-')-1]\n",
    "        count = line[line.rfind('-')+2:len(line)-1]\n",
    "        elem = {'tag': tag.decode('utf-8'), 'count': int(count)}\n",
    "        tags_found.append(elem)"
   ]
  },
  {
   "cell_type": "code",
   "execution_count": 9,
   "metadata": {},
   "outputs": [],
   "source": [
    "from decimal import *\n",
    "getcontext().prec = 1000\n",
    "\n",
    "\n",
    "\n",
    "# ritorna lo shot dato il suoi id\n",
    "def get_shot(shot_id):\n",
    "    shot = db.shots.find(\n",
    "            {'shots': {\n",
    "            '$all':[{\n",
    "                    '$elemMatch': {'id': shot_id}\n",
    "                    }]\n",
    "                }}\n",
    "        )\n",
    "\n",
    "    for s in shot[0]['shots']:\n",
    "        if s['id'] == shot_id:\n",
    "            return s\n",
    "\n",
    "        \n",
    "def Utf8DecodeArray( oldArray ):  \n",
    "    newArray = []  \n",
    "    for element in oldArray:  \n",
    "        if isinstance(element, unicode):  \n",
    "            newArray.append(element.decode(\"utf-8\"))  \n",
    "        else:  \n",
    "            newArray.append(element)  \n",
    "    return str(newArray)  \n",
    "        \n",
    "        \n",
    "# clacola la prob che il tag 'tag' sia contenuto in uno shot \n",
    "# 578143 = totale degli shots CONSIDERATI\n",
    "def tag_prob(tag):\n",
    "    try:\n",
    "        tag = tag.replace(u'\\xe1', u'a')\n",
    "    except:\n",
    "        print 'Shot_diversity -> UnicodeDecodeError'\n",
    "    tag = tag.replace(u'\\xa0', u'')\n",
    "    tag = tag.replace(u'，', u',')\n",
    "    for t in tags_found:   \n",
    "        if t['tag'] == tag or (t['tag'] in tag):            \n",
    "            if float(Decimal(t['count'])/Decimal(578143)) <= float(0.001):\n",
    "                return float(0)\n",
    "            else:\n",
    "                return round(float(Decimal(t['count'])/Decimal(578143)),3)\n",
    "    print 'shot_diversity - string encoding error:'+tag\n",
    "    return 0\n",
    "\n",
    "# calcola l'informazione di un tag\n",
    "def tag_info(tag):\n",
    "    p_tag = tag_prob(tag)\n",
    "    if p_tag == 0:\n",
    "        return 0\n",
    "    else:\n",
    "        return (float(p_tag) * np.log2(float(p_tag)))*-1\n",
    "\n",
    "# Calcolo della Diversity\n",
    "def diversity(shot_tags):\n",
    "    d = 0\n",
    "    #tags = get_shot(shot_id)['tags']\n",
    "    #tags = db.shots_single.find({'id':shot_id})[0]['tags']\n",
    "    for t in shot_tags:\n",
    "        d = d + (float(tag_info(t)))\n",
    "    return d   "
   ]
  },
  {
   "cell_type": "code",
   "execution_count": null,
   "metadata": {},
   "outputs": [],
   "source": []
  }
 ],
 "metadata": {
  "kernelspec": {
   "display_name": "Python 2",
   "language": "python",
   "name": "python2"
  },
  "language_info": {
   "codemirror_mode": {
    "name": "ipython",
    "version": 2
   },
   "file_extension": ".py",
   "mimetype": "text/x-python",
   "name": "python",
   "nbconvert_exporter": "python",
   "pygments_lexer": "ipython2",
   "version": "2.7.15"
  }
 },
 "nbformat": 4,
 "nbformat_minor": 2
}
