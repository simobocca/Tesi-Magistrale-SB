{
 "cells": [
  {
   "cell_type": "markdown",
   "metadata": {},
   "source": [
    "# TEAM FEATURES VECTOR "
   ]
  },
  {
   "cell_type": "code",
   "execution_count": 1,
   "metadata": {},
   "outputs": [
    {
     "name": "stdout",
     "output_type": "stream",
     "text": [
      "importing Jupyter notebook from TEAMS_FEATURES_FUNCTIONS.ipynb\n",
      "importing Jupyter notebook from USERS_FEATURES_FUNCTION.ipynb\n",
      "importing Jupyter notebook from SHOTS_FEATURES_FUNCTIONS.ipynb\n",
      "importing Jupyter notebook from shot_diversity.ipynb\n",
      "importing Jupyter notebook from user_diversity.ipynb\n",
      "importing Jupyter notebook from users_net_analisi.ipynb\n",
      "importing Jupyter notebook from teams_net_analisi.ipynb\n"
     ]
    }
   ],
   "source": [
    "import pymongo\n",
    "from pymongo import MongoClient\n",
    "client = MongoClient('mongodb://127.0.0.1:27017')\n",
    "db = client.sample\n",
    "\n",
    "import numpy as np\n",
    "\n",
    "import import_ipynb\n",
    "import TEAMS_FEATURES_FUNCTIONS as tf\n"
   ]
  },
  {
   "cell_type": "code",
   "execution_count": 2,
   "metadata": {},
   "outputs": [
    {
     "name": "stdout",
     "output_type": "stream",
     "text": [
      "team_nusers 13\n",
      "team_degree 3\n",
      "team_avg_users_nshot 26.307692307692307\n",
      "team_max_users_nshot 63\n",
      "team_var_users_nshot 556.9822485207101\n",
      "team_med_users_nshot 13.0\n",
      "team_avg_users_in_degree 57.53846153846154\n",
      "team_max_users_in_degree 171\n",
      "team_var_users_in_degree 4949.325443786982\n",
      "team_med_users_in_degree 21.0\n",
      "team_avg_users_out_degree 106.6923076923077\n",
      "team_max_users_out_degree 295\n",
      "team_var_users_out_degree 7495.136094674556\n",
      "team_med_users_out_degree 118.0\n",
      "team_avg_users_eigenvector_centrality 0.0023755298175080633\n",
      "team_max_users_eigenvector_centrality 0.011779159053610147\n",
      "team_var_users_eigenvector_centrality 1.3489878299746484e-05\n",
      "team_med_users_eigenvector_centrality 0.0002989190165196138\n",
      "team_avg_users_pagerank 5.626824274646548e-05\n",
      "team_max_users_pagerank 0.00023537025193979223\n",
      "team_var_users_pagerank 4.119970627954664e-09\n",
      "team_med_users_pagerank 1.9123088947160296e-05\n",
      "team_avg_users_avg_shots_ranking 0.9215393281010177\n",
      "team_max_users_max_shots_ranking 5\n",
      "team_var_users_var_shots_ranking 0.20721280334180747\n",
      "team_avg_users_avg_shots_ntags 6.819748852068486\n",
      "team_max_users_max_shots_ntags 30\n",
      "team_var_users_var_shots_ntags 46.746083586023325\n",
      "team_avg_users_avg_shots_ncomments 1.7525764426518173\n",
      "team_max_users_max_shots_ncomments 47\n",
      "team_var_users_var_shots_ncomments 337.235203293821\n",
      "team_avg_users_avg_shots_nlikes 57.6959448050224\n",
      "team_max_users_max_shots_nlikes 3651\n",
      "team_var_users_var_shots_nlikes 4232772685.0514355\n",
      "team_avg_users_avg_shots_nviews 2463.556355022159\n",
      "team_max_users_max_shots_nviews 563686\n",
      "team_var_users_var_shots_nviews 2.577984418432324e+18\n",
      "team_avg_users_avg_shots_diversity"
     ]
    },
    {
     "name": "stderr",
     "output_type": "stream",
     "text": [
      "shot_diversity.ipynb:24: UnicodeWarning: Unicode equal comparison failed to convert both arguments to Unicode - interpreting them as being unequal\n",
      "  \"import sys #only needed to determine Python version number\\n\",\n"
     ]
    },
    {
     "name": "stdout",
     "output_type": "stream",
     "text": [
      " string encoding error\n",
      "0.5036324987897546\n",
      "team_max_users_max_shots_diversity string encoding error\n",
      "2.3889913673453744\n",
      "team_var_users_var_shots_diversity string encoding error\n",
      "0.006040459769009598\n",
      "team_avg_users_rank 1.5384615384615385\n",
      "team_max_users_rank 5\n",
      "team_var_users_rank 2.5562130177514795\n",
      "team_med_users_rank 1.0\n",
      "team_avg_users_diversity 1.130472829623835\n",
      "team_max_users_diversity"
     ]
    },
    {
     "name": "stderr",
     "output_type": "stream",
     "text": [
      "user_diversity.ipynb:17: UnicodeWarning: Unicode equal comparison failed to convert both arguments to Unicode - interpreting them as being unequal\n",
      "  \"from pymongo import MongoClient\\n\",\n"
     ]
    },
    {
     "name": "stdout",
     "output_type": "stream",
     "text": [
      " 3.059254176833071\n",
      "team_var_users_diversity 0.8968802918991342\n",
      "team_med_users_diversity 1.327526352766522\n",
      "team_avg_users_nskills 5.153846153846154\n",
      "team_max_users_nskills 12\n",
      "team_var_users_nskills 17.36094674556213\n",
      "team_med_users_nskills 6.0\n",
      "team_avg_users_nfollowers 1032.0\n",
      "team_max_users_nfollowers 1032\n",
      "team_var_users_nfollowers 0.0\n",
      "team_med_users_nfollowers 1032.0\n",
      "team_avg_users_nfollowings 1996.0\n",
      "team_max_users_nfollowings 1996\n",
      "team_var_users_nfollowings 0.0\n",
      "team_med_users_nfollowings 1996.0\n",
      "CPU times: user 41min 26s, sys: 1min 29s, total: 42min 55s\n",
      "Wall time: 1h 27min 45s\n"
     ]
    }
   ],
   "source": [
    "%%time\n",
    "team = 'citrusbyte'\n",
    "\n",
    "print 'team_nusers', tf.team_nusers(team)\n",
    "print 'team_degree', tf.team_degree(team)\n",
    "\n",
    "print 'team_degree_centrality', tf.team_degree_centrality(team)\n",
    "print 'team_betweenness_centrality', tf.team_betweenness_centrality(team)\n",
    "print 'team_closeness_centrality', tf.team_closeness_centrality(team)\n",
    "print 'team_eigenvector_centrality', tf.team_eigenvector_centrality(team)\n",
    "print 'team_pagerank', tf.team_pagerank(team)\n",
    "\n",
    "\n",
    "print 'team_avg_users_nshot', tf.team_avg_users_nshot(team)\n",
    "print 'team_max_users_nshot', tf.team_max_users_nshot(team)\n",
    "print 'team_var_users_nshot', tf.team_var_users_nshot(team)\n",
    "print 'team_med_users_nshot', tf.team_med_users_nshot(team)\n",
    "\n",
    "print 'team_avg_users_in_degree', tf.team_avg_users_in_degree(team)\n",
    "print 'team_max_users_in_degree', tf.team_max_users_in_degree(team)\n",
    "print 'team_var_users_in_degree', tf.team_var_users_in_degree(team)\n",
    "print 'team_med_users_in_degree', tf.team_med_users_in_degree(team)\n",
    "\n",
    "print 'team_avg_users_out_degree', tf.team_avg_users_out_degree(team)\n",
    "print 'team_max_users_out_degree', tf.team_max_users_out_degree(team)\n",
    "print 'team_var_users_out_degree', tf.team_var_users_out_degree(team)\n",
    "print 'team_med_users_out_degree', tf.team_med_users_out_degree(team)\n",
    "\n",
    "print 'team_avg_users_eigenvector_centrality', tf.team_avg_users_eigenvector_centrality(team)\n",
    "print 'team_max_users_eigenvector_centrality', tf.team_max_users_eigenvector_centrality(team)\n",
    "print 'team_var_users_eigenvector_centrality', tf.team_var_users_eigenvector_centrality(team)\n",
    "print 'team_med_users_eigenvector_centrality', tf.team_med_users_eigenvector_centrality(team)\n",
    "\n",
    "print 'team_avg_users_pagerank', tf.team_avg_users_pagerank(team)\n",
    "print 'team_max_users_pagerank', tf.team_max_users_pagerank(team)\n",
    "print 'team_var_users_pagerank', tf.team_var_users_pagerank(team)\n",
    "print 'team_med_users_pagerank', tf.team_med_users_pagerank(team)\n",
    "\n",
    "print 'team_avg_users_avg_shots_ranking', tf.team_avg_users_avg_shots_ranking(team)\n",
    "print 'team_max_users_max_shots_ranking', tf.team_max_users_max_shots_ranking(team)\n",
    "print 'team_var_users_var_shots_ranking', tf.team_var_users_var_shots_ranking(team)\n",
    "\n",
    "print 'team_avg_users_avg_shots_ntags', tf.team_avg_users_avg_shots_ntags(team)\n",
    "print 'team_max_users_max_shots_ntags', tf.team_max_users_max_shots_ntags(team)\n",
    "print 'team_var_users_var_shots_ntags', tf.team_var_users_var_shots_ntags(team)\n",
    "\n",
    "print 'team_avg_users_avg_shots_ncomments', tf.team_avg_users_avg_shots_ncomments(team)\n",
    "print 'team_max_users_max_shots_ncomments', tf.team_max_users_max_shots_ncomments(team)\n",
    "print 'team_var_users_var_shots_ncomments', tf.team_var_users_var_shots_ncomments(team)\n",
    "\n",
    "print 'team_avg_users_avg_shots_nlikes', tf.team_avg_users_avg_shots_nlikes(team)\n",
    "print 'team_max_users_max_shots_nlikes', tf.team_max_users_max_shots_nlikes(team)\n",
    "print 'team_var_users_var_shots_nlikes', tf.team_var_users_var_shots_nlikes(team)\n",
    "\n",
    "print 'team_avg_users_avg_shots_nviews', tf.team_avg_users_avg_shots_nviews(team)\n",
    "print 'team_max_users_max_shots_nviews', tf.team_max_users_max_shots_nviews(team)\n",
    "print 'team_var_users_var_shots_nviews', tf.team_var_users_var_shots_nviews(team)\n",
    "\n",
    "print 'team_avg_users_avg_shots_diversity', tf.team_avg_users_avg_shots_diversity(team)\n",
    "print 'team_max_users_max_shots_diversity', tf.team_max_users_max_shots_diversity(team)\n",
    "print 'team_var_users_var_shots_diversity', tf.team_var_users_var_shots_diversity(team)\n",
    "\n",
    "print 'team_avg_users_rank', tf.team_avg_users_rank(team)\n",
    "print 'team_max_users_rank', tf.team_max_users_rank(team)\n",
    "print 'team_var_users_rank', tf.team_var_users_rank(team)\n",
    "print 'team_med_users_rank', tf.team_med_users_rank(team)\n",
    "\n",
    "print 'team_avg_users_diversity', tf.team_avg_users_diversity(team)\n",
    "print 'team_max_users_diversity', tf.team_max_users_diversity(team)\n",
    "print 'team_var_users_diversity', tf.team_var_users_diversity(team)\n",
    "print 'team_med_users_diversity', tf.team_med_users_diversity(team)\n",
    "\n",
    "print 'team_avg_users_nskills', tf.team_avg_users_nskills(team)\n",
    "print 'team_max_users_nskills', tf.team_max_users_nskills(team)\n",
    "print 'team_var_users_nskills', tf.team_var_users_nskills(team)\n",
    "print 'team_med_users_nskills', tf.team_med_users_nskills(team)\n",
    "\n",
    "print 'team_avg_users_nfollowers', tf.team_avg_users_nfollowers(team)\n",
    "print 'team_max_users_nfollowers', tf.team_max_users_nfollowers(team)\n",
    "print 'team_var_users_nfollowers', tf.team_var_users_nfollowers(team)\n",
    "print 'team_med_users_nfollowers', tf.team_med_users_nfollowers(team)\n",
    "\n",
    "print 'team_avg_users_nfollowings', tf.team_avg_users_nfollowings(team)\n",
    "print 'team_max_users_nfollowings', tf.team_max_users_nfollowings(team)\n",
    "print 'team_var_users_nfollowings', tf.team_var_users_nfollowings(team)\n",
    "print 'team_med_users_nfollowings', tf.team_med_users_nfollowings(team)"
   ]
  },
  {
   "cell_type": "code",
   "execution_count": null,
   "metadata": {},
   "outputs": [],
   "source": []
  }
 ],
 "metadata": {
  "kernelspec": {
   "display_name": "Python 2",
   "language": "python",
   "name": "python2"
  },
  "language_info": {
   "codemirror_mode": {
    "name": "ipython",
    "version": 2
   },
   "file_extension": ".py",
   "mimetype": "text/x-python",
   "name": "python",
   "nbconvert_exporter": "python",
   "pygments_lexer": "ipython2",
   "version": "2.7.15"
  }
 },
 "nbformat": 4,
 "nbformat_minor": 2
}
