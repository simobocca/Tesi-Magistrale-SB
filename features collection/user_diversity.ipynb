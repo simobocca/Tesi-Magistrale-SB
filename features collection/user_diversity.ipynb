{
 "cells": [
  {
   "cell_type": "markdown",
   "metadata": {},
   "source": [
    "# User Diversity"
   ]
  },
  {
   "cell_type": "code",
   "execution_count": 18,
   "metadata": {},
   "outputs": [],
   "source": [
    "import pymongo\n",
    "from pymongo import MongoClient\n",
    "\n",
    "from pandas import DataFrame, read_csv\n",
    "import json\n",
    "import numpy as np\n",
    "import matplotlib.pyplot as plt\n",
    "import pandas as pd #this is how I usually import pandas\n",
    "import sys #only needed to determine Python version number\n",
    "import matplotlib #only needed to determine Matplotlib version number\n",
    "\n",
    "client = MongoClient('mongodb://127.0.0.1:27017')\n",
    "db = client.sample\n",
    "\n",
    "cu = db.users.find()\n",
    "cs = db.shots.find()\n",
    "ct = db.teams.find()\n",
    "cutfs = db.user_team_first_shot.find()\n",
    "cr = db.shots_ranking.find()"
   ]
  },
  {
   "cell_type": "code",
   "execution_count": null,
   "metadata": {},
   "outputs": [],
   "source": [
    "def exist(user, lista):\n",
    "    for u in lista:\n",
    "        if u['username'] == user:\n",
    "            return True\n",
    "    return False   \n",
    "\n",
    "def crea_users_in_teams():\n",
    "    cutfs = db.user_team_first_shot.find()\n",
    "    usernames_no_repeated = []\n",
    "    for user in cutfs:\n",
    "        if not exist(user['user'], usernames_no_repeated):\n",
    "            usernames_no_repeated.append({'username': user['user'], 'team': user['team']})\n",
    "            \n",
    "    db.drop_collection('users_in_teams')\n",
    "    for u in usernames_no_repeated:\n",
    "        db.users_in_teams.insert_one(u)"
   ]
  },
  {
   "cell_type": "code",
   "execution_count": 25,
   "metadata": {},
   "outputs": [],
   "source": [
    "skills_found = []\n",
    "\n",
    "with open(\"/home/simo/UnInfo/Tesi Magistrale/Dataset/features/skills_frequences.txt\", \"r\") as ins:\n",
    "    for line in ins:\n",
    "        skill = line[0:line.rfind('-')-1]\n",
    "        count = line[line.rfind('-')+2:len(line)-1]\n",
    "        elem = {'skill': skill, 'count': int(count)}\n",
    "        skills_found.append(elem)"
   ]
  },
  {
   "cell_type": "code",
   "execution_count": 23,
   "metadata": {},
   "outputs": [
    {
     "name": "stderr",
     "output_type": "stream",
     "text": [
      "/home/simo/anaconda2/lib/python2.7/site-packages/ipykernel_launcher.py:11: DeprecationWarning: count is deprecated. Use Collection.count_documents instead.\n",
      "  # This is added back by InteractiveShellApp.init_path()\n"
     ]
    }
   ],
   "source": [
    "from decimal import *\n",
    "getcontext().prec = 5\n",
    "\n",
    "users_in_teams = db.users_in_teams.find()\n",
    "\n",
    "\n",
    "# Numero di users che hanno skill\n",
    "user_with_skills = []\n",
    "for u in users_in_teams:\n",
    "    active_user = db.skills.find({'user': u['username']})\n",
    "    if active_user.count() > 0: \n",
    "        user_with_skills.append(active_user)\n",
    "\n",
    "# clacola la prob che la skill 'skill' sia contenuto in uno user \n",
    "def skill_prob(skill):\n",
    "    for s in skills_found:\n",
    "        if s['skill'] == skill:\n",
    "            return float(Decimal(s['count'])/Decimal(len(user_with_skills)))\n",
    "\n",
    "# calcola l'informazione di una skill\n",
    "def skill_info(skill):\n",
    "    p_skill = skill_prob(skill)\n",
    "    return (float(p_skill) * np.log2(float(p_skill)))*-1\n",
    "\n",
    "# Calcolo della Diversity\n",
    "def diversity(user):\n",
    "    d = 0\n",
    "    skills = db.skills.find({'user':user})[0]['skills']\n",
    "    for s in skills:\n",
    "        d = d + (float(skill_info(s)))\n",
    "    return d   "
   ]
  },
  {
   "cell_type": "code",
   "execution_count": null,
   "metadata": {},
   "outputs": [],
   "source": []
  }
 ],
 "metadata": {
  "kernelspec": {
   "display_name": "Python 2",
   "language": "python",
   "name": "python2"
  },
  "language_info": {
   "codemirror_mode": {
    "name": "ipython",
    "version": 2
   },
   "file_extension": ".py",
   "mimetype": "text/x-python",
   "name": "python",
   "nbconvert_exporter": "python",
   "pygments_lexer": "ipython2",
   "version": "2.7.15"
  }
 },
 "nbformat": 4,
 "nbformat_minor": 2
}
