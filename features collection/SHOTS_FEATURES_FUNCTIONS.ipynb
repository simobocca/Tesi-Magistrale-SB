{
 "cells": [
  {
   "cell_type": "markdown",
   "metadata": {},
   "source": [
    "# SHOTS FEATURES FUNCTIONS"
   ]
  },
  {
   "cell_type": "code",
   "execution_count": 8,
   "metadata": {},
   "outputs": [],
   "source": [
    "import pymongo\n",
    "from pymongo import MongoClient\n",
    "client = MongoClient('mongodb://127.0.0.1:27017')\n",
    "db = client.sample\n",
    "\n",
    "\n",
    "import import_ipynb\n",
    "import shot_diversity as sd\n"
   ]
  },
  {
   "cell_type": "code",
   "execution_count": 9,
   "metadata": {},
   "outputs": [],
   "source": [
    "def shot_rank(shot_id):\n",
    "    return db.shots_ranking.find({'shot': shot_id})[0]['rank']"
   ]
  },
  {
   "cell_type": "code",
   "execution_count": 10,
   "metadata": {},
   "outputs": [],
   "source": [
    "def shot_diversity(shot_id):\n",
    "    return sd.diversity(shot_id)"
   ]
  },
  {
   "cell_type": "code",
   "execution_count": 11,
   "metadata": {},
   "outputs": [],
   "source": [
    "def shot_ntags(shot_id):\n",
    "    user = db.shots.find({\n",
    "        'shots': { '$elemMatch': { 'id':shot_id}}\n",
    "    })[0]\n",
    "    for s in user['shots']:\n",
    "        if s['id'] == shot_id:\n",
    "            return len(s['tags'])"
   ]
  },
  {
   "cell_type": "code",
   "execution_count": 12,
   "metadata": {},
   "outputs": [],
   "source": [
    "def shot_ncomments(shot_id):\n",
    "    user = db.shots.find({\n",
    "        'shots': { '$elemMatch': { 'id':shot_id}}\n",
    "    })[0]\n",
    "    for s in user['shots']:\n",
    "        if s['id'] == shot_id:\n",
    "            return s['comments_count']"
   ]
  },
  {
   "cell_type": "code",
   "execution_count": 13,
   "metadata": {},
   "outputs": [],
   "source": [
    "def shot_nlikes(shot_id):\n",
    "    user = db.shots.find({\n",
    "        'shots': { '$elemMatch': { 'id':shot_id}}\n",
    "    })[0]\n",
    "    for s in user['shots']:\n",
    "        if s['id'] == shot_id:\n",
    "            return s['likes_count']"
   ]
  },
  {
   "cell_type": "code",
   "execution_count": 14,
   "metadata": {},
   "outputs": [],
   "source": [
    "def shot_nviews(shot_id):\n",
    "    user = db.shots.find({\n",
    "        'shots': { '$elemMatch': { 'id':shot_id}}\n",
    "    })[0]\n",
    "    for s in user['shots']:\n",
    "        if s['id'] == shot_id:\n",
    "            return s['views_count']"
   ]
  },
  {
   "cell_type": "code",
   "execution_count": null,
   "metadata": {},
   "outputs": [],
   "source": []
  }
 ],
 "metadata": {
  "kernelspec": {
   "display_name": "Python 2",
   "language": "python",
   "name": "python2"
  },
  "language_info": {
   "codemirror_mode": {
    "name": "ipython",
    "version": 2
   },
   "file_extension": ".py",
   "mimetype": "text/x-python",
   "name": "python",
   "nbconvert_exporter": "python",
   "pygments_lexer": "ipython2",
   "version": "2.7.15"
  }
 },
 "nbformat": 4,
 "nbformat_minor": 2
}
