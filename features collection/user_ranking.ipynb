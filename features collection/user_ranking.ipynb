{
 "cells": [
  {
   "cell_type": "markdown",
   "metadata": {},
   "source": [
    "# User ranking in base alle skills"
   ]
  },
  {
   "cell_type": "code",
   "execution_count": 1,
   "metadata": {},
   "outputs": [],
   "source": [
    "import pymongo\n",
    "from pymongo import MongoClient\n",
    "\n",
    "from pandas import DataFrame, read_csv\n",
    "import json\n",
    "import numpy as np\n",
    "import matplotlib.pyplot as plt\n",
    "import pandas as pd #this is how I usually import pandas\n",
    "import sys #only needed to determine Python version number\n",
    "import matplotlib #only needed to determine Matplotlib version number\n",
    "\n",
    "client = MongoClient('mongodb://127.0.0.1:27017')\n",
    "db = client.sample\n",
    "\n",
    "cu = db.users.find()\n",
    "cs = db.shots.find()\n",
    "ct = db.teams.find()\n",
    "cutfs = db.user_team_first_shot.find()\n",
    "cr = db.shots_ranking.find()"
   ]
  },
  {
   "cell_type": "code",
   "execution_count": 2,
   "metadata": {},
   "outputs": [],
   "source": [
    "usernames_no_repeated = []\n",
    "for user in cutfs:\n",
    "    if user['user'] not in usernames_no_repeated:\n",
    "        usernames_no_repeated.append(user['user'])"
   ]
  },
  {
   "cell_type": "code",
   "execution_count": 10,
   "metadata": {},
   "outputs": [],
   "source": [
    "skills_found = []\n",
    "\n",
    "with open(\"/home/simo/UnInfo/Tesi Magistrale/Dataset/features/skills_frequences.txt\", \"r\") as ins:\n",
    "    for line in ins:\n",
    "        skill = line[0:line.rfind('-')-1]\n",
    "        count = line[line.rfind('-')+2:len(line)-1]\n",
    "        elem = {'skill': skill, 'count': int(count)}\n",
    "        skills_found.append(elem)"
   ]
  },
  {
   "cell_type": "code",
   "execution_count": 14,
   "metadata": {},
   "outputs": [],
   "source": [
    "def n_most_frequent(n, skill_list):\n",
    "    \n",
    "    skills = []\n",
    "    \n",
    "    max_skill_prev = {'count':1000000}\n",
    "    for i in range(0,n):\n",
    "        max = 0\n",
    "        max_skill = {}\n",
    "        for t in skill_list:\n",
    "            if int(t['count']) > max and int(t['count']) < int(max_skill_prev['count']):\n",
    "                max = int(t['count'])\n",
    "                max_skill = t\n",
    "                \n",
    "        \n",
    "        max_skill_prev = max_skill\n",
    "        skills.append(max_skill)\n",
    "    return skills"
   ]
  },
  {
   "cell_type": "code",
   "execution_count": 16,
   "metadata": {},
   "outputs": [
    {
     "data": {
      "text/plain": [
       "['web design',\n",
       " 'ui',\n",
       " 'ux',\n",
       " 'illustration',\n",
       " 'branding',\n",
       " 'product design',\n",
       " 'ui design',\n",
       " 'graphic design',\n",
       " 'ux design',\n",
       " 'design']"
      ]
     },
     "execution_count": 16,
     "metadata": {},
     "output_type": "execute_result"
    }
   ],
   "source": [
    "skills_str = []\n",
    "for skill in n_most_frequent(10, skills_found):\n",
    "    skills_str.append(skill['skill'])\n",
    "skills_str"
   ]
  },
  {
   "cell_type": "code",
   "execution_count": null,
   "metadata": {},
   "outputs": [],
   "source": [
    "%%time\n",
    "\n",
    "ranking = []\n",
    "\n",
    "i=0\n",
    "\n",
    "for u in usernames_no_repeated:\n",
    "    active_user = db.skills.find({'user': u})\n",
    "    if active_user.count() > 0: \n",
    "        user_rank = 0\n",
    "        for s in active_user[0]['skills']:\n",
    "            if s in skills_str:\n",
    "                user_rank = user_rank + 1\n",
    "\n",
    "        elem = {'user': active_user[0]['user'], 'rank': user_rank}\n",
    "        ranking.append(elem)\n",
    "    \n",
    "    i=i+1\n",
    "    print i"
   ]
  },
  {
   "cell_type": "code",
   "execution_count": null,
   "metadata": {},
   "outputs": [],
   "source": [
    "i=0\n",
    "for r in ranking:\n",
    "    db.user_ranking.insert_one(r)\n",
    "    i=i+1\n",
    "    print i"
   ]
  },
  {
   "cell_type": "markdown",
   "metadata": {},
   "source": [
    "### Funzione che restitusce il rank di uno user"
   ]
  },
  {
   "cell_type": "code",
   "execution_count": 32,
   "metadata": {},
   "outputs": [],
   "source": [
    "def user_rank(user):\n",
    "    return db.user_ranking.find({'user': user})[0]['rank']"
   ]
  },
  {
   "cell_type": "code",
   "execution_count": 33,
   "metadata": {},
   "outputs": [
    {
     "data": {
      "text/plain": [
       "6"
      ]
     },
     "execution_count": 33,
     "metadata": {},
     "output_type": "execute_result"
    }
   ],
   "source": [
    "user_rank('hellohelloteam')"
   ]
  },
  {
   "cell_type": "code",
   "execution_count": null,
   "metadata": {},
   "outputs": [],
   "source": []
  }
 ],
 "metadata": {
  "kernelspec": {
   "display_name": "Python 2",
   "language": "python",
   "name": "python2"
  },
  "language_info": {
   "codemirror_mode": {
    "name": "ipython",
    "version": 2
   },
   "file_extension": ".py",
   "mimetype": "text/x-python",
   "name": "python",
   "nbconvert_exporter": "python",
   "pygments_lexer": "ipython2",
   "version": "2.7.15"
  }
 },
 "nbformat": 4,
 "nbformat_minor": 2
}
