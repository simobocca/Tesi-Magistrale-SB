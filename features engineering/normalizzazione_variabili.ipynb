{
 "cells": [
  {
   "cell_type": "markdown",
   "metadata": {},
   "source": [
    "# Normalizzazione delle features"
   ]
  },
  {
   "cell_type": "code",
   "execution_count": 1,
   "metadata": {},
   "outputs": [],
   "source": [
    "import pymongo\n",
    "from pymongo import MongoClient\n",
    "client = MongoClient('mongodb://127.0.0.1:27017')\n",
    "db = client.sample\n",
    "\n",
    "import numpy as np\n",
    "import pandas as pd\n",
    "import matplotlib.pyplot as plt\n",
    "\n",
    "from sklearn.preprocessing import RobustScaler\n",
    "from sklearn.model_selection import cross_val_score\n",
    "from sklearn.svm import SVR\n",
    "from sklearn.linear_model import (LinearRegression, Ridge, Lasso, RandomizedLasso)"
   ]
  },
  {
   "cell_type": "code",
   "execution_count": 14,
   "metadata": {},
   "outputs": [],
   "source": [
    "samples = pd.read_csv('../features collection/test data/800 teams multi-target/800_teams_vectors.csv')\n",
    "samples = samples.drop(samples.columns[0], axis=1)"
   ]
  },
  {
   "cell_type": "code",
   "execution_count": 17,
   "metadata": {},
   "outputs": [
    {
     "name": "stderr",
     "output_type": "stream",
     "text": [
      "/home/simo/anaconda2/lib/python2.7/site-packages/ipykernel_launcher.py:3: SettingWithCopyWarning: \n",
      "A value is trying to be set on a copy of a slice from a DataFrame\n",
      "\n",
      "See the caveats in the documentation: http://pandas.pydata.org/pandas-docs/stable/indexing.html#indexing-view-versus-copy\n",
      "  This is separate from the ipykernel package so we can avoid doing imports until\n",
      "/home/simo/anaconda2/lib/python2.7/site-packages/ipykernel_launcher.py:6: SettingWithCopyWarning: \n",
      "A value is trying to be set on a copy of a slice from a DataFrame\n",
      "\n",
      "See the caveats in the documentation: http://pandas.pydata.org/pandas-docs/stable/indexing.html#indexing-view-versus-copy\n",
      "  \n",
      "/home/simo/anaconda2/lib/python2.7/site-packages/ipykernel_launcher.py:9: SettingWithCopyWarning: \n",
      "A value is trying to be set on a copy of a slice from a DataFrame\n",
      "\n",
      "See the caveats in the documentation: http://pandas.pydata.org/pandas-docs/stable/indexing.html#indexing-view-versus-copy\n",
      "  if __name__ == '__main__':\n",
      "/home/simo/anaconda2/lib/python2.7/site-packages/ipykernel_launcher.py:12: SettingWithCopyWarning: \n",
      "A value is trying to be set on a copy of a slice from a DataFrame\n",
      "\n",
      "See the caveats in the documentation: http://pandas.pydata.org/pandas-docs/stable/indexing.html#indexing-view-versus-copy\n",
      "  if sys.path[0] == '':\n",
      "/home/simo/anaconda2/lib/python2.7/site-packages/ipykernel_launcher.py:15: SettingWithCopyWarning: \n",
      "A value is trying to be set on a copy of a slice from a DataFrame\n",
      "\n",
      "See the caveats in the documentation: http://pandas.pydata.org/pandas-docs/stable/indexing.html#indexing-view-versus-copy\n",
      "  from ipykernel import kernelapp as app\n",
      "/home/simo/anaconda2/lib/python2.7/site-packages/ipykernel_launcher.py:18: SettingWithCopyWarning: \n",
      "A value is trying to be set on a copy of a slice from a DataFrame\n",
      "\n",
      "See the caveats in the documentation: http://pandas.pydata.org/pandas-docs/stable/indexing.html#indexing-view-versus-copy\n",
      "/home/simo/anaconda2/lib/python2.7/site-packages/ipykernel_launcher.py:21: SettingWithCopyWarning: \n",
      "A value is trying to be set on a copy of a slice from a DataFrame\n",
      "\n",
      "See the caveats in the documentation: http://pandas.pydata.org/pandas-docs/stable/indexing.html#indexing-view-versus-copy\n",
      "/home/simo/anaconda2/lib/python2.7/site-packages/ipykernel_launcher.py:24: SettingWithCopyWarning: \n",
      "A value is trying to be set on a copy of a slice from a DataFrame\n",
      "\n",
      "See the caveats in the documentation: http://pandas.pydata.org/pandas-docs/stable/indexing.html#indexing-view-versus-copy\n",
      "/home/simo/anaconda2/lib/python2.7/site-packages/ipykernel_launcher.py:29: SettingWithCopyWarning: \n",
      "A value is trying to be set on a copy of a slice from a DataFrame\n",
      "\n",
      "See the caveats in the documentation: http://pandas.pydata.org/pandas-docs/stable/indexing.html#indexing-view-versus-copy\n",
      "/home/simo/anaconda2/lib/python2.7/site-packages/ipykernel_launcher.py:32: SettingWithCopyWarning: \n",
      "A value is trying to be set on a copy of a slice from a DataFrame\n",
      "\n",
      "See the caveats in the documentation: http://pandas.pydata.org/pandas-docs/stable/indexing.html#indexing-view-versus-copy\n",
      "/home/simo/anaconda2/lib/python2.7/site-packages/ipykernel_launcher.py:35: SettingWithCopyWarning: \n",
      "A value is trying to be set on a copy of a slice from a DataFrame\n",
      "\n",
      "See the caveats in the documentation: http://pandas.pydata.org/pandas-docs/stable/indexing.html#indexing-view-versus-copy\n",
      "/home/simo/anaconda2/lib/python2.7/site-packages/ipykernel_launcher.py:38: SettingWithCopyWarning: \n",
      "A value is trying to be set on a copy of a slice from a DataFrame\n",
      "\n",
      "See the caveats in the documentation: http://pandas.pydata.org/pandas-docs/stable/indexing.html#indexing-view-versus-copy\n",
      "/home/simo/anaconda2/lib/python2.7/site-packages/ipykernel_launcher.py:41: SettingWithCopyWarning: \n",
      "A value is trying to be set on a copy of a slice from a DataFrame\n",
      "\n",
      "See the caveats in the documentation: http://pandas.pydata.org/pandas-docs/stable/indexing.html#indexing-view-versus-copy\n",
      "/home/simo/anaconda2/lib/python2.7/site-packages/ipykernel_launcher.py:44: SettingWithCopyWarning: \n",
      "A value is trying to be set on a copy of a slice from a DataFrame\n",
      "\n",
      "See the caveats in the documentation: http://pandas.pydata.org/pandas-docs/stable/indexing.html#indexing-view-versus-copy\n"
     ]
    },
    {
     "name": "stdout",
     "output_type": "stream",
     "text": [
      "CPU times: user 6min 37s, sys: 556 ms, total: 6min 37s\n",
      "Wall time: 6min 37s\n"
     ]
    }
   ],
   "source": [
    "%%time\n",
    "\n",
    "for i in range(0,len(samples.team_avg_users_nshot)):\n",
    "    samples.team_avg_users_nshot[i] = samples.team_avg_users_nshot[i] / samples.team_nusers[i]\n",
    "    \n",
    "for i in range(0,len(samples.team_avg_users_in_degree)):\n",
    "    samples.team_avg_users_in_degree[i] = samples.team_avg_users_in_degree[i] / samples.team_nusers[i]\n",
    "    \n",
    "for i in range(0,len(samples.team_avg_users_out_degree)):\n",
    "    samples.team_avg_users_out_degree[i] = samples.team_avg_users_out_degree[i] / samples.team_nusers[i]\n",
    "     \n",
    "for i in range(0,len(samples.team_avg_users_rank)):\n",
    "    samples.team_avg_users_rank[i] = samples.team_avg_users_rank[i] / samples.team_nusers[i]\n",
    "    \n",
    "for i in range(0,len(samples.team_avg_users_diversity)):\n",
    "    samples.team_avg_users_diversity[i] = samples.team_avg_users_diversity[i] / samples.team_nusers[i]\n",
    "    \n",
    "for i in range(0,len(samples.team_avg_users_nskills)):\n",
    "    samples.team_avg_users_nskills[i] = samples.team_avg_users_nskills[i] / samples.team_nusers[i]\n",
    "    \n",
    "for i in range(0,len(samples.team_avg_users_nfollowers)):\n",
    "    samples.team_avg_users_nfollowers[i] = samples.team_avg_users_nfollowers[i] / samples.team_nusers[i]\n",
    "    \n",
    "for i in range(0,len(samples.team_avg_users_nfollowings)):\n",
    "    samples.team_avg_users_nfollowings[i] = samples.team_avg_users_nfollowings[i] / samples.team_nusers[i]\n",
    "    \n",
    "# shot\n",
    "    \n",
    "for i in range(0,len(samples.team_avg_users_avg_shots_ranking)):\n",
    "    samples.team_avg_users_avg_shots_ranking[i] = samples.team_avg_users_avg_shots_ranking[i] / samples.team_nusers[i]\n",
    "    \n",
    "for i in range(0,len(samples.team_avg_users_avg_shots_ntags)):\n",
    "    samples.team_avg_users_avg_shots_ntags[i] = samples.team_avg_users_avg_shots_ntags[i] / samples.team_nusers[i]\n",
    "    \n",
    "for i in range(0,len(samples.team_avg_users_avg_shots_ncomments)):\n",
    "    samples.team_avg_users_avg_shots_ncomments[i] = samples.team_avg_users_avg_shots_ncomments[i] / samples.team_nusers[i]\n",
    "    \n",
    "for i in range(0,len(samples.team_avg_users_avg_shots_nlikes)):\n",
    "    samples.team_avg_users_avg_shots_nlikes[i] = samples.team_avg_users_avg_shots_nlikes[i] / samples.team_nusers[i]\n",
    "    \n",
    "for i in range(0,len(samples.team_avg_users_avg_shots_nviews)):\n",
    "    samples.team_avg_users_avg_shots_nviews[i] = samples.team_avg_users_avg_shots_nviews[i] / samples.team_nusers[i]\n",
    "    \n",
    "for i in range(0,len(samples.team_avg_users_avg_shots_diversity)):\n",
    "    samples.team_avg_users_avg_shots_diversity[i] = samples.team_avg_users_avg_shots_diversity[i] / samples.team_nusers[i]"
   ]
  },
  {
   "cell_type": "code",
   "execution_count": 22,
   "metadata": {},
   "outputs": [],
   "source": [
    "samples.to_csv(\"800_teams_vectors_weighted_features.csv\", float_format='%.6f')"
   ]
  },
  {
   "cell_type": "code",
   "execution_count": null,
   "metadata": {},
   "outputs": [],
   "source": []
  }
 ],
 "metadata": {
  "kernelspec": {
   "display_name": "Python 2",
   "language": "python",
   "name": "python2"
  },
  "language_info": {
   "codemirror_mode": {
    "name": "ipython",
    "version": 2
   },
   "file_extension": ".py",
   "mimetype": "text/x-python",
   "name": "python",
   "nbconvert_exporter": "python",
   "pygments_lexer": "ipython2",
   "version": "2.7.15"
  }
 },
 "nbformat": 4,
 "nbformat_minor": 2
}
