{
 "cells": [
  {
   "cell_type": "code",
   "execution_count": 1,
   "metadata": {},
   "outputs": [],
   "source": [
    "import pymongo\n",
    "from pymongo import MongoClient\n",
    "\n",
    "from pandas import DataFrame, read_csv\n",
    "import json\n",
    "import matplotlib.pyplot as plt\n",
    "import pandas as pd #this is how I usually import pandas\n",
    "import sys #only needed to determine Python version number\n",
    "import matplotlib #only needed to determine Matplotlib version number\n",
    "\n",
    "import ast\n",
    "import time\n",
    "from datetime import datetime\n"
   ]
  },
  {
   "cell_type": "markdown",
   "metadata": {},
   "source": [
    "### Get db reference"
   ]
  },
  {
   "cell_type": "code",
   "execution_count": 2,
   "metadata": {},
   "outputs": [],
   "source": [
    "client = MongoClient('mongodb://127.0.0.1:27017')\n",
    "db = client.sample\n"
   ]
  },
  {
   "cell_type": "code",
   "execution_count": 4,
   "metadata": {},
   "outputs": [
    {
     "data": {
      "text/plain": [
       "[u'system.indexes',\n",
       " u'users_in_teams',\n",
       " u'teams_centralities',\n",
       " u'users',\n",
       " u'likes',\n",
       " u'shots_single',\n",
       " u'user_ranking',\n",
       " u'shots_ranking',\n",
       " u'test',\n",
       " u'user_translate',\n",
       " u'teams',\n",
       " u'skills',\n",
       " u'shots',\n",
       " u'test_copy',\n",
       " u'followers',\n",
       " u'user_team_first_shot']"
      ]
     },
     "execution_count": 4,
     "metadata": {},
     "output_type": "execute_result"
    }
   ],
   "source": [
    "db.list_collection_names()\n"
   ]
  },
  {
   "cell_type": "code",
   "execution_count": 21,
   "metadata": {
    "scrolled": false
   },
   "outputs": [
    {
     "data": {
      "text/plain": [
       "{u'_id': ObjectId('5bb259ace2850521dc2f1856'),\n",
       " u'avatar_url': u'https://cdn.dribbble.com/users/673130/avatars/normal/4fb0be803bf3f04fdf007117e4622bfc.png?1507932552',\n",
       " u'bio': u'We are a global team of strategy, design and development experts.',\n",
       " u'buckets_count': 0,\n",
       " u'buckets_url': u'https://api.dribbble.com/v1/users/673130/buckets',\n",
       " u'can_upload_shot': True,\n",
       " u'comments_received_count': 0,\n",
       " u'created_at': 1413503476,\n",
       " u'followers_count': 1042,\n",
       " u'followers_url': u'https://api.dribbble.com/v1/users/673130/followers',\n",
       " u'following_url': u'https://api.dribbble.com/v1/users/673130/following',\n",
       " u'followings_count': 1943,\n",
       " u'html_url': u'https://dribbble.com/citrusbyte',\n",
       " u'id': 673130,\n",
       " u'likes_count': 471,\n",
       " u'likes_received_count': 40,\n",
       " u'likes_url': u'https://api.dribbble.com/v1/users/673130/likes',\n",
       " u'links': {u'twitter': u'https://twitter.com/citrusbyte',\n",
       "  u'web': u'https://citrusbyte.com'},\n",
       " u'location': u'Los Angeles',\n",
       " u'members_count': 18,\n",
       " u'members_url': u'https://api.dribbble.com/v1/teams/673130/members',\n",
       " u'name': u'Citrusbyte',\n",
       " u'pro': False,\n",
       " u'projects_count': 5,\n",
       " u'projects_url': u'https://api.dribbble.com/v1/users/673130/projects',\n",
       " u'rebounds_received_count': 11,\n",
       " u'shots_count': 121,\n",
       " u'shots_url': u'https://api.dribbble.com/v1/users/673130/shots',\n",
       " u'team_shots_url': u'https://api.dribbble.com/v1/teams/673130/shots',\n",
       " u'type': u'Team',\n",
       " u'updated_at': 1513613343,\n",
       " u'username': u'citrusbyte'}"
      ]
     },
     "execution_count": 21,
     "metadata": {},
     "output_type": "execute_result"
    }
   ],
   "source": [
    "db.teams.find()[0]"
   ]
  },
  {
   "cell_type": "markdown",
   "metadata": {},
   "source": [
    "### Add users DataFrame to db's new collection 'users'"
   ]
  },
  {
   "cell_type": "code",
   "execution_count": null,
   "metadata": {},
   "outputs": [],
   "source": [
    "Location = r'/home/simo/UnInfo/Tesi Magistrale/Dataset/users.tsv'\n",
    "df = pd.read_csv(Location, sep='\\t')\n",
    "desc = df[df.columns[1]]\n"
   ]
  },
  {
   "cell_type": "code",
   "execution_count": null,
   "metadata": {},
   "outputs": [],
   "source": [
    "print desc[5]"
   ]
  },
  {
   "cell_type": "code",
   "execution_count": null,
   "metadata": {},
   "outputs": [],
   "source": [
    "len(desc)"
   ]
  },
  {
   "cell_type": "markdown",
   "metadata": {},
   "source": [
    "#### This function remove some problematic tags "
   ]
  },
  {
   "cell_type": "code",
   "execution_count": null,
   "metadata": {},
   "outputs": [],
   "source": [
    "\n",
    "def parseUser(user):\n",
    "    temp = user.replace(\": null\",\": \\\"null\\\"\")\n",
    "    \n",
    "    temp = temp.replace(\" \\\"can_upload_shot\\\": false,\",\"\")\n",
    "    temp = temp.replace(\" \\\"pro\\\": false,\",\"\")\n",
    "    temp = temp.replace(\"\\\"can_upload_shot\\\": false,\",\"\")\n",
    "    temp = temp.replace(\"\\\"pro\\\": false,\",\"\")\n",
    "    temp = temp.replace(\" \\\"can_upload_shot\\\": false\",\"\")\n",
    "    temp = temp.replace(\" \\\"pro\\\": false\",\"\")\n",
    "    \n",
    "    temp = temp.replace(\" \\\"can_upload_shot\\\": true,\",\"\")\n",
    "    temp = temp.replace(\" \\\"pro\\\": true,\",\"\")\n",
    "    temp = temp.replace(\"\\\"can_upload_shot\\\": true,\",\"\")\n",
    "    temp = temp.replace(\"\\\"pro\\\": true,\",\"\")\n",
    "    temp = temp.replace(\" \\\"can_upload_shot\\\": true\",\"\")\n",
    "    temp = temp.replace(\" \\\"pro\\\": true\",\"\")\n",
    "    \n",
    "    # rimuove la virgola al fondo se esiste\n",
    "    if temp[len(temp)-2] == ',':\n",
    "        l = list(temp)\n",
    "        l[len(temp)-2] = ''\n",
    "        temp = ''.join(l)\n",
    "    \n",
    "    \n",
    "    return temp\n",
    "    "
   ]
  },
  {
   "cell_type": "markdown",
   "metadata": {},
   "source": [
    "# test su campione di user"
   ]
  },
  {
   "cell_type": "code",
   "execution_count": null,
   "metadata": {},
   "outputs": [],
   "source": [
    "\n",
    "\n",
    "db.drop_collection('test_users')\n",
    "\n",
    "campione = []\n",
    "#campione.append(desc[12345])\n",
    "#campione.append(desc[12346])\n",
    "campione.append(desc[1])\n",
    "\n",
    "\n",
    "for elem in campione:\n",
    "    temp = parseUser(elem)\n",
    "    json_elem = json.loads(temp)\n",
    "\n",
    "    json_elem.pop('followers_url', None)\n",
    "    json_elem.pop('following_url', None)\n",
    "    json_elem.pop('avatar_url', None)\n",
    "    json_elem.pop('buckets_url', None)\n",
    "    json_elem.pop('likes_url', None)\n",
    "    json_elem.pop('links', None)\n",
    "    json_elem.pop('members_url', None)\n",
    "    json_elem.pop('projects_url', None)\n",
    "    json_elem.pop('shots_url', None)\n",
    "    json_elem.pop('team_shots_url', None)\n",
    "    json_elem.pop('type', None)\n",
    "    json_elem.pop('teams_url', None)\n",
    "    json_elem.pop('html_url', None)\n",
    "    \n",
    "    d = datetime.strptime(json_elem['created_at'], '%Y-%m-%dT%H:%M:%SZ')\n",
    "    unixtime = time.mktime(d.timetuple())\n",
    "    json_elem['created_at'] = int(unixtime)\n",
    "    \n",
    "    d = datetime.strptime(json_elem['updated_at'], '%Y-%m-%dT%H:%M:%SZ')\n",
    "    unixtime = time.mktime(d.timetuple())\n",
    "    json_elem['updated_at'] = int(unixtime)\n",
    "    \n",
    "    #print json_elem\n",
    "    \n",
    "    db.test_users.insert_one(json_elem)\n",
    "    \n",
    "\n"
   ]
  },
  {
   "cell_type": "code",
   "execution_count": null,
   "metadata": {},
   "outputs": [],
   "source": [
    "\n",
    "\n",
    "cursor = db.test_users.find()\n",
    "for c in cursor:\n",
    "    print c['username'], c['created_at'] , c['updated_at']"
   ]
  },
  {
   "cell_type": "code",
   "execution_count": null,
   "metadata": {},
   "outputs": [],
   "source": [
    "\n",
    "dato =  json.loads('{\"teams_count\": 0, \"shots_count\": 0, \"id\": 1049422}')"
   ]
  },
  {
   "cell_type": "markdown",
   "metadata": {},
   "source": [
    "# Insert users on mongo db"
   ]
  },
  {
   "cell_type": "code",
   "execution_count": null,
   "metadata": {},
   "outputs": [],
   "source": [
    "%%time\n",
    "\n",
    "db.drop_collection('users')\n",
    "\n",
    "for elem in desc:\n",
    "    temp = parseUser(elem)\n",
    "    \n",
    "    try:\n",
    "        json_elem = json.loads(temp)\n",
    "    except:\n",
    "        print temp\n",
    "        break\n",
    "        \n",
    "    json_elem.pop('followers_url', None)\n",
    "    json_elem.pop('following_url', None)\n",
    "    json_elem.pop('avatar_url', None)\n",
    "    json_elem.pop('buckets_url', None)\n",
    "    json_elem.pop('likes_url', None)\n",
    "    json_elem.pop('links', None)\n",
    "    json_elem.pop('members_url', None)\n",
    "    json_elem.pop('projects_url', None)\n",
    "    json_elem.pop('shots_url', None)\n",
    "    json_elem.pop('type', None)\n",
    "    json_elem.pop('html_url', None)\n",
    "    \n",
    "    try:\n",
    "        \n",
    "        d = datetime.strptime(json_elem['created_at'], '%Y-%m-%dT%H:%M:%SZ')\n",
    "        unixtime = time.mktime(d.timetuple())\n",
    "        json_elem['created_at'] = int(unixtime)\n",
    "\n",
    "        d = datetime.strptime(json_elem['updated_at'], '%Y-%m-%dT%H:%M:%SZ')\n",
    "        unixtime = time.mktime(d.timetuple())\n",
    "        json_elem['updated_at'] = int(unixtime)\n",
    "    \n",
    "    except:\n",
    "        continue\n",
    "    \n",
    "    db.users.insert_one(json_elem)\n",
    "    \n"
   ]
  },
  {
   "cell_type": "code",
   "execution_count": null,
   "metadata": {},
   "outputs": [],
   "source": [
    "cursor = db.users.find()\n",
    "print cursor.count()"
   ]
  },
  {
   "cell_type": "markdown",
   "metadata": {},
   "source": [
    "non tutti i record hanno i campi 'created_at' e 'update_at', quindi vengono scartati, le perdite sono 85"
   ]
  },
  {
   "cell_type": "markdown",
   "metadata": {},
   "source": [
    "### Add followers DataFrame to db's new collection 'followers'"
   ]
  },
  {
   "cell_type": "code",
   "execution_count": null,
   "metadata": {},
   "outputs": [],
   "source": [
    "Location = r'/home/simo/UnInfo/Tesi Magistrale/Dataset/elaborati/followers_df.csv'\n",
    "df = pd.read_csv(Location)\n",
    "\n",
    "desc_followers = df[df.columns[2]]\n",
    "desc_user = df[df.columns[1]]\n"
   ]
  },
  {
   "cell_type": "markdown",
   "metadata": {},
   "source": [
    "### test su campione di followers"
   ]
  },
  {
   "cell_type": "code",
   "execution_count": null,
   "metadata": {},
   "outputs": [],
   "source": [
    "print len(desc_user)\n",
    "print len(desc_followers)/10000"
   ]
  },
  {
   "cell_type": "code",
   "execution_count": null,
   "metadata": {},
   "outputs": [],
   "source": [
    "# funzione di traduzione per gli username (non usata per ora)\n",
    "def getId(username):\n",
    "    user = db.user_translate.find( { 'username': username } )\n",
    "    if user.count()>0 :\n",
    "        return user[0]['id']\n",
    "    else:\n",
    "        return -1"
   ]
  },
  {
   "cell_type": "code",
   "execution_count": null,
   "metadata": {},
   "outputs": [],
   "source": [
    "print getId('tolikng')"
   ]
  },
  {
   "cell_type": "code",
   "execution_count": null,
   "metadata": {},
   "outputs": [],
   "source": [
    "def createFollowersJson(user, followed):\n",
    "    # falls è la lista dei followers di uno user\n",
    "    falls = json.loads(followed)\n",
    "\n",
    "    # creo il json json_falls che conterrà lo username dello user in analisi, \n",
    "    # e l'array di json corrispondente agli utenti che segue.\n",
    "    # creo l'array falls_array che è un array di json, ovvero gli utenti seguiti da quello user\n",
    "    json_falls = {}\n",
    "    \n",
    "    # opzione per il caricamento delgi usernames tradotti\n",
    "    #ID = getId(user)\n",
    "    #if ID != -1:\n",
    "\n",
    "    json_falls[\"username\"] = user\n",
    "\n",
    "    falls_array = []\n",
    "    for f in falls:\n",
    "        falls_array.append({'timestamp': f[0], 'follower_user': f[1]})\n",
    "\n",
    "    json_falls[\"followers\"] = falls_array\n",
    "\n",
    "\n",
    "    #else:\n",
    "        #return 0\n",
    "\n",
    "    return json_falls"
   ]
  },
  {
   "cell_type": "markdown",
   "metadata": {},
   "source": [
    "### insert followers on db"
   ]
  },
  {
   "cell_type": "code",
   "execution_count": null,
   "metadata": {},
   "outputs": [],
   "source": [
    "%%time\n",
    "\n",
    "db.drop_collection('followers')\n",
    "\n",
    "for i in range(len(desc_followers)):\n",
    "\n",
    "    json_elem = createFollowersJson(desc_user[i], desc_followers[i])\n",
    "    if json_elem != 0:\n",
    "        db.followers.insert_one(json_elem)\n"
   ]
  },
  {
   "cell_type": "code",
   "execution_count": null,
   "metadata": {},
   "outputs": [],
   "source": [
    "cursor = db.followers.find()\n",
    "\n",
    "print cursor.count()\n",
    "\n",
    "cursor[0]"
   ]
  },
  {
   "cell_type": "markdown",
   "metadata": {},
   "source": [
    "### Add likes DataFrame to db's new collection 'likes'"
   ]
  },
  {
   "cell_type": "code",
   "execution_count": null,
   "metadata": {},
   "outputs": [],
   "source": [
    "Location = r'/home/simo/UnInfo/Tesi Magistrale/Dataset/elaborati/likes_df.csv'\n",
    "df = pd.read_csv(Location)\n"
   ]
  },
  {
   "cell_type": "markdown",
   "metadata": {},
   "source": [
    "### test su campione di likes"
   ]
  },
  {
   "cell_type": "code",
   "execution_count": null,
   "metadata": {},
   "outputs": [],
   "source": [
    "desc_post = df[df.columns[2]]\n",
    "desc_likes = df[df.columns[1]]"
   ]
  },
  {
   "cell_type": "code",
   "execution_count": null,
   "metadata": {},
   "outputs": [],
   "source": [
    "print len(desc_post)/100000\n",
    "print len(desc_likes)\n",
    "\n",
    "print desc_post[2484374]\n",
    "print desc_likes[2484374]"
   ]
  },
  {
   "cell_type": "code",
   "execution_count": null,
   "metadata": {},
   "outputs": [],
   "source": [
    "def createLikesJson(post, likes):\n",
    "\n",
    "    # falls è la lista dei followers di uno user\n",
    "    like_list = json.loads(likes)\n",
    "\n",
    "    # creo il json json_falls che conterrà lo username dello user in analisi, \n",
    "    # e l'array di json corrispondente agli utenti che segue.\n",
    "    # creo l'array falls_array che è un array di json, ovvero gli utenti seguiti da quello user\n",
    "    json_likes = {}\n",
    "    json_likes[\"post\"] = post\n",
    "\n",
    "    likes_array = []\n",
    "\n",
    "    for i in range(len(like_list)):\n",
    "        #print like_list[i][0], ' - ', like_list[i][1], ' - ', like_list[i][2]\n",
    "        likes_array.append({'timestamp': like_list[i][1], 'like_id': like_list[i][0], 'username': like_list[i][2]})\n",
    "\n",
    "    json_likes[\"likes\"] = likes_array\n",
    "\n",
    "\n",
    "    return json_likes"
   ]
  },
  {
   "cell_type": "code",
   "execution_count": null,
   "metadata": {},
   "outputs": [],
   "source": [
    "db.drop_collection('likes')\n",
    "\n",
    "for i in range(len(desc_likes)):\n",
    "    json_elem = createLikesJson(desc_post[i], desc_likes[i])\n",
    "    \n",
    "    db.likes.insert_one(json_elem)"
   ]
  },
  {
   "cell_type": "code",
   "execution_count": null,
   "metadata": {},
   "outputs": [],
   "source": [
    "cursor = db.likes.find()\n",
    "print cursor.count()\n",
    "\n",
    "print cursor[2484374]\n"
   ]
  },
  {
   "cell_type": "markdown",
   "metadata": {},
   "source": [
    "### Add shots DataFrame to db's new collection 'shots'"
   ]
  },
  {
   "cell_type": "code",
   "execution_count": null,
   "metadata": {},
   "outputs": [],
   "source": [
    "Location = r'/home/simo/UnInfo/Tesi Magistrale/Dataset/shots.tsv'\n",
    "df = pd.read_csv(Location, sep='\\t')\n",
    "desc_user = df[df.columns[0]]\n",
    "desc_shots = df[df.columns[1]]"
   ]
  },
  {
   "cell_type": "code",
   "execution_count": null,
   "metadata": {},
   "outputs": [],
   "source": [
    "desc[0]"
   ]
  },
  {
   "cell_type": "code",
   "execution_count": null,
   "metadata": {},
   "outputs": [],
   "source": [
    "print len(desc_user)\n",
    "print len(desc_shots)"
   ]
  },
  {
   "cell_type": "code",
   "execution_count": null,
   "metadata": {},
   "outputs": [],
   "source": [
    "db.drop_collection('shots')\n",
    "\n",
    "for i in range(len(desc_user)):\n",
    "\n",
    "    json_shot_list = json.loads(desc_shots[i])\n",
    "    \n",
    "    json_shot = {}\n",
    "    json_shot[\"username\"] = desc_user[i]\n",
    "    \n",
    "    shots_array = []\n",
    "    \n",
    "    for s in json_shot_list:\n",
    "        \n",
    "        \n",
    "        s.pop('attachments_count', None)\n",
    "        s.pop('attachments_url', None)\n",
    "        s.pop('buckets_count', None)\n",
    "        s.pop('buckets_url', None)\n",
    "        s.pop('comments_url', None)\n",
    "        s.pop('html_url', None)\n",
    "        s.pop('images', None)\n",
    "        s.pop('normal', None)\n",
    "        s.pop('teaser', None)\n",
    "        s.pop('likes_url', None)\n",
    "        s.pop('projects_url', None)\n",
    "        s.pop('rebounds_count', None)\n",
    "        s.pop('rebounds_url', None)\n",
    "        \n",
    "\n",
    "\n",
    "        try:\n",
    "            d = datetime.strptime(s['created_at'], '%Y-%m-%dT%H:%M:%SZ')\n",
    "            unixtime = time.mktime(d.timetuple())\n",
    "            s['created_at'] = int(unixtime)\n",
    "\n",
    "            d = datetime.strptime(s['updated_at'], '%Y-%m-%dT%H:%M:%SZ')\n",
    "            unixtime = time.mktime(d.timetuple())\n",
    "            s['updated_at'] = int(unixtime)\n",
    "            \n",
    "        except Exception as e: \n",
    "            print(e)\n",
    "\n",
    "        shots_array.append(s)\n",
    "        \n",
    "        \n",
    "            \n",
    "    json_shot['shots'] = shots_array\n",
    "    \n",
    "    db.shots.insert_one(json_shot)\n",
    "    \n",
    "print 'Done!'"
   ]
  },
  {
   "cell_type": "code",
   "execution_count": null,
   "metadata": {},
   "outputs": [],
   "source": [
    "\n",
    "cursor = db.shots.find()\n",
    "print cursor.count()"
   ]
  },
  {
   "cell_type": "code",
   "execution_count": null,
   "metadata": {},
   "outputs": [],
   "source": [
    "cursor[0]"
   ]
  },
  {
   "cell_type": "code",
   "execution_count": null,
   "metadata": {},
   "outputs": [],
   "source": [
    "print cursor[771252]['username']\n",
    "print len(cursor[771252]['shots'])"
   ]
  },
  {
   "cell_type": "markdown",
   "metadata": {},
   "source": [
    "### metto sul db la tabella di traduzione id-username degli utenti"
   ]
  },
  {
   "cell_type": "code",
   "execution_count": null,
   "metadata": {},
   "outputs": [],
   "source": [
    "cursor = db.users.find()\n",
    "translate_table = pd.DataFrame()\n",
    "\n",
    "username = []\n",
    "user_id = []\n",
    "\n",
    "for user in cursor:\n",
    "    username.append(user['username'])\n",
    "    user_id.append(user['id'])\n",
    "    \n",
    "translate_table.insert(loc=0, column='username', value=username, allow_duplicates=False)\n",
    "translate_table.insert(loc=0, column='id', value=user_id, allow_duplicates=False)"
   ]
  },
  {
   "cell_type": "code",
   "execution_count": null,
   "metadata": {},
   "outputs": [],
   "source": [
    "\n",
    "for i in range(translate_table.count()[0]):\n",
    "    json_elem = {'username': translate_table['username'][i], 'id': translate_table['id'][i]}\n",
    "    db.user_translate.insert_one(json_elem)"
   ]
  },
  {
   "cell_type": "code",
   "execution_count": null,
   "metadata": {},
   "outputs": [],
   "source": [
    "cursor = db.user_translate.find()"
   ]
  },
  {
   "cell_type": "code",
   "execution_count": null,
   "metadata": {},
   "outputs": [],
   "source": [
    "print cursor[0]"
   ]
  },
  {
   "cell_type": "markdown",
   "metadata": {},
   "source": [
    "# Base di dati per gli shots , foramto singolo (non aggragati per utente)"
   ]
  },
  {
   "cell_type": "code",
   "execution_count": null,
   "metadata": {},
   "outputs": [],
   "source": [
    "jsontemp = {'prova':1,'test':2}\n",
    "print jsontemp"
   ]
  },
  {
   "cell_type": "code",
   "execution_count": null,
   "metadata": {},
   "outputs": [],
   "source": [
    "db.shots.find().count()"
   ]
  },
  {
   "cell_type": "code",
   "execution_count": null,
   "metadata": {},
   "outputs": [],
   "source": [
    "db.drop_collection('shots_single')\n",
    "\n",
    "i=0\n",
    "\n",
    "for elem in db.shots.find():\n",
    "    for s in elem['shots']:\n",
    "        s['user'] = elem['username']\n",
    "        db.shots_single.insert_one(s)\n",
    "        \n",
    "    i=i+1\n",
    "    print i\n"
   ]
  },
  {
   "cell_type": "code",
   "execution_count": null,
   "metadata": {},
   "outputs": [],
   "source": [
    "db.shots_single.find().count()"
   ]
  },
  {
   "cell_type": "code",
   "execution_count": null,
   "metadata": {},
   "outputs": [],
   "source": []
  }
 ],
 "metadata": {
  "kernelspec": {
   "display_name": "Python 2",
   "language": "python",
   "name": "python2"
  },
  "language_info": {
   "codemirror_mode": {
    "name": "ipython",
    "version": 2
   },
   "file_extension": ".py",
   "mimetype": "text/x-python",
   "name": "python",
   "nbconvert_exporter": "python",
   "pygments_lexer": "ipython2",
   "version": "2.7.15"
  }
 },
 "nbformat": 4,
 "nbformat_minor": 2
}
