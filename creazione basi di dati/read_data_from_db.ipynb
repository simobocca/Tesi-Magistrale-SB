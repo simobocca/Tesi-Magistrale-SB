{
 "cells": [
  {
   "cell_type": "code",
   "execution_count": 1,
   "metadata": {},
   "outputs": [],
   "source": [
    "import pymongo\n",
    "from pymongo import MongoClient\n",
    "\n",
    "from pandas import DataFrame, read_csv\n",
    "import json\n",
    "import matplotlib.pyplot as plt\n",
    "import pandas as pd #this is how I usually import pandas\n",
    "import sys #only needed to determine Python version number\n",
    "import matplotlib #only needed to determine Matplotlib version number"
   ]
  },
  {
   "cell_type": "code",
   "execution_count": 2,
   "metadata": {},
   "outputs": [],
   "source": [
    "client = MongoClient('mongodb://127.0.0.1:27017')\n",
    "db = client.sample"
   ]
  },
  {
   "cell_type": "code",
   "execution_count": 4,
   "metadata": {},
   "outputs": [
    {
     "name": "stdout",
     "output_type": "stream",
     "text": [
      "771448\n",
      "2484404\n",
      "772073\n",
      "771263\n"
     ]
    },
    {
     "name": "stderr",
     "output_type": "stream",
     "text": [
      "/home/simo/anaconda2/lib/python2.7/site-packages/ipykernel_launcher.py:1: DeprecationWarning: count is deprecated. Use Collection.count_documents instead.\n",
      "  \"\"\"Entry point for launching an IPython kernel.\n",
      "/home/simo/anaconda2/lib/python2.7/site-packages/ipykernel_launcher.py:2: DeprecationWarning: count is deprecated. Use Collection.count_documents instead.\n",
      "  \n",
      "/home/simo/anaconda2/lib/python2.7/site-packages/ipykernel_launcher.py:3: DeprecationWarning: count is deprecated. Use Collection.count_documents instead.\n",
      "  This is separate from the ipykernel package so we can avoid doing imports until\n",
      "/home/simo/anaconda2/lib/python2.7/site-packages/ipykernel_launcher.py:4: DeprecationWarning: count is deprecated. Use Collection.count_documents instead.\n",
      "  after removing the cwd from sys.path.\n"
     ]
    }
   ],
   "source": [
    "print db.users.find().count()\n",
    "print db.likes.find().count()\n",
    "print db.followers.find().count()\n",
    "print db.shots.find().count()"
   ]
  },
  {
   "cell_type": "code",
   "execution_count": 7,
   "metadata": {},
   "outputs": [
    {
     "name": "stdout",
     "output_type": "stream",
     "text": [
      "[u'system.indexes', u'users', u'test', u'likes', u'user_translate', u'followers', u'shots']\n"
     ]
    }
   ],
   "source": [
    "\n",
    "print db.list_collection_names()"
   ]
  },
  {
   "cell_type": "markdown",
   "metadata": {},
   "source": [
    "### Print tests"
   ]
  },
  {
   "cell_type": "code",
   "execution_count": 5,
   "metadata": {},
   "outputs": [
    {
     "name": "stdout",
     "output_type": "stream",
     "text": [
      "arestov_design  -  695302\n",
      "space307  -  1946520\n",
      "Hido  -  1875583\n"
     ]
    }
   ],
   "source": [
    "cursorU = db.users.find()\n",
    "print cursorU[0]['username'], ' - ', cursorU[0]['id']\n",
    "print cursorU[1]['username'], ' - ', cursorU[1]['id']\n",
    "print cursorU[2]['username'], ' - ', cursorU[2]['id']"
   ]
  },
  {
   "cell_type": "markdown",
   "metadata": {},
   "source": [
    "#### print followers list as a json"
   ]
  },
  {
   "cell_type": "code",
   "execution_count": 81,
   "metadata": {},
   "outputs": [
    {
     "name": "stdout",
     "output_type": "stream",
     "text": [
      "{u'username': u'hugowelke', u'_id': ObjectId('5b5b6180e285053f143a45ce'), u'followed': [{u'timestamp': 1498405006, u'followed_user': u'bleaning'}, {u'timestamp': 1467312933, u'followed_user': u'Krispopa'}, {u'timestamp': 1466752696, u'followed_user': u'Boyana'}, {u'timestamp': 1460570830, u'followed_user': u'mdigirolUX'}, {u'timestamp': 1459776976, u'followed_user': u'agammell'}, {u'timestamp': 1459523330, u'followed_user': u'ux'}, {u'timestamp': 1458830031, u'followed_user': u'timeril'}, {u'timestamp': 1458826479, u'followed_user': u'lesley'}, {u'timestamp': 1457884890, u'followed_user': u'arthurmb'}, {u'timestamp': 1456340956, u'followed_user': u'KieronKeenan'}, {u'timestamp': 1447202472, u'followed_user': u'eclarkginsberg'}, {u'timestamp': 1445613474, u'followed_user': u'laramata'}, {u'timestamp': 1441116786, u'followed_user': u'nelsonjoyce'}, {u'timestamp': 1436273984, u'followed_user': u'adarowski'}, {u'timestamp': 1435869242, u'followed_user': u'danielbeere'}, {u'timestamp': 1435001722, u'followed_user': u'kopkaz23'}, {u'timestamp': 1431505105, u'followed_user': u'neilcooperdesign'}, {u'timestamp': 1428330865, u'followed_user': u'RachelWright'}]}\n"
     ]
    }
   ],
   "source": [
    "cursorF = db.followers.find()\n",
    "print cursorF[0]"
   ]
  },
  {
   "cell_type": "markdown",
   "metadata": {},
   "source": [
    "#### print likes list as a json"
   ]
  },
  {
   "cell_type": "code",
   "execution_count": 86,
   "metadata": {},
   "outputs": [
    {
     "name": "stdout",
     "output_type": "stream",
     "text": [
      "1786592\n",
      "False\n"
     ]
    }
   ],
   "source": [
    "cursorL = db.likes.find()\n",
    "\n",
    "print cursorL[2]['post']\n",
    "print len(cursorL[2]['likes']) > 0"
   ]
  },
  {
   "cell_type": "markdown",
   "metadata": {},
   "source": [
    "### Count test"
   ]
  },
  {
   "cell_type": "code",
   "execution_count": 58,
   "metadata": {},
   "outputs": [
    {
     "name": "stdout",
     "output_type": "stream",
     "text": [
      "followers 772073\n",
      "users 771448\n",
      "likes 2484404\n",
      "shots 771263\n"
     ]
    },
    {
     "name": "stderr",
     "output_type": "stream",
     "text": [
      "/home/simo/anaconda2/lib/python2.7/site-packages/ipykernel_launcher.py:5: DeprecationWarning: count is deprecated. Use Collection.count_documents instead.\n",
      "  \"\"\"\n",
      "/home/simo/anaconda2/lib/python2.7/site-packages/ipykernel_launcher.py:6: DeprecationWarning: count is deprecated. Use Collection.count_documents instead.\n",
      "  \n",
      "/home/simo/anaconda2/lib/python2.7/site-packages/ipykernel_launcher.py:7: DeprecationWarning: count is deprecated. Use Collection.count_documents instead.\n",
      "  import sys\n",
      "/home/simo/anaconda2/lib/python2.7/site-packages/ipykernel_launcher.py:8: DeprecationWarning: count is deprecated. Use Collection.count_documents instead.\n",
      "  \n"
     ]
    }
   ],
   "source": [
    "cursorF = db.followers.find()\n",
    "cursorU = db.users.find()\n",
    "cursorL = db.likes.find()\n",
    "cursorS = db.shots.find()\n",
    "print 'followers', cursorF.count()\n",
    "print 'users', cursorU.count()\n",
    "print 'likes', cursorL.count()\n",
    "print 'shots', cursorS.count()\n",
    "\n"
   ]
  },
  {
   "cell_type": "markdown",
   "metadata": {},
   "source": [
    "### controllo corrispondenza id_utente-username"
   ]
  },
  {
   "cell_type": "code",
   "execution_count": null,
   "metadata": {},
   "outputs": [],
   "source": [
    "\n",
    "\n",
    "def transalte()"
   ]
  },
  {
   "cell_type": "code",
   "execution_count": 108,
   "metadata": {},
   "outputs": [
    {
     "name": "stderr",
     "output_type": "stream",
     "text": [
      "/home/simo/anaconda2/lib/python2.7/site-packages/ipykernel_launcher.py:2: DeprecationWarning: count is deprecated. Use Collection.count_documents instead.\n",
      "  \n",
      "/home/simo/anaconda2/lib/python2.7/site-packages/ipykernel_launcher.py:6: DeprecationWarning: count is deprecated. Use Collection.count_documents instead.\n",
      "  \n"
     ]
    },
    {
     "name": "stdout",
     "output_type": "stream",
     "text": [
      "7720\n",
      "7676\n"
     ]
    },
    {
     "name": "stderr",
     "output_type": "stream",
     "text": [
      "/home/simo/anaconda2/lib/python2.7/site-packages/ipykernel_launcher.py:10: DeprecationWarning: count is deprecated. Use Collection.count_documents instead.\n",
      "  # Remove the CWD from sys.path while we load stuff.\n"
     ]
    }
   ],
   "source": [
    "i = 0\n",
    "for f in range(cursorF.count()/100):\n",
    "    username = cursorF[f]['username']\n",
    "    #print username\n",
    "    user = db.users.find( { 'username': username } )\n",
    "    if user.count()>0 :\n",
    "        #print user[0], '\\n'\n",
    "        i = i+1\n",
    "\n",
    "print cursorF.count()/100\n",
    "print i"
   ]
  },
  {
   "cell_type": "code",
   "execution_count": 17,
   "metadata": {},
   "outputs": [
    {
     "name": "stdout",
     "output_type": "stream",
     "text": [
      "{u'username': 879434, u'_id': ObjectId('5b5b6183e285053f143a5204'), u'followed': [{u'timestamp': 1510578020, u'followed_user': u'supaprime'}, {u'timestamp': 1508842402, u'followed_user': u'thizizraz'}, {u'timestamp': 1504588706, u'followed_user': u'vojinderonjic'}, {u'timestamp': 1501049217, u'followed_user': u'JubbJubb'}, {u'timestamp': 1500529970, u'followed_user': u'brk'}, {u'timestamp': 1499412408, u'followed_user': u'FilipProchazka'}, {u'timestamp': 1499319777, u'followed_user': u'brba'}, {u'timestamp': 1498538823, u'followed_user': u'katalea02'}, {u'timestamp': 1498213843, u'followed_user': u'itsgrafik'}, {u'timestamp': 1498204881, u'followed_user': u'elpassion'}, {u'timestamp': 1498154318, u'followed_user': u'karalejic'}]}\n"
     ]
    },
    {
     "name": "stderr",
     "output_type": "stream",
     "text": [
      "/home/simo/anaconda2/lib/python2.7/site-packages/ipykernel_launcher.py:4: DeprecationWarning: count is deprecated. Use Collection.count_documents instead.\n",
      "  after removing the cwd from sys.path.\n"
     ]
    },
    {
     "name": "stdout",
     "output_type": "stream",
     "text": [
      "olicsan\n"
     ]
    },
    {
     "name": "stderr",
     "output_type": "stream",
     "text": [
      "/home/simo/anaconda2/lib/python2.7/site-packages/ipykernel_launcher.py:8: DeprecationWarning: count is deprecated. Use Collection.count_documents instead.\n",
      "  \n"
     ]
    },
    {
     "name": "stdout",
     "output_type": "stream",
     "text": [
      "yuriy_stasyshyn\n"
     ]
    }
   ],
   "source": [
    "\n",
    "print cursorF[1213]\n",
    "user = db.user_translate.find( { 'id': cursorF[1213]['username'] } )\n",
    "if user.count()>0 :\n",
    "    print user[0]['username']\n",
    "    \n",
    "user = db.users.find( { 'id': cursorF[1213]['username'] } )\n",
    "if user.count()>0 :\n",
    "    print user[0]['username']"
   ]
  },
  {
   "cell_type": "code",
   "execution_count": 68,
   "metadata": {},
   "outputs": [
    {
     "name": "stdout",
     "output_type": "stream",
     "text": [
      "725817\n"
     ]
    },
    {
     "name": "stderr",
     "output_type": "stream",
     "text": [
      "/home/simo/anaconda2/lib/python2.7/site-packages/ipykernel_launcher.py:2: DeprecationWarning: count is deprecated. Use Collection.count_documents instead.\n",
      "  \n"
     ]
    }
   ],
   "source": [
    "cursorF = db.followers.find()\n",
    "print cursorF.count()"
   ]
  },
  {
   "cell_type": "code",
   "execution_count": 43,
   "metadata": {},
   "outputs": [
    {
     "ename": "IndexError",
     "evalue": "no such item for Cursor instance",
     "output_type": "error",
     "traceback": [
      "\u001b[0;31m---------------------------------------------------------------------------\u001b[0m",
      "\u001b[0;31mIndexError\u001b[0m                                Traceback (most recent call last)",
      "\u001b[0;32m<ipython-input-43-580a6be20ff7>\u001b[0m in \u001b[0;36m<module>\u001b[0;34m()\u001b[0m\n\u001b[0;32m----> 1\u001b[0;31m \u001b[0;32mprint\u001b[0m \u001b[0mcursorF\u001b[0m\u001b[0;34m[\u001b[0m\u001b[0;36m0\u001b[0m\u001b[0;34m]\u001b[0m\u001b[0;34m[\u001b[0m\u001b[0;34m'followed'\u001b[0m\u001b[0;34m]\u001b[0m\u001b[0;34m\u001b[0m\u001b[0m\n\u001b[0m",
      "\u001b[0;32m/home/simo/anaconda2/lib/python2.7/site-packages/pymongo/cursor.pyc\u001b[0m in \u001b[0;36m__getitem__\u001b[0;34m(self, index)\u001b[0m\n\u001b[1;32m    610\u001b[0m             \u001b[0;32mfor\u001b[0m \u001b[0mdoc\u001b[0m \u001b[0;32min\u001b[0m \u001b[0mclone\u001b[0m\u001b[0;34m:\u001b[0m\u001b[0;34m\u001b[0m\u001b[0m\n\u001b[1;32m    611\u001b[0m                 \u001b[0;32mreturn\u001b[0m \u001b[0mdoc\u001b[0m\u001b[0;34m\u001b[0m\u001b[0m\n\u001b[0;32m--> 612\u001b[0;31m             \u001b[0;32mraise\u001b[0m \u001b[0mIndexError\u001b[0m\u001b[0;34m(\u001b[0m\u001b[0;34m\"no such item for Cursor instance\"\u001b[0m\u001b[0;34m)\u001b[0m\u001b[0;34m\u001b[0m\u001b[0m\n\u001b[0m\u001b[1;32m    613\u001b[0m         raise TypeError(\"index %r cannot be applied to Cursor \"\n\u001b[1;32m    614\u001b[0m                         \"instances\" % index)\n",
      "\u001b[0;31mIndexError\u001b[0m: no such item for Cursor instance"
     ]
    }
   ],
   "source": [
    "print cursorF[0]['followed']"
   ]
  },
  {
   "cell_type": "code",
   "execution_count": 11,
   "metadata": {},
   "outputs": [
    {
     "name": "stdout",
     "output_type": "stream",
     "text": [
      "{u'username': u'EthanOB', u'_id': ObjectId('5b633387e285051834113fbe'), u'id': 768150}\n"
     ]
    }
   ],
   "source": [
    "print db.user_translate.find({ 'id':  768150})[0]"
   ]
  },
  {
   "cell_type": "code",
   "execution_count": 24,
   "metadata": {},
   "outputs": [
    {
     "name": "stdout",
     "output_type": "stream",
     "text": [
      "{u'username': u'ArianaMarks', u'_id': ObjectId('5b63332ee2850518340d667a'), u'id': 760131}\n"
     ]
    }
   ],
   "source": [
    "print db.user_translate.find({ 'username':  'ArianaMarks'})[0]"
   ]
  },
  {
   "cell_type": "code",
   "execution_count": null,
   "metadata": {},
   "outputs": [],
   "source": []
  }
 ],
 "metadata": {
  "kernelspec": {
   "display_name": "Python 2",
   "language": "python",
   "name": "python2"
  },
  "language_info": {
   "codemirror_mode": {
    "name": "ipython",
    "version": 2
   },
   "file_extension": ".py",
   "mimetype": "text/x-python",
   "name": "python",
   "nbconvert_exporter": "python",
   "pygments_lexer": "ipython2",
   "version": "2.7.15"
  }
 },
 "nbformat": 4,
 "nbformat_minor": 2
}
