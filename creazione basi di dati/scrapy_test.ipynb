{
 "cells": [
  {
   "cell_type": "code",
   "execution_count": 1,
   "metadata": {},
   "outputs": [],
   "source": [
    "import pymongo\n",
    "from pymongo import MongoClient\n",
    "\n",
    "from pandas import DataFrame, read_csv\n",
    "import json\n",
    "import matplotlib.pyplot as plt\n",
    "import pandas as pd #this is how I usually import pandas\n",
    "import sys #only needed to determine Python version number\n",
    "import matplotlib #only needed to determine Matplotlib version number\n",
    "\n",
    "import ast\n",
    "import time\n",
    "from datetime import datetime\n",
    "\n",
    "import pygraphviz as pgv\n",
    "\n",
    "client = MongoClient('mongodb://127.0.0.1:27017')\n",
    "db = client.sample"
   ]
  },
  {
   "cell_type": "code",
   "execution_count": 8,
   "metadata": {},
   "outputs": [
    {
     "data": {
      "text/plain": [
       "{u'skills': [u'app design',\n",
       "  u'bitcoin',\n",
       "  u'block chain',\n",
       "  u'cryptocurrency',\n",
       "  u'design',\n",
       "  u'graphics design',\n",
       "  u'icon design',\n",
       "  u'illstration',\n",
       "  u'mobile app design',\n",
       "  u'motion design',\n",
       "  u'user experience design',\n",
       "  u'user interface design',\n",
       "  u'web design'],\n",
       " u'user': u'io1234'}"
      ]
     },
     "execution_count": 8,
     "metadata": {},
     "output_type": "execute_result"
    }
   ],
   "source": [
    "json_data = open('/home/simo/UnInfo/Tesi Magistrale/test/scrapy_detection/scrapy_detection/spiders/skills.json').read()\n",
    "\n",
    "data = json.loads(json_data)\n",
    "data[0]"
   ]
  },
  {
   "cell_type": "code",
   "execution_count": null,
   "metadata": {},
   "outputs": [],
   "source": []
  }
 ],
 "metadata": {
  "kernelspec": {
   "display_name": "Python 2",
   "language": "python",
   "name": "python2"
  },
  "language_info": {
   "codemirror_mode": {
    "name": "ipython",
    "version": 2
   },
   "file_extension": ".py",
   "mimetype": "text/x-python",
   "name": "python",
   "nbconvert_exporter": "python",
   "pygments_lexer": "ipython2",
   "version": "2.7.15"
  }
 },
 "nbformat": 4,
 "nbformat_minor": 2
}
