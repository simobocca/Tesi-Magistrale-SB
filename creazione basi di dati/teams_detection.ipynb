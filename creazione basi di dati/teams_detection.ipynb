{
 "cells": [
  {
   "cell_type": "markdown",
   "metadata": {},
   "source": [
    "# CREAZIONE DATASET DEI TEAMS"
   ]
  },
  {
   "cell_type": "code",
   "execution_count": 4,
   "metadata": {},
   "outputs": [],
   "source": [
    "import pymongo\n",
    "from pymongo import MongoClient\n",
    "\n",
    "from pandas import DataFrame, read_csv\n",
    "import json\n",
    "import matplotlib.pyplot as plt\n",
    "import pandas as pd #this is how I usually import pandas\n",
    "import sys #only needed to determine Python version number\n",
    "import matplotlib #only needed to determine Matplotlib version number\n",
    "\n",
    "import ast\n",
    "import time\n",
    "from datetime import datetime\n",
    "\n",
    "import pygraphviz as pgv\n",
    "\n",
    "client = MongoClient('mongodb://127.0.0.1:27017')\n",
    "db = client.sample"
   ]
  },
  {
   "cell_type": "code",
   "execution_count": 5,
   "metadata": {},
   "outputs": [],
   "source": [
    "cu = db.users.find()\n",
    "cs = db.shots.find()\n",
    "cf = db.followers.find()\n",
    "cl = db.likes.find()\n",
    "ct = db.teams.find()"
   ]
  },
  {
   "cell_type": "code",
   "execution_count": 6,
   "metadata": {},
   "outputs": [
    {
     "data": {
      "text/plain": [
       "{u'_id': ObjectId('5bb24252e2850523d71d356d'),\n",
       " u'bio': u'Web &amp; UX/UI designer arestov.design@gmail.com',\n",
       " u'buckets_count': 5,\n",
       " u'comments_received_count': 101,\n",
       " u'created_at': 1416216907,\n",
       " u'followers_count': 1106,\n",
       " u'followings_count': 746,\n",
       " u'id': 695302,\n",
       " u'likes_count': 5456,\n",
       " u'likes_received_count': 4872,\n",
       " u'location': u'Moscow, Russia',\n",
       " u'name': u'Leonid Arestov',\n",
       " u'projects_count': 4,\n",
       " u'rebounds_received_count': 7,\n",
       " u'shots_count': 65,\n",
       " u'teams_count': 0,\n",
       " u'teams_url': u'https://api.dribbble.com/v1/users/695302/teams',\n",
       " u'updated_at': 1513060644,\n",
       " u'username': u'arestov_design'}"
      ]
     },
     "execution_count": 6,
     "metadata": {},
     "output_type": "execute_result"
    }
   ],
   "source": [
    "db.users.find()[0]"
   ]
  },
  {
   "cell_type": "code",
   "execution_count": 13,
   "metadata": {},
   "outputs": [
    {
     "ename": "IndexError",
     "evalue": "no such item for Cursor instance",
     "output_type": "error",
     "traceback": [
      "\u001b[0;31m---------------------------------------------------------------------------\u001b[0m",
      "\u001b[0;31mIndexError\u001b[0m                                Traceback (most recent call last)",
      "\u001b[0;32m<ipython-input-13-1418c0e52e10>\u001b[0m in \u001b[0;36m<module>\u001b[0;34m()\u001b[0m\n\u001b[0;32m----> 1\u001b[0;31m \u001b[0mdb\u001b[0m\u001b[0;34m.\u001b[0m\u001b[0muser\u001b[0m\u001b[0;34m.\u001b[0m\u001b[0mfind\u001b[0m\u001b[0;34m(\u001b[0m\u001b[0;34m{\u001b[0m\u001b[0;34m'id'\u001b[0m\u001b[0;34m:\u001b[0m\u001b[0;36m43059626\u001b[0m\u001b[0;34m}\u001b[0m\u001b[0;34m)\u001b[0m\u001b[0;34m[\u001b[0m\u001b[0;36m0\u001b[0m\u001b[0;34m]\u001b[0m\u001b[0;34m\u001b[0m\u001b[0m\n\u001b[0m",
      "\u001b[0;32m/home/simo/anaconda2/lib/python2.7/site-packages/pymongo/cursor.pyc\u001b[0m in \u001b[0;36m__getitem__\u001b[0;34m(self, index)\u001b[0m\n\u001b[1;32m    610\u001b[0m             \u001b[0;32mfor\u001b[0m \u001b[0mdoc\u001b[0m \u001b[0;32min\u001b[0m \u001b[0mclone\u001b[0m\u001b[0;34m:\u001b[0m\u001b[0;34m\u001b[0m\u001b[0m\n\u001b[1;32m    611\u001b[0m                 \u001b[0;32mreturn\u001b[0m \u001b[0mdoc\u001b[0m\u001b[0;34m\u001b[0m\u001b[0m\n\u001b[0;32m--> 612\u001b[0;31m             \u001b[0;32mraise\u001b[0m \u001b[0mIndexError\u001b[0m\u001b[0;34m(\u001b[0m\u001b[0;34m\"no such item for Cursor instance\"\u001b[0m\u001b[0;34m)\u001b[0m\u001b[0;34m\u001b[0m\u001b[0m\n\u001b[0m\u001b[1;32m    613\u001b[0m         raise TypeError(\"index %r cannot be applied to Cursor \"\n\u001b[1;32m    614\u001b[0m                         \"instances\" % index)\n",
      "\u001b[0;31mIndexError\u001b[0m: no such item for Cursor instance"
     ]
    }
   ],
   "source": [
    "db.user.find({'id':43059626})[0]"
   ]
  },
  {
   "cell_type": "code",
   "execution_count": null,
   "metadata": {},
   "outputs": [],
   "source": [
    "res = db.users.find({'teams_count': {'$gt':0}})\n",
    "res.count()"
   ]
  },
  {
   "cell_type": "code",
   "execution_count": null,
   "metadata": {
    "scrolled": false
   },
   "outputs": [],
   "source": [
    "res = db.shots.find({'username': 'AdrienDuchateau'})\n",
    "print len(res[0]['shots'])\n",
    "i=0\n",
    "for elem in res[0]['shots']:\n",
    "    if elem['team'] != None:\n",
    "        print elem['team']\n",
    "        break"
   ]
  },
  {
   "cell_type": "markdown",
   "metadata": {},
   "source": [
    "### CREAZIONE COLLECTION Teams"
   ]
  },
  {
   "cell_type": "code",
   "execution_count": null,
   "metadata": {},
   "outputs": [],
   "source": [
    "def add_team(team):    \n",
    "\n",
    "    json_elem = json.loads(json.dumps(team))\n",
    "\n",
    "    try:\n",
    "        \n",
    "        d = datetime.strptime(json_elem['created_at'], '%Y-%m-%dT%H:%M:%SZ')\n",
    "        unixtime = time.mktime(d.timetuple())\n",
    "        json_elem['created_at'] = int(unixtime)\n",
    "\n",
    "        d = datetime.strptime(json_elem['updated_at'], '%Y-%m-%dT%H:%M:%SZ')\n",
    "        unixtime = time.mktime(d.timetuple())\n",
    "        json_elem['updated_at'] = int(unixtime)\n",
    "    \n",
    "    except:\n",
    "        print 'date error !!'\n",
    "        \n",
    "    db.teams.insert_one(json_elem)\n"
   ]
  },
  {
   "cell_type": "code",
   "execution_count": null,
   "metadata": {},
   "outputs": [],
   "source": [
    "%%time\n",
    "\n",
    "db.drop_collection('teams')\n",
    "cs = db.shots.find()\n",
    "\n",
    "for elem in cs:\n",
    "    shots = elem['shots']\n",
    "    for s in shots:\n",
    "        if s['team'] != None:\n",
    "            if db.teams.find({'id': s['team']['id']}).count() == 0:\n",
    "                add_team(s['team'])\n",
    "    "
   ]
  },
  {
   "cell_type": "markdown",
   "metadata": {},
   "source": [
    "### Creazione grafi rappresentazione teams\n"
   ]
  },
  {
   "cell_type": "markdown",
   "metadata": {},
   "source": [
    "### team - team"
   ]
  },
  {
   "cell_type": "code",
   "execution_count": 3,
   "metadata": {},
   "outputs": [],
   "source": [
    "def find_teams_in_shots(shots):    \n",
    "    teams = []\n",
    "    if len(shots) > 0:\n",
    "        for s in shots:\n",
    "            if s['team'] != None:\n",
    "                if s['team']['username'] not in teams:\n",
    "                    teams.append(s['team']['username'])\n",
    "\n",
    "    return teams"
   ]
  },
  {
   "cell_type": "code",
   "execution_count": 4,
   "metadata": {},
   "outputs": [],
   "source": [
    "def link(g, nodes):\n",
    "    for a in nodes:\n",
    "        g.add_node(a)\n",
    "        for b in nodes:\n",
    "            if b!=a:\n",
    "                g.add_node(b) \n",
    "                g.add_edge(a,b)\n",
    "\n",
    "    return g "
   ]
  },
  {
   "cell_type": "code",
   "execution_count": 5,
   "metadata": {},
   "outputs": [
    {
     "name": "stdout",
     "output_type": "stream",
     "text": [
      "CPU times: user 26.6 s, sys: 3.78 s, total: 30.4 s\n",
      "Wall time: 32 s\n"
     ]
    }
   ],
   "source": [
    "%%time\n",
    "\n",
    "g=pgv.AGraph()\n",
    "\n",
    "\n",
    "for elem in cs:\n",
    "    shots = elem['shots']\n",
    "    teams = find_teams_in_shots(shots)\n",
    "    g = link(g, teams)\n",
    "\n",
    "\n",
    "g.write('teamsGraph_test.dot')"
   ]
  },
  {
   "cell_type": "code",
   "execution_count": 8,
   "metadata": {},
   "outputs": [
    {
     "name": "stdout",
     "output_type": "stream",
     "text": [
      "4058\n",
      "4055\n"
     ]
    },
    {
     "name": "stderr",
     "output_type": "stream",
     "text": [
      "/home/simo/anaconda2/lib/python2.7/site-packages/ipykernel_launcher.py:2: DeprecationWarning: count is deprecated. Use Collection.count_documents instead.\n",
      "  \n"
     ]
    }
   ],
   "source": [
    "print len(g.nodes())\n",
    "print db.teams.find().count()\n",
    "\n",
    "temp_teams = []\n",
    "for t in db.teams.find():\n",
    "    temp_teams.append(t['username'])"
   ]
  },
  {
   "cell_type": "code",
   "execution_count": 10,
   "metadata": {},
   "outputs": [
    {
     "name": "stdout",
     "output_type": "stream",
     "text": [
      "horizond\n",
      "MrzDesignStudio\n",
      "PRFTDigitalLabs\n"
     ]
    }
   ],
   "source": [
    "for n in g.nodes():\n",
    "    if n not in temp_teams:\n",
    "        print n"
   ]
  },
  {
   "cell_type": "markdown",
   "metadata": {},
   "source": [
    "### user - user (solo utenti che appartengono a un team)"
   ]
  },
  {
   "cell_type": "code",
   "execution_count": null,
   "metadata": {},
   "outputs": [],
   "source": [
    "def find_team_users(team):\n",
    "    users = db.shots.find(\n",
    "        {'shots': {\n",
    "        '$all':[{\n",
    "                '$elemMatch': {'team.username': team}\n",
    "                }]\n",
    "            }}\n",
    "    )\n",
    "    \n",
    "    usernames = []\n",
    "    for u in users:\n",
    "        usernames.append(u['username'])\n",
    "        \n",
    "    return usernames"
   ]
  },
  {
   "cell_type": "code",
   "execution_count": null,
   "metadata": {
    "scrolled": true
   },
   "outputs": [],
   "source": [
    "%%time\n",
    "import pygraphviz as pgv\n",
    "\n",
    "g = pgv.AGraph()\n",
    "\n",
    "i=0\n",
    "\n",
    "for team in ct:\n",
    "    users = find_team_users(team['username'])\n",
    "    g = link(g, users)\n",
    "\n",
    "    i=i+1\n",
    "    print i\n",
    "    \n",
    "    \n",
    "g.write('usersGraph.dot')"
   ]
  },
  {
   "cell_type": "code",
   "execution_count": null,
   "metadata": {},
   "outputs": [],
   "source": [
    "db.shots.find({'username': 'darianedwards'})[0]"
   ]
  },
  {
   "cell_type": "markdown",
   "metadata": {},
   "source": [
    "### Trovare data di prima pubblicazione di uno user in un team\n",
    "### Creazione dataset 'user_team_first_shot' dove memorizzo per ogni utente e per ogni team di tale utente quando è stato il primo shots di tale utente in tale team"
   ]
  },
  {
   "cell_type": "code",
   "execution_count": null,
   "metadata": {},
   "outputs": [],
   "source": [
    "%%time\n",
    "\n",
    "i=0\n",
    "\n",
    "user_with_shots = db.shots.find({'shots': {'$not': {'$size': 0}}})\n",
    "\n",
    "for u in user_with_shots:\n",
    "    teams = find_teams_in_shots(u['shots'])\n",
    "    \n",
    "    for t in teams:\n",
    "        mindate = 10000000000\n",
    "        for s in u['shots']:\n",
    "            if s['team'] != None and s['team']['username'] == t:\n",
    "\n",
    "                if s['created_at'] < mindate:\n",
    "                    mindate = s['created_at']\n",
    "\n",
    "             \n",
    "        #print 'USER: ',u['username']\n",
    "        #print 'TEAM: ',t\n",
    "        #print 'MIN: ',mindate\n",
    "        elem = {'user': u['username'], 'team': t, 'date': mindate}\n",
    "        \n",
    "        db.user_team_first_shot.insert_one(elem)\n",
    "        \n",
    "\n",
    "            \n",
    "    i=i+1\n",
    "    print i\n",
    "    \n"
   ]
  },
  {
   "cell_type": "code",
   "execution_count": null,
   "metadata": {},
   "outputs": [],
   "source": [
    "user = db.shots.find({'shots': {'$not': {'$size': 0}}})\n",
    "user[0]"
   ]
  },
  {
   "cell_type": "code",
   "execution_count": null,
   "metadata": {},
   "outputs": [],
   "source": [
    "cut = db.user_team_first_shot.find()\n",
    "print cut.count()\n",
    "for e in cut:\n",
    "    print e"
   ]
  }
 ],
 "metadata": {
  "kernelspec": {
   "display_name": "Python 2",
   "language": "python",
   "name": "python2"
  },
  "language_info": {
   "codemirror_mode": {
    "name": "ipython",
    "version": 2
   },
   "file_extension": ".py",
   "mimetype": "text/x-python",
   "name": "python",
   "nbconvert_exporter": "python",
   "pygments_lexer": "ipython2",
   "version": "2.7.15"
  }
 },
 "nbformat": 4,
 "nbformat_minor": 2
}
